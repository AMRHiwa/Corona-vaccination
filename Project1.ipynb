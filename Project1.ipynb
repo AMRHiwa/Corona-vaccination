{
 "cells": [
  {
   "cell_type": "markdown",
   "metadata": {},
   "source": [
    "<img src=\"https://webna.ir/wp-content/uploads/2018/08/%D9%85%DA%A9%D8%AA%D8%A8-%D8%AE%D9%88%D9%86%D9%87.png\" width=50% />"
   ]
  },
  {
   "cell_type": "markdown",
   "metadata": {},
   "source": [
    "<div class=\"alert alert-block alert-success\">\n",
    "    <h1 align=\"center\">Machine Learning in Python</h1>\n",
    "    <h3 align=\"center\">Project1</h3>\n",
    "</div>"
   ]
  },
  {
   "cell_type": "markdown",
   "metadata": {},
   "source": [
    "<img src = \"https://www.eesc.europa.eu/sites/default/files/styles/large/public/images/shutterstock_1642888921.jpg?itok=P9-6YhGd\" width=50%>"
   ]
  },
  {
   "cell_type": "markdown",
   "metadata": {},
   "source": [
    "## Importing the libraries"
   ]
  },
  {
   "cell_type": "code",
   "execution_count": 1,
   "metadata": {},
   "outputs": [
    {
     "data": {
      "text/html": [
       "        <script type=\"text/javascript\">\n",
       "        window.PlotlyConfig = {MathJaxConfig: 'local'};\n",
       "        if (window.MathJax && window.MathJax.Hub && window.MathJax.Hub.Config) {window.MathJax.Hub.Config({SVG: {font: \"STIX-Web\"}});}\n",
       "        if (typeof require !== 'undefined') {\n",
       "        require.undef(\"plotly\");\n",
       "        requirejs.config({\n",
       "            paths: {\n",
       "                'plotly': ['https://cdn.plot.ly/plotly-2.12.1.min']\n",
       "            }\n",
       "        });\n",
       "        require(['plotly'], function(Plotly) {\n",
       "            window._Plotly = Plotly;\n",
       "        });\n",
       "        }\n",
       "        </script>\n",
       "        "
      ]
     },
     "metadata": {},
     "output_type": "display_data"
    }
   ],
   "source": [
    "import numpy as np\n",
    "import pandas as pd\n",
    "import matplotlib.pyplot as plt\n",
    "import seaborn as sb\n",
    "%matplotlib inline\n",
    "\n",
    "import warnings\n",
    "warnings.filterwarnings(\"ignore\")\n",
    "\n",
    "\n",
    "\n",
    "import plotly.graph_objs as go\n",
    "import plotly.figure_factory as ff\n",
    "from plotly import tools\n",
    "from plotly.offline import download_plotlyjs, init_notebook_mode, plot, iplot\n",
    "import plotly.express as px\n",
    "init_notebook_mode(connected=True)"
   ]
  },
  {
   "cell_type": "markdown",
   "metadata": {},
   "source": [
    "## Load and Prepare Data"
   ]
  },
  {
   "cell_type": "code",
   "execution_count": 2,
   "metadata": {},
   "outputs": [
    {
     "data": {
      "text/html": [
       "<div>\n",
       "<style scoped>\n",
       "    .dataframe tbody tr th:only-of-type {\n",
       "        vertical-align: middle;\n",
       "    }\n",
       "\n",
       "    .dataframe tbody tr th {\n",
       "        vertical-align: top;\n",
       "    }\n",
       "\n",
       "    .dataframe thead th {\n",
       "        text-align: right;\n",
       "    }\n",
       "</style>\n",
       "<table border=\"1\" class=\"dataframe\">\n",
       "  <thead>\n",
       "    <tr style=\"text-align: right;\">\n",
       "      <th></th>\n",
       "      <th>country</th>\n",
       "      <th>iso_code</th>\n",
       "      <th>date</th>\n",
       "      <th>total_vaccinations</th>\n",
       "      <th>people_vaccinated</th>\n",
       "      <th>people_fully_vaccinated</th>\n",
       "      <th>daily_vaccinations_raw</th>\n",
       "      <th>daily_vaccinations</th>\n",
       "      <th>total_vaccinations_per_hundred</th>\n",
       "      <th>people_vaccinated_per_hundred</th>\n",
       "      <th>people_fully_vaccinated_per_hundred</th>\n",
       "      <th>daily_vaccinations_per_million</th>\n",
       "      <th>vaccines</th>\n",
       "      <th>source_name</th>\n",
       "      <th>source_website</th>\n",
       "    </tr>\n",
       "  </thead>\n",
       "  <tbody>\n",
       "    <tr>\n",
       "      <th>16272</th>\n",
       "      <td>Liechtenstein</td>\n",
       "      <td>LIE</td>\n",
       "      <td>2021-03-06</td>\n",
       "      <td>3128.0</td>\n",
       "      <td>2308.0</td>\n",
       "      <td>820.0</td>\n",
       "      <td>0.0</td>\n",
       "      <td>75.0</td>\n",
       "      <td>8.20</td>\n",
       "      <td>6.05</td>\n",
       "      <td>2.15</td>\n",
       "      <td>1967.0</td>\n",
       "      <td>Moderna, Pfizer/BioNTech</td>\n",
       "      <td>Federal Office of Public Health</td>\n",
       "      <td>https://www.covid19.admin.ch/en/epidemiologic/...</td>\n",
       "    </tr>\n",
       "    <tr>\n",
       "      <th>6539</th>\n",
       "      <td>Croatia</td>\n",
       "      <td>HRV</td>\n",
       "      <td>2021-03-15</td>\n",
       "      <td>NaN</td>\n",
       "      <td>NaN</td>\n",
       "      <td>NaN</td>\n",
       "      <td>NaN</td>\n",
       "      <td>9031.0</td>\n",
       "      <td>NaN</td>\n",
       "      <td>NaN</td>\n",
       "      <td>NaN</td>\n",
       "      <td>2200.0</td>\n",
       "      <td>Moderna, Oxford/AstraZeneca, Pfizer/BioNTech</td>\n",
       "      <td>Ministry of Health</td>\n",
       "      <td>https://www.koronavirus.hr</td>\n",
       "    </tr>\n",
       "    <tr>\n",
       "      <th>30749</th>\n",
       "      <td>Wales</td>\n",
       "      <td>OWID_WLS</td>\n",
       "      <td>2021-05-05</td>\n",
       "      <td>2683297.0</td>\n",
       "      <td>1884372.0</td>\n",
       "      <td>798925.0</td>\n",
       "      <td>27025.0</td>\n",
       "      <td>19172.0</td>\n",
       "      <td>85.11</td>\n",
       "      <td>59.77</td>\n",
       "      <td>25.34</td>\n",
       "      <td>6081.0</td>\n",
       "      <td>Moderna, Oxford/AstraZeneca, Pfizer/BioNTech</td>\n",
       "      <td>Government of the United Kingdom</td>\n",
       "      <td>https://coronavirus.data.gov.uk/details/vaccin...</td>\n",
       "    </tr>\n",
       "    <tr>\n",
       "      <th>23684</th>\n",
       "      <td>Saint Helena</td>\n",
       "      <td>SHN</td>\n",
       "      <td>2021-02-06</td>\n",
       "      <td>NaN</td>\n",
       "      <td>NaN</td>\n",
       "      <td>NaN</td>\n",
       "      <td>NaN</td>\n",
       "      <td>75.0</td>\n",
       "      <td>NaN</td>\n",
       "      <td>NaN</td>\n",
       "      <td>NaN</td>\n",
       "      <td>12354.0</td>\n",
       "      <td>Oxford/AstraZeneca</td>\n",
       "      <td>Government of Saint Helena</td>\n",
       "      <td>https://www.sainthelena.gov.sh/2021/news/preli...</td>\n",
       "    </tr>\n",
       "    <tr>\n",
       "      <th>10062</th>\n",
       "      <td>Gabon</td>\n",
       "      <td>GAB</td>\n",
       "      <td>2021-04-15</td>\n",
       "      <td>NaN</td>\n",
       "      <td>NaN</td>\n",
       "      <td>NaN</td>\n",
       "      <td>NaN</td>\n",
       "      <td>233.0</td>\n",
       "      <td>NaN</td>\n",
       "      <td>NaN</td>\n",
       "      <td>NaN</td>\n",
       "      <td>105.0</td>\n",
       "      <td>Sinopharm/Beijing</td>\n",
       "      <td>Africa Centres for Disease Control and Prevention</td>\n",
       "      <td>https://covid19.who.int/</td>\n",
       "    </tr>\n",
       "    <tr>\n",
       "      <th>5132</th>\n",
       "      <td>Cayman Islands</td>\n",
       "      <td>CYM</td>\n",
       "      <td>2021-02-27</td>\n",
       "      <td>NaN</td>\n",
       "      <td>NaN</td>\n",
       "      <td>NaN</td>\n",
       "      <td>NaN</td>\n",
       "      <td>559.0</td>\n",
       "      <td>NaN</td>\n",
       "      <td>NaN</td>\n",
       "      <td>NaN</td>\n",
       "      <td>8506.0</td>\n",
       "      <td>Oxford/AstraZeneca, Pfizer/BioNTech</td>\n",
       "      <td>Cayman Islands Government</td>\n",
       "      <td>https://www.exploregov.ky/coronavirus-statistics</td>\n",
       "    </tr>\n",
       "    <tr>\n",
       "      <th>15272</th>\n",
       "      <td>Kuwait</td>\n",
       "      <td>KWT</td>\n",
       "      <td>2021-04-21</td>\n",
       "      <td>NaN</td>\n",
       "      <td>NaN</td>\n",
       "      <td>NaN</td>\n",
       "      <td>NaN</td>\n",
       "      <td>15861.0</td>\n",
       "      <td>NaN</td>\n",
       "      <td>NaN</td>\n",
       "      <td>NaN</td>\n",
       "      <td>3714.0</td>\n",
       "      <td>Pfizer/BioNTech</td>\n",
       "      <td>Ministry of Health</td>\n",
       "      <td>https://twitter.com/KUWAIT_MOH/status/14117771...</td>\n",
       "    </tr>\n",
       "    <tr>\n",
       "      <th>10294</th>\n",
       "      <td>Georgia</td>\n",
       "      <td>GEO</td>\n",
       "      <td>2021-03-28</td>\n",
       "      <td>NaN</td>\n",
       "      <td>NaN</td>\n",
       "      <td>NaN</td>\n",
       "      <td>NaN</td>\n",
       "      <td>328.0</td>\n",
       "      <td>NaN</td>\n",
       "      <td>NaN</td>\n",
       "      <td>NaN</td>\n",
       "      <td>82.0</td>\n",
       "      <td>Oxford/AstraZeneca</td>\n",
       "      <td>National Center for Disease Control and Public...</td>\n",
       "      <td>https://www.facebook.com/ncdcgeorgia/photos/a....</td>\n",
       "    </tr>\n",
       "    <tr>\n",
       "      <th>1593</th>\n",
       "      <td>Australia</td>\n",
       "      <td>AUS</td>\n",
       "      <td>2021-06-23</td>\n",
       "      <td>6860276.0</td>\n",
       "      <td>5745875.0</td>\n",
       "      <td>1114401.0</td>\n",
       "      <td>140892.0</td>\n",
       "      <td>110994.0</td>\n",
       "      <td>26.90</td>\n",
       "      <td>22.53</td>\n",
       "      <td>4.37</td>\n",
       "      <td>4353.0</td>\n",
       "      <td>Oxford/AstraZeneca, Pfizer/BioNTech</td>\n",
       "      <td>Government of Australia via covidlive.com.au</td>\n",
       "      <td>https://covidlive.com.au/vaccinations</td>\n",
       "    </tr>\n",
       "    <tr>\n",
       "      <th>2903</th>\n",
       "      <td>Belgium</td>\n",
       "      <td>BEL</td>\n",
       "      <td>2021-04-01</td>\n",
       "      <td>2081217.0</td>\n",
       "      <td>1497291.0</td>\n",
       "      <td>585125.0</td>\n",
       "      <td>101702.0</td>\n",
       "      <td>48172.0</td>\n",
       "      <td>17.96</td>\n",
       "      <td>12.92</td>\n",
       "      <td>5.05</td>\n",
       "      <td>4156.0</td>\n",
       "      <td>Johnson&amp;Johnson, Moderna, Oxford/AstraZeneca, ...</td>\n",
       "      <td>Sciensano</td>\n",
       "      <td>https://epistat.wiv-isp.be/covid/</td>\n",
       "    </tr>\n",
       "  </tbody>\n",
       "</table>\n",
       "</div>"
      ],
      "text/plain": [
       "              country  iso_code        date  total_vaccinations  \\\n",
       "16272   Liechtenstein       LIE  2021-03-06              3128.0   \n",
       "6539          Croatia       HRV  2021-03-15                 NaN   \n",
       "30749           Wales  OWID_WLS  2021-05-05           2683297.0   \n",
       "23684    Saint Helena       SHN  2021-02-06                 NaN   \n",
       "10062           Gabon       GAB  2021-04-15                 NaN   \n",
       "5132   Cayman Islands       CYM  2021-02-27                 NaN   \n",
       "15272          Kuwait       KWT  2021-04-21                 NaN   \n",
       "10294         Georgia       GEO  2021-03-28                 NaN   \n",
       "1593        Australia       AUS  2021-06-23           6860276.0   \n",
       "2903          Belgium       BEL  2021-04-01           2081217.0   \n",
       "\n",
       "       people_vaccinated  people_fully_vaccinated  daily_vaccinations_raw  \\\n",
       "16272             2308.0                    820.0                     0.0   \n",
       "6539                 NaN                      NaN                     NaN   \n",
       "30749          1884372.0                 798925.0                 27025.0   \n",
       "23684                NaN                      NaN                     NaN   \n",
       "10062                NaN                      NaN                     NaN   \n",
       "5132                 NaN                      NaN                     NaN   \n",
       "15272                NaN                      NaN                     NaN   \n",
       "10294                NaN                      NaN                     NaN   \n",
       "1593           5745875.0                1114401.0                140892.0   \n",
       "2903           1497291.0                 585125.0                101702.0   \n",
       "\n",
       "       daily_vaccinations  total_vaccinations_per_hundred  \\\n",
       "16272                75.0                            8.20   \n",
       "6539               9031.0                             NaN   \n",
       "30749             19172.0                           85.11   \n",
       "23684                75.0                             NaN   \n",
       "10062               233.0                             NaN   \n",
       "5132                559.0                             NaN   \n",
       "15272             15861.0                             NaN   \n",
       "10294               328.0                             NaN   \n",
       "1593             110994.0                           26.90   \n",
       "2903              48172.0                           17.96   \n",
       "\n",
       "       people_vaccinated_per_hundred  people_fully_vaccinated_per_hundred  \\\n",
       "16272                           6.05                                 2.15   \n",
       "6539                             NaN                                  NaN   \n",
       "30749                          59.77                                25.34   \n",
       "23684                            NaN                                  NaN   \n",
       "10062                            NaN                                  NaN   \n",
       "5132                             NaN                                  NaN   \n",
       "15272                            NaN                                  NaN   \n",
       "10294                            NaN                                  NaN   \n",
       "1593                           22.53                                 4.37   \n",
       "2903                           12.92                                 5.05   \n",
       "\n",
       "       daily_vaccinations_per_million  \\\n",
       "16272                          1967.0   \n",
       "6539                           2200.0   \n",
       "30749                          6081.0   \n",
       "23684                         12354.0   \n",
       "10062                           105.0   \n",
       "5132                           8506.0   \n",
       "15272                          3714.0   \n",
       "10294                            82.0   \n",
       "1593                           4353.0   \n",
       "2903                           4156.0   \n",
       "\n",
       "                                                vaccines  \\\n",
       "16272                           Moderna, Pfizer/BioNTech   \n",
       "6539        Moderna, Oxford/AstraZeneca, Pfizer/BioNTech   \n",
       "30749       Moderna, Oxford/AstraZeneca, Pfizer/BioNTech   \n",
       "23684                                 Oxford/AstraZeneca   \n",
       "10062                                  Sinopharm/Beijing   \n",
       "5132                 Oxford/AstraZeneca, Pfizer/BioNTech   \n",
       "15272                                    Pfizer/BioNTech   \n",
       "10294                                 Oxford/AstraZeneca   \n",
       "1593                 Oxford/AstraZeneca, Pfizer/BioNTech   \n",
       "2903   Johnson&Johnson, Moderna, Oxford/AstraZeneca, ...   \n",
       "\n",
       "                                             source_name  \\\n",
       "16272                    Federal Office of Public Health   \n",
       "6539                                  Ministry of Health   \n",
       "30749                   Government of the United Kingdom   \n",
       "23684                         Government of Saint Helena   \n",
       "10062  Africa Centres for Disease Control and Prevention   \n",
       "5132                           Cayman Islands Government   \n",
       "15272                                 Ministry of Health   \n",
       "10294  National Center for Disease Control and Public...   \n",
       "1593        Government of Australia via covidlive.com.au   \n",
       "2903                                           Sciensano   \n",
       "\n",
       "                                          source_website  \n",
       "16272  https://www.covid19.admin.ch/en/epidemiologic/...  \n",
       "6539                          https://www.koronavirus.hr  \n",
       "30749  https://coronavirus.data.gov.uk/details/vaccin...  \n",
       "23684  https://www.sainthelena.gov.sh/2021/news/preli...  \n",
       "10062                           https://covid19.who.int/  \n",
       "5132    https://www.exploregov.ky/coronavirus-statistics  \n",
       "15272  https://twitter.com/KUWAIT_MOH/status/14117771...  \n",
       "10294  https://www.facebook.com/ncdcgeorgia/photos/a....  \n",
       "1593               https://covidlive.com.au/vaccinations  \n",
       "2903                   https://epistat.wiv-isp.be/covid/  "
      ]
     },
     "execution_count": 2,
     "metadata": {},
     "output_type": "execute_result"
    }
   ],
   "source": [
    "data = pd.read_csv('country_vaccinations.csv')\n",
    "df = data \n",
    "df.sample(10)"
   ]
  },
  {
   "cell_type": "markdown",
   "metadata": {},
   "source": [
    "## EDA"
   ]
  },
  {
   "cell_type": "code",
   "execution_count": 3,
   "metadata": {},
   "outputs": [
    {
     "name": "stdout",
     "output_type": "stream",
     "text": [
      "<class 'pandas.core.frame.DataFrame'>\n",
      "RangeIndex: 31240 entries, 0 to 31239\n",
      "Data columns (total 15 columns):\n",
      " #   Column                               Non-Null Count  Dtype  \n",
      "---  ------                               --------------  -----  \n",
      " 0   country                              31240 non-null  object \n",
      " 1   iso_code                             31240 non-null  object \n",
      " 2   date                                 31240 non-null  object \n",
      " 3   total_vaccinations                   17451 non-null  float64\n",
      " 4   people_vaccinated                    16554 non-null  float64\n",
      " 5   people_fully_vaccinated              13795 non-null  float64\n",
      " 6   daily_vaccinations_raw               14421 non-null  float64\n",
      " 7   daily_vaccinations                   30948 non-null  float64\n",
      " 8   total_vaccinations_per_hundred       17451 non-null  float64\n",
      " 9   people_vaccinated_per_hundred        16554 non-null  float64\n",
      " 10  people_fully_vaccinated_per_hundred  13795 non-null  float64\n",
      " 11  daily_vaccinations_per_million       30948 non-null  float64\n",
      " 12  vaccines                             31240 non-null  object \n",
      " 13  source_name                          31240 non-null  object \n",
      " 14  source_website                       31240 non-null  object \n",
      "dtypes: float64(9), object(6)\n",
      "memory usage: 3.6+ MB\n"
     ]
    }
   ],
   "source": [
    "df.info()"
   ]
  },
  {
   "cell_type": "code",
   "execution_count": 4,
   "metadata": {},
   "outputs": [],
   "source": [
    "data_df = pd.read_csv(\"country_vaccinations.csv\")\n",
    "\n",
    "country_vaccine = data_df.groupby([\"country\", \"iso_code\", \"vaccines\"])['total_vaccinations', \n",
    "                                                                       'total_vaccinations_per_hundred',\n",
    "                                                                      'daily_vaccinations',\n",
    "                                                                      'daily_vaccinations_per_million',\n",
    "                                                                      'people_vaccinated',\n",
    "                                                                      'people_vaccinated_per_hundred',\n",
    "                                                                       'people_fully_vaccinated', 'people_fully_vaccinated_per_hundred'\n",
    "                                                                      ].max().reset_index()\n",
    "country_vaccine.columns = [\"Country\", \"iso_code\", \"Vaccines\", \"Total vaccinations\", \"Percent\", \"Daily vaccinations\", \n",
    "                           \"Daily vaccinations per million\", \"People vaccinated\", \"People vaccinated per hundred\",\n",
    "                           'People fully vaccinated', 'People fully vaccinated percent']\n",
    "\n"
   ]
  },
  {
   "cell_type": "code",
   "execution_count": 5,
   "metadata": {},
   "outputs": [
    {
     "name": "stdout",
     "output_type": "stream",
     "text": [
      "Vaccines: Johnson&Johnson, Oxford/AstraZeneca, Pfizer/BioNTech, Sinopharm/Beijing: \n",
      "Countries: ['Afghanistan']\n",
      "\n",
      "Vaccines: Oxford/AstraZeneca, Pfizer/BioNTech, Sinovac, Sputnik V: \n",
      "Countries: ['Albania', 'Bosnia and Herzegovina', 'Oman', 'Tunisia']\n",
      "\n",
      "Vaccines: Oxford/AstraZeneca, Sputnik V: \n",
      "Countries: ['Algeria', 'Ghana', 'Guyana', 'Kenya', 'Nicaragua']\n",
      "\n",
      "Vaccines: Oxford/AstraZeneca, Pfizer/BioNTech: \n",
      "Countries: ['Andorra', 'Australia', 'Bermuda', 'Bhutan', 'Cape Verde', 'Cayman Islands', 'Costa Rica', 'Isle of Man', 'Panama', 'Saudi Arabia', 'Slovenia', 'Sweden']\n",
      "\n",
      "Vaccines: Oxford/AstraZeneca: \n",
      "Countries: ['Angola', 'Anguilla', 'Antigua and Barbuda', 'Bahamas', 'Barbados', 'Botswana', 'British Virgin Islands', 'Burkina Faso', 'Cook Islands', \"Cote d'Ivoire\", 'Democratic Republic of Congo', 'Eswatini', 'Ethiopia', 'Falkland Islands', 'Fiji', 'French Polynesia', 'Georgia', 'Grenada', 'Jamaica', 'Kosovo', 'Lesotho', 'Liberia', 'Madagascar', 'Malawi', 'Mali', 'Montserrat', 'Nauru', 'Nigeria', 'Niue', 'Pitcairn', 'Saint Helena', 'Saint Kitts and Nevis', 'Saint Lucia', 'Saint Vincent and the Grenadines', 'Samoa', 'Sao Tome and Principe', 'Solomon Islands', 'South Sudan', 'Suriname', 'Togo', 'Tonga', 'Trinidad and Tobago', 'Tuvalu', 'Uganda', 'Vanuatu', 'Wallis and Futuna', 'Yemen']\n",
      "\n",
      "Vaccines: Oxford/AstraZeneca, Sinopharm/Beijing, Sputnik V: \n",
      "Countries: ['Argentina', 'Sri Lanka', 'Syria']\n",
      "\n",
      "Vaccines: Oxford/AstraZeneca, Sinovac, Sputnik V: \n",
      "Countries: ['Armenia', 'Azerbaijan']\n",
      "\n",
      "Vaccines: Pfizer/BioNTech: \n",
      "Countries: ['Aruba', 'Gibraltar', 'Kuwait', 'Monaco', 'New Caledonia', 'New Zealand', 'Turks and Caicos Islands']\n",
      "\n",
      "Vaccines: Johnson&Johnson, Moderna, Oxford/AstraZeneca, Pfizer/BioNTech: \n",
      "Countries: ['Austria', 'Belgium', 'Bulgaria', 'Cyprus', 'Czechia', 'Estonia', 'France', 'Germany', 'Greece', 'Iceland', 'Ireland', 'Italy', 'Latvia', 'Lithuania', 'Malta', 'Netherlands', 'Poland', 'Portugal', 'Romania', 'South Korea', 'Spain']\n",
      "\n",
      "Vaccines: Oxford/AstraZeneca, Pfizer/BioNTech, Sinopharm/Beijing, Sputnik V: \n",
      "Countries: ['Bahrain', 'Bolivia', 'Iraq', 'Jordan', 'Lebanon', 'Moldova', 'Mongolia', 'Montenegro', 'Serbia']\n",
      "\n",
      "Vaccines: Oxford/AstraZeneca, Pfizer/BioNTech, Sinopharm/Beijing: \n",
      "Countries: ['Bangladesh', 'Maldives', 'Peru']\n",
      "\n",
      "Vaccines: Sinopharm/Beijing, Sputnik V: \n",
      "Countries: ['Belarus', 'Kyrgyzstan', 'Laos', 'Venezuela']\n",
      "\n",
      "Vaccines: Oxford/AstraZeneca, Sinopharm/Beijing: \n",
      "Countries: ['Belize', 'Brunei', 'Cameroon', 'Dominica', 'Gambia', 'Guinea-Bissau', 'Mauritania', 'Morocco', 'Mozambique', 'Myanmar', 'Namibia', 'Nepal', 'Niger', 'Papua New Guinea', 'Senegal', 'Seychelles', 'Sierra Leone', 'Vietnam', 'Zambia']\n",
      "\n",
      "Vaccines: Oxford/AstraZeneca, Sinovac: \n",
      "Countries: ['Benin', 'Indonesia', 'Tajikistan', 'Thailand', 'Timor']\n",
      "\n",
      "Vaccines: Moderna, Pfizer/BioNTech: \n",
      "Countries: ['Bonaire Sint Eustatius and Saba', 'Curacao', 'Faeroe Islands', 'Israel', 'Japan', 'Liechtenstein', 'Norway', 'Qatar', 'Switzerland']\n",
      "\n",
      "Vaccines: Johnson&Johnson, Oxford/AstraZeneca, Pfizer/BioNTech, Sinovac: \n",
      "Countries: ['Brazil']\n",
      "\n",
      "Vaccines: Oxford/AstraZeneca, Sinopharm/Beijing, Sinovac: \n",
      "Countries: ['Cambodia', 'Somalia']\n",
      "\n",
      "Vaccines: Moderna, Oxford/AstraZeneca, Pfizer/BioNTech: \n",
      "Countries: ['Canada', 'Croatia', 'England', 'Finland', 'Guernsey', 'Jersey', 'Luxembourg', 'Northern Ireland', 'Rwanda', 'Scotland', 'Sint Maarten (Dutch part)', 'Slovakia', 'United Kingdom', 'Wales']\n",
      "\n",
      "Vaccines: Covaxin, Oxford/AstraZeneca: \n",
      "Countries: ['Central African Republic']\n",
      "\n",
      "Vaccines: Sinopharm/Beijing: \n",
      "Countries: ['Chad', 'Equatorial Guinea', 'Gabon', 'Zimbabwe']\n",
      "\n",
      "Vaccines: CanSino, Oxford/AstraZeneca, Pfizer/BioNTech, Sinovac: \n",
      "Countries: ['Chile']\n",
      "\n",
      "Vaccines: CanSino, Sinopharm/Beijing, Sinopharm/Wuhan, Sinovac: \n",
      "Countries: ['China']\n",
      "\n",
      "Vaccines: Oxford/AstraZeneca, Pfizer/BioNTech, Sinovac: \n",
      "Countries: ['Colombia', 'Ecuador', 'El Salvador', 'Malaysia', 'Northern Cyprus', 'Ukraine', 'Uruguay']\n",
      "\n",
      "Vaccines: Covaxin, Oxford/AstraZeneca, Sinopharm/Beijing: \n",
      "Countries: ['Comoros', 'Mauritius']\n",
      "\n",
      "Vaccines: Moderna, Oxford/AstraZeneca, Sinopharm/Beijing, Sputnik V: \n",
      "Countries: ['Congo']\n",
      "\n",
      "Vaccines: Abdala, Soberana02: \n",
      "Countries: ['Cuba']\n",
      "\n",
      "Vaccines: Johnson&Johnson, Moderna, Pfizer/BioNTech: \n",
      "Countries: ['Denmark', 'United States']\n",
      "\n",
      "Vaccines: Oxford/AstraZeneca, Sinopharm/Beijing, Sinovac, Sputnik V: \n",
      "Countries: ['Djibouti', 'Egypt']\n",
      "\n",
      "Vaccines: Oxford/AstraZeneca, Pfizer/BioNTech, Sinopharm/Beijing, Sinovac: \n",
      "Countries: ['Dominican Republic', 'Sudan']\n",
      "\n",
      "Vaccines: Moderna: \n",
      "Countries: ['Greenland']\n",
      "\n",
      "Vaccines: Moderna, Oxford/AstraZeneca: \n",
      "Countries: ['Guatemala', 'Taiwan']\n",
      "\n",
      "Vaccines: Sputnik V: \n",
      "Countries: ['Guinea']\n",
      "\n",
      "Vaccines: Johnson&Johnson, Moderna, Oxford/AstraZeneca, Pfizer/BioNTech, Sputnik V: \n",
      "Countries: ['Honduras']\n",
      "\n",
      "Vaccines: Pfizer/BioNTech, Sinovac: \n",
      "Countries: ['Hong Kong', 'Turkey']\n",
      "\n",
      "Vaccines: Johnson&Johnson, Moderna, Oxford/AstraZeneca, Pfizer/BioNTech, Sinopharm/Beijing, Sputnik V: \n",
      "Countries: ['Hungary']\n",
      "\n",
      "Vaccines: Covaxin, Oxford/AstraZeneca, Sputnik V: \n",
      "Countries: ['India']\n",
      "\n",
      "Vaccines: Covaxin, Oxford/AstraZeneca, Sinopharm/Beijing, Sputnik V: \n",
      "Countries: ['Iran']\n",
      "\n",
      "Vaccines: QazVac, Sinopharm/HayatVax, Sputnik V: \n",
      "Countries: ['Kazakhstan']\n",
      "\n",
      "Vaccines: Johnson&Johnson, Moderna, Oxford/AstraZeneca, Pfizer/BioNTech, Sinovac, Sputnik V: \n",
      "Countries: ['Libya']\n",
      "\n",
      "Vaccines: Pfizer/BioNTech, Sinopharm/Beijing: \n",
      "Countries: ['Macao']\n",
      "\n",
      "Vaccines: CanSino, Oxford/AstraZeneca, Pfizer/BioNTech, Sinovac, Sputnik V: \n",
      "Countries: ['Mexico']\n",
      "\n",
      "Vaccines: Oxford/AstraZeneca, Pfizer/BioNTech, Sinopharm/Beijing, Sinovac, Sputnik V: \n",
      "Countries: ['North Macedonia']\n",
      "\n",
      "Vaccines: CanSino, Oxford/AstraZeneca, Sinopharm/Beijing, Sinovac, Sputnik V: \n",
      "Countries: ['Pakistan']\n",
      "\n",
      "Vaccines: Moderna, Oxford/AstraZeneca, Pfizer/BioNTech, Sputnik V: \n",
      "Countries: ['Palestine']\n",
      "\n",
      "Vaccines: Covaxin, Oxford/AstraZeneca, Sinopharm/Beijing, Sinovac, Sputnik V: \n",
      "Countries: ['Paraguay']\n",
      "\n",
      "Vaccines: Moderna, Oxford/AstraZeneca, Pfizer/BioNTech, Sinovac, Sputnik V: \n",
      "Countries: ['Philippines']\n",
      "\n",
      "Vaccines: EpiVacCorona, Sputnik V: \n",
      "Countries: ['Russia']\n",
      "\n",
      "Vaccines: Pfizer/BioNTech, Sputnik V: \n",
      "Countries: ['San Marino']\n",
      "\n",
      "Vaccines: Moderna, Pfizer/BioNTech, Sinovac: \n",
      "Countries: ['Singapore']\n",
      "\n",
      "Vaccines: Johnson&Johnson, Pfizer/BioNTech: \n",
      "Countries: ['South Africa']\n",
      "\n",
      "Vaccines: EpiVacCorona, Oxford/AstraZeneca, Sinopharm/Beijing, Sputnik V: \n",
      "Countries: ['Turkmenistan']\n",
      "\n",
      "Vaccines: Oxford/AstraZeneca, Pfizer/BioNTech, Sinopharm/Beijing, Sinopharm/Wuhan, Sputnik V: \n",
      "Countries: ['United Arab Emirates']\n",
      "\n",
      "Vaccines: Oxford/AstraZeneca, RBD-Dimer, Sputnik V: \n",
      "Countries: ['Uzbekistan']\n",
      "\n"
     ]
    }
   ],
   "source": [
    "vaccines = country_vaccine.Vaccines.unique()\n",
    "for v in vaccines:\n",
    "    countries = country_vaccine.loc[country_vaccine.Vaccines==v, 'Country'].values\n",
    "    print(f\"Vaccines: {v}: \\nCountries: {list(countries)}\\n\")"
   ]
  },
  {
   "cell_type": "markdown",
   "metadata": {},
   "source": [
    "کشور                                 country\n",
    "کد iso                               iso code \n",
    "تاریخ                                 date\n",
    "کل واکسن ها                            total vaccinations\n",
    "افراد واکسینه شده                          people vaccinated \n",
    "افرادی که به طور کامل واکسینه شده اند          people fully vaccinated\n",
    "واکسیناسیون روزانه_خام                     daily vaccinations_raw    \n",
    "واکسیناسیون روزانه                        daily vaccinations\n",
    "کل واکسن ها در هر صد                   total vaccinations per hundred\n",
    "افراد واکسینه شده در هر صد                 people vaccinated per hundred\n",
    "افراد کاملاً واکسینه شده در هر صد             people fully vaccinated per hundred\n",
    "واکسیناسیون روزانه در هر میلیون              daily vaccinations per million\n",
    "واکسن ها                              vaccines\n",
    "     "
   ]
  },
  {
   "cell_type": "code",
   "execution_count": 6,
   "metadata": {},
   "outputs": [
    {
     "data": {
      "text/plain": [
       "country                                    0\n",
       "iso_code                                   0\n",
       "date                                       0\n",
       "total_vaccinations                     13789\n",
       "people_vaccinated                      14686\n",
       "people_fully_vaccinated                17445\n",
       "daily_vaccinations_raw                 16819\n",
       "daily_vaccinations                       292\n",
       "total_vaccinations_per_hundred         13789\n",
       "people_vaccinated_per_hundred          14686\n",
       "people_fully_vaccinated_per_hundred    17445\n",
       "daily_vaccinations_per_million           292\n",
       "vaccines                                   0\n",
       "source_name                                0\n",
       "source_website                             0\n",
       "dtype: int64"
      ]
     },
     "execution_count": 6,
     "metadata": {},
     "output_type": "execute_result"
    }
   ],
   "source": [
    "df.isnull().sum()"
   ]
  },
  {
   "cell_type": "code",
   "execution_count": 7,
   "metadata": {},
   "outputs": [
    {
     "name": "stdout",
     "output_type": "stream",
     "text": [
      "total_vaccinations \t\t 0.441 %\n",
      "people_vaccinated \t\t 0.47 %\n",
      "people_fully_vaccinated \t\t 0.558 %\n",
      "daily_vaccinations_raw \t\t 0.538 %\n",
      "daily_vaccinations \t\t 0.009 %\n",
      "total_vaccinations_per_hundred \t\t 0.441 %\n",
      "people_vaccinated_per_hundred \t\t 0.47 %\n",
      "people_fully_vaccinated_per_hundred \t\t 0.558 %\n",
      "daily_vaccinations_per_million \t\t 0.009 %\n"
     ]
    }
   ],
   "source": [
    "na_features = [features for features in df.columns if df[features].isnull().sum()>1]\n",
    "for feature in na_features:\n",
    "    print(feature,'\\t\\t', np.round(df[feature].isnull().mean(),3), '%')"
   ]
  },
  {
   "cell_type": "code",
   "execution_count": 8,
   "metadata": {},
   "outputs": [
    {
     "data": {
      "text/plain": [
       "['country', 'iso_code', 'date', 'vaccines', 'source_name', 'source_website']"
      ]
     },
     "execution_count": 8,
     "metadata": {},
     "output_type": "execute_result"
    }
   ],
   "source": [
    "data_column_object = []\n",
    "for column in df.columns:\n",
    "    if df[column].dtype == 'object':\n",
    "        data_column_object.append(column)\n",
    "data_column_object"
   ]
  },
  {
   "cell_type": "code",
   "execution_count": 9,
   "metadata": {
    "scrolled": false
   },
   "outputs": [
    {
     "name": "stdout",
     "output_type": "stream",
     "text": [
      "country\n",
      "Norway                             226\n",
      "Latvia                             224\n",
      "England                            220\n",
      "Scotland                           220\n",
      "Northern Ireland                   215\n",
      "                                  ... \n",
      "Chad                                36\n",
      "Niue                                16\n",
      "Pitcairn                             7\n",
      "Turkmenistan                         1\n",
      "Bonaire Sint Eustatius and Saba      1\n",
      "Name: country, Length: 218, dtype: int64\n",
      "------------------------------\n",
      "iso_code\n",
      "NOR         226\n",
      "LVA         224\n",
      "OWID_ENG    220\n",
      "OWID_SCT    220\n",
      "OWID_NIR    215\n",
      "           ... \n",
      "TCD          36\n",
      "NIU          16\n",
      "PCN           7\n",
      "TKM           1\n",
      "BES           1\n",
      "Name: iso_code, Length: 218, dtype: int64\n",
      "------------------------------\n",
      "date\n",
      "2021-06-02    209\n",
      "2021-06-03    209\n",
      "2021-06-04    209\n",
      "2021-06-05    209\n",
      "2021-06-06    209\n",
      "             ... \n",
      "2020-12-05      2\n",
      "2020-12-06      2\n",
      "2020-12-07      2\n",
      "2020-12-02      1\n",
      "2020-12-03      1\n",
      "Name: date, Length: 226, dtype: int64\n",
      "------------------------------\n",
      "vaccines\n",
      "Oxford/AstraZeneca                                                                             4805\n",
      "Johnson&Johnson, Moderna, Oxford/AstraZeneca, Pfizer/BioNTech                                  4118\n",
      "Moderna, Oxford/AstraZeneca, Pfizer/BioNTech                                                   2588\n",
      "Oxford/AstraZeneca, Sinopharm/Beijing                                                          2368\n",
      "Oxford/AstraZeneca, Pfizer/BioNTech                                                            2058\n",
      "Moderna, Pfizer/BioNTech                                                                       1480\n",
      "Oxford/AstraZeneca, Pfizer/BioNTech, Sinopharm/Beijing, Sputnik V                              1447\n",
      "Pfizer/BioNTech                                                                                1155\n",
      "Oxford/AstraZeneca, Pfizer/BioNTech, Sinovac                                                   1029\n",
      "Oxford/AstraZeneca, Pfizer/BioNTech, Sinovac, Sputnik V                                         657\n",
      "Oxford/AstraZeneca, Sputnik V                                                                   633\n",
      "Oxford/AstraZeneca, Sinovac                                                                     540\n",
      "Sinopharm/Beijing, Sputnik V                                                                    522\n",
      "Oxford/AstraZeneca, Sinopharm/Beijing, Sputnik V                                                499\n",
      "Oxford/AstraZeneca, Pfizer/BioNTech, Sinopharm/Beijing                                          489\n",
      "Johnson&Johnson, Moderna, Pfizer/BioNTech                                                       419\n",
      "Sinopharm/Beijing                                                                               417\n",
      "Pfizer/BioNTech, Sinovac                                                                        328\n",
      "Oxford/AstraZeneca, Sinovac, Sputnik V                                                          283\n",
      "Oxford/AstraZeneca, Pfizer/BioNTech, Sinopharm/Beijing, Sinovac                                 263\n",
      "Moderna, Oxford/AstraZeneca                                                                     257\n",
      "Covaxin, Oxford/AstraZeneca, Sinopharm/Beijing                                                  245\n",
      "Oxford/AstraZeneca, Sinopharm/Beijing, Sinovac                                                  243\n",
      "Oxford/AstraZeneca, Sinopharm/Beijing, Sinovac, Sputnik V                                       238\n",
      "EpiVacCorona, Sputnik V                                                                         213\n",
      "CanSino, Sinopharm/Beijing, Sinopharm/Wuhan, Sinovac                                            213\n",
      "CanSino, Oxford/AstraZeneca, Pfizer/BioNTech, Sinovac, Sputnik V                                203\n",
      "CanSino, Oxford/AstraZeneca, Pfizer/BioNTech, Sinovac                                           201\n",
      "Oxford/AstraZeneca, Pfizer/BioNTech, Sinopharm/Beijing, Sinopharm/Wuhan, Sputnik V              192\n",
      "Johnson&Johnson, Moderna, Oxford/AstraZeneca, Pfizer/BioNTech, Sinopharm/Beijing, Sputnik V     191\n",
      "Moderna, Pfizer/BioNTech, Sinovac                                                               184\n",
      "Johnson&Johnson, Oxford/AstraZeneca, Pfizer/BioNTech, Sinovac                                   181\n",
      "Covaxin, Oxford/AstraZeneca, Sputnik V                                                          181\n",
      "Moderna                                                                                         169\n",
      "QazVac, Sinopharm/HayatVax, Sputnik V                                                           166\n",
      "CanSino, Oxford/AstraZeneca, Sinopharm/Beijing, Sinovac, Sputnik V                              164\n",
      "Pfizer/BioNTech, Sinopharm/Beijing                                                              158\n",
      "Covaxin, Oxford/AstraZeneca, Sinopharm/Beijing, Sputnik V                                       156\n",
      "Johnson&Johnson, Pfizer/BioNTech                                                                150\n",
      "Oxford/AstraZeneca, Pfizer/BioNTech, Sinopharm/Beijing, Sinovac, Sputnik V                      150\n",
      "Johnson&Johnson, Oxford/AstraZeneca, Pfizer/BioNTech, Sinopharm/Beijing                         143\n",
      "Covaxin, Oxford/AstraZeneca, Sinopharm/Beijing, Sinovac, Sputnik V                              141\n",
      "Moderna, Oxford/AstraZeneca, Pfizer/BioNTech, Sinovac, Sputnik V                                138\n",
      "Pfizer/BioNTech, Sputnik V                                                                      136\n",
      "Johnson&Johnson, Moderna, Oxford/AstraZeneca, Pfizer/BioNTech, Sputnik V                        135\n",
      "Moderna, Oxford/AstraZeneca, Pfizer/BioNTech, Sputnik V                                         108\n",
      "Sputnik V                                                                                       108\n",
      "Moderna, Oxford/AstraZeneca, Sinopharm/Beijing, Sputnik V                                        93\n",
      "Oxford/AstraZeneca, RBD-Dimer, Sputnik V                                                         91\n",
      "Johnson&Johnson, Moderna, Oxford/AstraZeneca, Pfizer/BioNTech, Sinovac, Sputnik V                86\n",
      "Abdala, Soberana02                                                                               57\n",
      "Covaxin, Oxford/AstraZeneca                                                                      50\n",
      "EpiVacCorona, Oxford/AstraZeneca, Sinopharm/Beijing, Sputnik V                                    1\n",
      "Name: vaccines, dtype: int64\n",
      "------------------------------\n",
      "source_name\n",
      "Ministry of Health                    7784\n",
      "World Health Organization             5403\n",
      "Government of the United Kingdom      1085\n",
      "SPC Public Health Division            1038\n",
      "Pan American Health Organization       717\n",
      "                                      ... \n",
      "Government of Eswatini                 107\n",
      "Government of Zambia                    93\n",
      "Government of Saint Helena              92\n",
      "Government of Uzbekistan                91\n",
      "Government of the Falkland Islands      67\n",
      "Name: source_name, Length: 92, dtype: int64\n",
      "------------------------------\n",
      "source_website\n",
      "https://covid19.who.int/                                                                                                                                5139\n",
      "https://coronavirus.data.gov.uk/details/vaccinations                                                                                                    1085\n",
      "https://stats.pacificdata.org/vis?tm=covid&pg=0&df[ds]=SPC2&df[id]=DF_COVID_VACCINATION&df[ag]=SPC&df[vs]=1.0                                           1038\n",
      "https://ais.paho.org/imm/IM_DosisAdmin-Vacunacion.asp                                                                                                    451\n",
      "https://africacdc.org/covid-19-vaccination/                                                                                                              420\n",
      "                                                                                                                                                        ... \n",
      "https://www.sainthelena.gov.sh/2021/news/preliminary-data-from-the-covid-19-vaccination-programme/                                                        92\n",
      "https://akipress.com/news:659999:Uzbekistan_vaccinates_over_132,000_against_COVID-19/                                                                     91\n",
      "https://akipress.com/news:659779:Kyrgyzstan_vaccinates_99,900_against_COVID-19_so_far/                                                                    88\n",
      "https://www.facebook.com/FalkIandsGov/posts/4401230323224594                                                                                              67\n",
      "https://salud.msp.gob.cu/actualizacion-de-la-vacunacion-en-el-marco-de-los-estudios-de-los-candidatos-vacunales-cubanos-y-la-intervencion-sanitaria/      57\n",
      "Name: source_website, Length: 148, dtype: int64\n",
      "------------------------------\n"
     ]
    }
   ],
   "source": [
    "for item in data_column_object:\n",
    "    print(item)\n",
    "    print(df[item].value_counts())\n",
    "    print('-'*30)"
   ]
  },
  {
   "cell_type": "code",
   "execution_count": 10,
   "metadata": {},
   "outputs": [
    {
     "data": {
      "text/plain": [
       "<Axes: >"
      ]
     },
     "execution_count": 10,
     "metadata": {},
     "output_type": "execute_result"
    },
    {
     "data": {
      "image/png": "[encoded data removed]",
      "text/plain": [
       "<Figure size 640x480 with 2 Axes>"
      ]
     },
     "metadata": {},
     "output_type": "display_data"
    }
   ],
   "source": [
    "corr = df.corr()\n",
    "sb.heatmap(corr , annot=True)"
   ]
  },
  {
   "cell_type": "markdown",
   "metadata": {},
   "source": [
    "## Data Preprocessing"
   ]
  },
  {
   "cell_type": "code",
   "execution_count": 11,
   "metadata": {},
   "outputs": [
    {
     "data": {
      "text/html": [
       "<div>\n",
       "<style scoped>\n",
       "    .dataframe tbody tr th:only-of-type {\n",
       "        vertical-align: middle;\n",
       "    }\n",
       "\n",
       "    .dataframe tbody tr th {\n",
       "        vertical-align: top;\n",
       "    }\n",
       "\n",
       "    .dataframe thead th {\n",
       "        text-align: right;\n",
       "    }\n",
       "</style>\n",
       "<table border=\"1\" class=\"dataframe\">\n",
       "  <thead>\n",
       "    <tr style=\"text-align: right;\">\n",
       "      <th></th>\n",
       "      <th>country</th>\n",
       "      <th>iso_code</th>\n",
       "      <th>date</th>\n",
       "      <th>total_vaccinations</th>\n",
       "      <th>people_vaccinated</th>\n",
       "      <th>people_fully_vaccinated</th>\n",
       "      <th>daily_vaccinations_raw</th>\n",
       "      <th>daily_vaccinations</th>\n",
       "      <th>total_vaccinations_per_hundred</th>\n",
       "      <th>people_vaccinated_per_hundred</th>\n",
       "      <th>people_fully_vaccinated_per_hundred</th>\n",
       "      <th>daily_vaccinations_per_million</th>\n",
       "      <th>vaccines</th>\n",
       "      <th>source_name</th>\n",
       "      <th>source_website</th>\n",
       "    </tr>\n",
       "  </thead>\n",
       "  <tbody>\n",
       "    <tr>\n",
       "      <th>0</th>\n",
       "      <td>Afghanistan</td>\n",
       "      <td>AFG</td>\n",
       "      <td>2021-02-22</td>\n",
       "      <td>0.000000e+00</td>\n",
       "      <td>0.000000e+00</td>\n",
       "      <td>3.293973e+06</td>\n",
       "      <td>227366.073989</td>\n",
       "      <td>114971.789486</td>\n",
       "      <td>0.000000</td>\n",
       "      <td>0.000000</td>\n",
       "      <td>12.340698</td>\n",
       "      <td>3426.365969</td>\n",
       "      <td>Johnson&amp;Johnson, Oxford/AstraZeneca, Pfizer/Bi...</td>\n",
       "      <td>World Health Organization</td>\n",
       "      <td>https://covid19.who.int/</td>\n",
       "    </tr>\n",
       "    <tr>\n",
       "      <th>1</th>\n",
       "      <td>Afghanistan</td>\n",
       "      <td>AFG</td>\n",
       "      <td>2021-02-23</td>\n",
       "      <td>1.200444e+07</td>\n",
       "      <td>5.704551e+06</td>\n",
       "      <td>3.293973e+06</td>\n",
       "      <td>227366.073989</td>\n",
       "      <td>1367.000000</td>\n",
       "      <td>29.283554</td>\n",
       "      <td>19.181574</td>\n",
       "      <td>12.340698</td>\n",
       "      <td>35.000000</td>\n",
       "      <td>Johnson&amp;Johnson, Oxford/AstraZeneca, Pfizer/Bi...</td>\n",
       "      <td>World Health Organization</td>\n",
       "      <td>https://covid19.who.int/</td>\n",
       "    </tr>\n",
       "    <tr>\n",
       "      <th>2</th>\n",
       "      <td>Afghanistan</td>\n",
       "      <td>AFG</td>\n",
       "      <td>2021-02-24</td>\n",
       "      <td>1.200444e+07</td>\n",
       "      <td>5.704551e+06</td>\n",
       "      <td>3.293973e+06</td>\n",
       "      <td>227366.073989</td>\n",
       "      <td>1367.000000</td>\n",
       "      <td>29.283554</td>\n",
       "      <td>19.181574</td>\n",
       "      <td>12.340698</td>\n",
       "      <td>35.000000</td>\n",
       "      <td>Johnson&amp;Johnson, Oxford/AstraZeneca, Pfizer/Bi...</td>\n",
       "      <td>World Health Organization</td>\n",
       "      <td>https://covid19.who.int/</td>\n",
       "    </tr>\n",
       "    <tr>\n",
       "      <th>3</th>\n",
       "      <td>Afghanistan</td>\n",
       "      <td>AFG</td>\n",
       "      <td>2021-02-25</td>\n",
       "      <td>1.200444e+07</td>\n",
       "      <td>5.704551e+06</td>\n",
       "      <td>3.293973e+06</td>\n",
       "      <td>227366.073989</td>\n",
       "      <td>1367.000000</td>\n",
       "      <td>29.283554</td>\n",
       "      <td>19.181574</td>\n",
       "      <td>12.340698</td>\n",
       "      <td>35.000000</td>\n",
       "      <td>Johnson&amp;Johnson, Oxford/AstraZeneca, Pfizer/Bi...</td>\n",
       "      <td>World Health Organization</td>\n",
       "      <td>https://covid19.who.int/</td>\n",
       "    </tr>\n",
       "    <tr>\n",
       "      <th>4</th>\n",
       "      <td>Afghanistan</td>\n",
       "      <td>AFG</td>\n",
       "      <td>2021-02-26</td>\n",
       "      <td>1.200444e+07</td>\n",
       "      <td>5.704551e+06</td>\n",
       "      <td>3.293973e+06</td>\n",
       "      <td>227366.073989</td>\n",
       "      <td>1367.000000</td>\n",
       "      <td>29.283554</td>\n",
       "      <td>19.181574</td>\n",
       "      <td>12.340698</td>\n",
       "      <td>35.000000</td>\n",
       "      <td>Johnson&amp;Johnson, Oxford/AstraZeneca, Pfizer/Bi...</td>\n",
       "      <td>World Health Organization</td>\n",
       "      <td>https://covid19.who.int/</td>\n",
       "    </tr>\n",
       "    <tr>\n",
       "      <th>...</th>\n",
       "      <td>...</td>\n",
       "      <td>...</td>\n",
       "      <td>...</td>\n",
       "      <td>...</td>\n",
       "      <td>...</td>\n",
       "      <td>...</td>\n",
       "      <td>...</td>\n",
       "      <td>...</td>\n",
       "      <td>...</td>\n",
       "      <td>...</td>\n",
       "      <td>...</td>\n",
       "      <td>...</td>\n",
       "      <td>...</td>\n",
       "      <td>...</td>\n",
       "      <td>...</td>\n",
       "    </tr>\n",
       "    <tr>\n",
       "      <th>31235</th>\n",
       "      <td>Zimbabwe</td>\n",
       "      <td>ZWE</td>\n",
       "      <td>2021-07-11</td>\n",
       "      <td>1.491397e+06</td>\n",
       "      <td>8.959800e+05</td>\n",
       "      <td>5.954170e+05</td>\n",
       "      <td>227366.073989</td>\n",
       "      <td>18598.000000</td>\n",
       "      <td>10.030000</td>\n",
       "      <td>6.030000</td>\n",
       "      <td>4.010000</td>\n",
       "      <td>1251.000000</td>\n",
       "      <td>Sinopharm/Beijing</td>\n",
       "      <td>Ministry of Health</td>\n",
       "      <td>https://twitter.com/MoHCCZim/status/1415771723...</td>\n",
       "    </tr>\n",
       "    <tr>\n",
       "      <th>31236</th>\n",
       "      <td>Zimbabwe</td>\n",
       "      <td>ZWE</td>\n",
       "      <td>2021-07-12</td>\n",
       "      <td>1.531868e+06</td>\n",
       "      <td>9.263120e+05</td>\n",
       "      <td>6.055560e+05</td>\n",
       "      <td>40471.000000</td>\n",
       "      <td>23205.000000</td>\n",
       "      <td>10.310000</td>\n",
       "      <td>6.230000</td>\n",
       "      <td>4.070000</td>\n",
       "      <td>1561.000000</td>\n",
       "      <td>Sinopharm/Beijing</td>\n",
       "      <td>Ministry of Health</td>\n",
       "      <td>https://twitter.com/MoHCCZim/status/1415771723...</td>\n",
       "    </tr>\n",
       "    <tr>\n",
       "      <th>31237</th>\n",
       "      <td>Zimbabwe</td>\n",
       "      <td>ZWE</td>\n",
       "      <td>2021-07-13</td>\n",
       "      <td>1.575539e+06</td>\n",
       "      <td>9.556560e+05</td>\n",
       "      <td>6.198830e+05</td>\n",
       "      <td>43671.000000</td>\n",
       "      <td>27567.000000</td>\n",
       "      <td>10.600000</td>\n",
       "      <td>6.430000</td>\n",
       "      <td>4.170000</td>\n",
       "      <td>1855.000000</td>\n",
       "      <td>Sinopharm/Beijing</td>\n",
       "      <td>Ministry of Health</td>\n",
       "      <td>https://twitter.com/MoHCCZim/status/1415771723...</td>\n",
       "    </tr>\n",
       "    <tr>\n",
       "      <th>31238</th>\n",
       "      <td>Zimbabwe</td>\n",
       "      <td>ZWE</td>\n",
       "      <td>2021-07-14</td>\n",
       "      <td>1.613640e+06</td>\n",
       "      <td>9.887460e+05</td>\n",
       "      <td>6.248940e+05</td>\n",
       "      <td>38101.000000</td>\n",
       "      <td>30698.000000</td>\n",
       "      <td>10.860000</td>\n",
       "      <td>6.650000</td>\n",
       "      <td>4.200000</td>\n",
       "      <td>2065.000000</td>\n",
       "      <td>Sinopharm/Beijing</td>\n",
       "      <td>Ministry of Health</td>\n",
       "      <td>https://twitter.com/MoHCCZim/status/1415771723...</td>\n",
       "    </tr>\n",
       "    <tr>\n",
       "      <th>31239</th>\n",
       "      <td>Zimbabwe</td>\n",
       "      <td>ZWE</td>\n",
       "      <td>2021-07-15</td>\n",
       "      <td>1.666862e+06</td>\n",
       "      <td>1.036252e+06</td>\n",
       "      <td>6.306100e+05</td>\n",
       "      <td>53222.000000</td>\n",
       "      <td>33326.000000</td>\n",
       "      <td>11.210000</td>\n",
       "      <td>6.970000</td>\n",
       "      <td>4.240000</td>\n",
       "      <td>2242.000000</td>\n",
       "      <td>Sinopharm/Beijing</td>\n",
       "      <td>Ministry of Health</td>\n",
       "      <td>https://twitter.com/MoHCCZim/status/1415771723...</td>\n",
       "    </tr>\n",
       "  </tbody>\n",
       "</table>\n",
       "<p>31240 rows × 15 columns</p>\n",
       "</div>"
      ],
      "text/plain": [
       "           country iso_code       date  total_vaccinations  people_vaccinated  \\\n",
       "0      Afghanistan      AFG 2021-02-22        0.000000e+00       0.000000e+00   \n",
       "1      Afghanistan      AFG 2021-02-23        1.200444e+07       5.704551e+06   \n",
       "2      Afghanistan      AFG 2021-02-24        1.200444e+07       5.704551e+06   \n",
       "3      Afghanistan      AFG 2021-02-25        1.200444e+07       5.704551e+06   \n",
       "4      Afghanistan      AFG 2021-02-26        1.200444e+07       5.704551e+06   \n",
       "...            ...      ...        ...                 ...                ...   \n",
       "31235     Zimbabwe      ZWE 2021-07-11        1.491397e+06       8.959800e+05   \n",
       "31236     Zimbabwe      ZWE 2021-07-12        1.531868e+06       9.263120e+05   \n",
       "31237     Zimbabwe      ZWE 2021-07-13        1.575539e+06       9.556560e+05   \n",
       "31238     Zimbabwe      ZWE 2021-07-14        1.613640e+06       9.887460e+05   \n",
       "31239     Zimbabwe      ZWE 2021-07-15        1.666862e+06       1.036252e+06   \n",
       "\n",
       "       people_fully_vaccinated  daily_vaccinations_raw  daily_vaccinations  \\\n",
       "0                 3.293973e+06           227366.073989       114971.789486   \n",
       "1                 3.293973e+06           227366.073989         1367.000000   \n",
       "2                 3.293973e+06           227366.073989         1367.000000   \n",
       "3                 3.293973e+06           227366.073989         1367.000000   \n",
       "4                 3.293973e+06           227366.073989         1367.000000   \n",
       "...                        ...                     ...                 ...   \n",
       "31235             5.954170e+05           227366.073989        18598.000000   \n",
       "31236             6.055560e+05            40471.000000        23205.000000   \n",
       "31237             6.198830e+05            43671.000000        27567.000000   \n",
       "31238             6.248940e+05            38101.000000        30698.000000   \n",
       "31239             6.306100e+05            53222.000000        33326.000000   \n",
       "\n",
       "       total_vaccinations_per_hundred  people_vaccinated_per_hundred  \\\n",
       "0                            0.000000                       0.000000   \n",
       "1                           29.283554                      19.181574   \n",
       "2                           29.283554                      19.181574   \n",
       "3                           29.283554                      19.181574   \n",
       "4                           29.283554                      19.181574   \n",
       "...                               ...                            ...   \n",
       "31235                       10.030000                       6.030000   \n",
       "31236                       10.310000                       6.230000   \n",
       "31237                       10.600000                       6.430000   \n",
       "31238                       10.860000                       6.650000   \n",
       "31239                       11.210000                       6.970000   \n",
       "\n",
       "       people_fully_vaccinated_per_hundred  daily_vaccinations_per_million  \\\n",
       "0                                12.340698                     3426.365969   \n",
       "1                                12.340698                       35.000000   \n",
       "2                                12.340698                       35.000000   \n",
       "3                                12.340698                       35.000000   \n",
       "4                                12.340698                       35.000000   \n",
       "...                                    ...                             ...   \n",
       "31235                             4.010000                     1251.000000   \n",
       "31236                             4.070000                     1561.000000   \n",
       "31237                             4.170000                     1855.000000   \n",
       "31238                             4.200000                     2065.000000   \n",
       "31239                             4.240000                     2242.000000   \n",
       "\n",
       "                                                vaccines  \\\n",
       "0      Johnson&Johnson, Oxford/AstraZeneca, Pfizer/Bi...   \n",
       "1      Johnson&Johnson, Oxford/AstraZeneca, Pfizer/Bi...   \n",
       "2      Johnson&Johnson, Oxford/AstraZeneca, Pfizer/Bi...   \n",
       "3      Johnson&Johnson, Oxford/AstraZeneca, Pfizer/Bi...   \n",
       "4      Johnson&Johnson, Oxford/AstraZeneca, Pfizer/Bi...   \n",
       "...                                                  ...   \n",
       "31235                                  Sinopharm/Beijing   \n",
       "31236                                  Sinopharm/Beijing   \n",
       "31237                                  Sinopharm/Beijing   \n",
       "31238                                  Sinopharm/Beijing   \n",
       "31239                                  Sinopharm/Beijing   \n",
       "\n",
       "                     source_name  \\\n",
       "0      World Health Organization   \n",
       "1      World Health Organization   \n",
       "2      World Health Organization   \n",
       "3      World Health Organization   \n",
       "4      World Health Organization   \n",
       "...                          ...   \n",
       "31235         Ministry of Health   \n",
       "31236         Ministry of Health   \n",
       "31237         Ministry of Health   \n",
       "31238         Ministry of Health   \n",
       "31239         Ministry of Health   \n",
       "\n",
       "                                          source_website  \n",
       "0                               https://covid19.who.int/  \n",
       "1                               https://covid19.who.int/  \n",
       "2                               https://covid19.who.int/  \n",
       "3                               https://covid19.who.int/  \n",
       "4                               https://covid19.who.int/  \n",
       "...                                                  ...  \n",
       "31235  https://twitter.com/MoHCCZim/status/1415771723...  \n",
       "31236  https://twitter.com/MoHCCZim/status/1415771723...  \n",
       "31237  https://twitter.com/MoHCCZim/status/1415771723...  \n",
       "31238  https://twitter.com/MoHCCZim/status/1415771723...  \n",
       "31239  https://twitter.com/MoHCCZim/status/1415771723...  \n",
       "\n",
       "[31240 rows x 15 columns]"
      ]
     },
     "execution_count": 11,
     "metadata": {},
     "output_type": "execute_result"
    }
   ],
   "source": [
    "# df = df.fillna(df.mean())\n",
    "df[\"date\"] = pd.to_datetime(df[\"date\"], format = '%Y-%m-%d')\n",
    "df = df.replace([np.inf, -np.inf], np.nan)\n",
    "df = df.fillna(df.mean())\n",
    "df"
   ]
  },
  {
   "cell_type": "code",
   "execution_count": 12,
   "metadata": {},
   "outputs": [],
   "source": [
    "df.date = pd.to_datetime(df.date)"
   ]
  },
  {
   "cell_type": "code",
   "execution_count": 13,
   "metadata": {},
   "outputs": [
    {
     "data": {
      "text/plain": [
       "0       2021-02-22\n",
       "1       2021-02-23\n",
       "2       2021-02-24\n",
       "3       2021-02-25\n",
       "4       2021-02-26\n",
       "           ...    \n",
       "31235   2021-07-11\n",
       "31236   2021-07-12\n",
       "31237   2021-07-13\n",
       "31238   2021-07-14\n",
       "31239   2021-07-15\n",
       "Name: date, Length: 31240, dtype: datetime64[ns]"
      ]
     },
     "execution_count": 13,
     "metadata": {},
     "output_type": "execute_result"
    }
   ],
   "source": [
    "df.date"
   ]
  },
  {
   "cell_type": "markdown",
   "metadata": {},
   "source": [
    "## Strorytelling - Visualization"
   ]
  },
  {
   "cell_type": "code",
   "execution_count": 14,
   "metadata": {},
   "outputs": [
    {
     "data": {
      "text/html": [
       "<style type=\"text/css\">\n",
       "#T_10743_row0_col4, #T_10743_row0_col5, #T_10743_row0_col6, #T_10743_row0_col7, #T_10743_row0_col9, #T_10743_row0_col10, #T_10743_row0_col11, #T_10743_row1_col4, #T_10743_row1_col5, #T_10743_row1_col6, #T_10743_row1_col7, #T_10743_row1_col9, #T_10743_row1_col10, #T_10743_row1_col11, #T_10743_row2_col4, #T_10743_row2_col5, #T_10743_row2_col6, #T_10743_row2_col7, #T_10743_row2_col9, #T_10743_row2_col10, #T_10743_row2_col11, #T_10743_row3_col4, #T_10743_row3_col5, #T_10743_row3_col6, #T_10743_row3_col7, #T_10743_row3_col9, #T_10743_row3_col10, #T_10743_row3_col11, #T_10743_row4_col4, #T_10743_row4_col5, #T_10743_row4_col6, #T_10743_row4_col7, #T_10743_row4_col9, #T_10743_row4_col10, #T_10743_row4_col11, #T_10743_row5_col4, #T_10743_row5_col5, #T_10743_row5_col6, #T_10743_row5_col7, #T_10743_row5_col9, #T_10743_row5_col10, #T_10743_row5_col11, #T_10743_row6_col4, #T_10743_row6_col5, #T_10743_row6_col6, #T_10743_row6_col7, #T_10743_row6_col9, #T_10743_row6_col10, #T_10743_row6_col11, #T_10743_row7_col4, #T_10743_row7_col5, #T_10743_row7_col6, #T_10743_row7_col7, #T_10743_row7_col9, #T_10743_row7_col10, #T_10743_row7_col11, #T_10743_row8_col4, #T_10743_row8_col5, #T_10743_row8_col6, #T_10743_row8_col7, #T_10743_row8_col9, #T_10743_row8_col10, #T_10743_row8_col11, #T_10743_row9_col4, #T_10743_row9_col5, #T_10743_row9_col6, #T_10743_row9_col7, #T_10743_row9_col8, #T_10743_row9_col9, #T_10743_row9_col10, #T_10743_row9_col11, #T_10743_row9_col12 {\n",
       "  background-color: #ffffff;\n",
       "  color: #000000;\n",
       "}\n",
       "#T_10743_row0_col8, #T_10743_row0_col12, #T_10743_row6_col8, #T_10743_row6_col12 {\n",
       "  background-color: #9d347c;\n",
       "  color: #f1f1f1;\n",
       "}\n",
       "#T_10743_row1_col8, #T_10743_row1_col12 {\n",
       "  background-color: #fe4324;\n",
       "  color: #f1f1f1;\n",
       "}\n",
       "#T_10743_row2_col8, #T_10743_row2_col12 {\n",
       "  background-color: #0c0c28;\n",
       "  color: #f1f1f1;\n",
       "}\n",
       "#T_10743_row3_col8, #T_10743_row3_col12 {\n",
       "  background-color: #000000;\n",
       "  color: #f1f1f1;\n",
       "}\n",
       "#T_10743_row4_col8 {\n",
       "  background-color: #f26112;\n",
       "  color: #f1f1f1;\n",
       "}\n",
       "#T_10743_row4_col12 {\n",
       "  background-color: #f8511c;\n",
       "  color: #f1f1f1;\n",
       "}\n",
       "#T_10743_row5_col8, #T_10743_row5_col12 {\n",
       "  background-color: #342696;\n",
       "  color: #f1f1f1;\n",
       "}\n",
       "#T_10743_row7_col8, #T_10743_row7_col12 {\n",
       "  background-color: #ec6f0a;\n",
       "  color: #f1f1f1;\n",
       "}\n",
       "#T_10743_row8_col8, #T_10743_row8_col12 {\n",
       "  background-color: #e6d046;\n",
       "  color: #000000;\n",
       "}\n",
       "</style>\n",
       "<table id=\"T_10743\">\n",
       "  <thead>\n",
       "    <tr>\n",
       "      <th class=\"blank level0\" >&nbsp;</th>\n",
       "      <th id=\"T_10743_level0_col0\" class=\"col_heading level0 col0\" >country</th>\n",
       "      <th id=\"T_10743_level0_col1\" class=\"col_heading level0 col1\" >iso_code</th>\n",
       "      <th id=\"T_10743_level0_col2\" class=\"col_heading level0 col2\" >date</th>\n",
       "      <th id=\"T_10743_level0_col3\" class=\"col_heading level0 col3\" >vaccines</th>\n",
       "      <th id=\"T_10743_level0_col4\" class=\"col_heading level0 col4\" >total_vaccinations</th>\n",
       "      <th id=\"T_10743_level0_col5\" class=\"col_heading level0 col5\" >people_vaccinated</th>\n",
       "      <th id=\"T_10743_level0_col6\" class=\"col_heading level0 col6\" >people_fully_vaccinated</th>\n",
       "      <th id=\"T_10743_level0_col7\" class=\"col_heading level0 col7\" >daily_vaccinations_raw</th>\n",
       "      <th id=\"T_10743_level0_col8\" class=\"col_heading level0 col8\" >daily_vaccinations</th>\n",
       "      <th id=\"T_10743_level0_col9\" class=\"col_heading level0 col9\" >total_vaccinations_per_hundred</th>\n",
       "      <th id=\"T_10743_level0_col10\" class=\"col_heading level0 col10\" >people_vaccinated_per_hundred</th>\n",
       "      <th id=\"T_10743_level0_col11\" class=\"col_heading level0 col11\" >people_fully_vaccinated_per_hundred</th>\n",
       "      <th id=\"T_10743_level0_col12\" class=\"col_heading level0 col12\" >daily_vaccinations_per_million</th>\n",
       "      <th id=\"T_10743_level0_col13\" class=\"col_heading level0 col13\" >source_name</th>\n",
       "    </tr>\n",
       "  </thead>\n",
       "  <tbody>\n",
       "    <tr>\n",
       "      <th id=\"T_10743_level0_row0\" class=\"row_heading level0 row0\" >18415</th>\n",
       "      <td id=\"T_10743_row0_col0\" class=\"data row0 col0\" >Monaco</td>\n",
       "      <td id=\"T_10743_row0_col1\" class=\"data row0 col1\" >MCO</td>\n",
       "      <td id=\"T_10743_row0_col2\" class=\"data row0 col2\" >2021-04-03 00:00:00</td>\n",
       "      <td id=\"T_10743_row0_col3\" class=\"data row0 col3\" >Pfizer/BioNTech</td>\n",
       "      <td id=\"T_10743_row0_col4\" class=\"data row0 col4\" >12004435.249842</td>\n",
       "      <td id=\"T_10743_row0_col5\" class=\"data row0 col5\" >5704550.528452</td>\n",
       "      <td id=\"T_10743_row0_col6\" class=\"data row0 col6\" >3293973.392896</td>\n",
       "      <td id=\"T_10743_row0_col7\" class=\"data row0 col7\" >227366.073989</td>\n",
       "      <td id=\"T_10743_row0_col8\" class=\"data row0 col8\" >176.000000</td>\n",
       "      <td id=\"T_10743_row0_col9\" class=\"data row0 col9\" >29.283554</td>\n",
       "      <td id=\"T_10743_row0_col10\" class=\"data row0 col10\" >19.181574</td>\n",
       "      <td id=\"T_10743_row0_col11\" class=\"data row0 col11\" >12.340698</td>\n",
       "      <td id=\"T_10743_row0_col12\" class=\"data row0 col12\" >4485.000000</td>\n",
       "      <td id=\"T_10743_row0_col13\" class=\"data row0 col13\" >National Council</td>\n",
       "    </tr>\n",
       "    <tr>\n",
       "      <th id=\"T_10743_level0_row1\" class=\"row_heading level0 row1\" >18402</th>\n",
       "      <td id=\"T_10743_row1_col0\" class=\"data row1 col0\" >Monaco</td>\n",
       "      <td id=\"T_10743_row1_col1\" class=\"data row1 col1\" >MCO</td>\n",
       "      <td id=\"T_10743_row1_col2\" class=\"data row1 col2\" >2021-03-21 00:00:00</td>\n",
       "      <td id=\"T_10743_row1_col3\" class=\"data row1 col3\" >Pfizer/BioNTech</td>\n",
       "      <td id=\"T_10743_row1_col4\" class=\"data row1 col4\" >12004435.249842</td>\n",
       "      <td id=\"T_10743_row1_col5\" class=\"data row1 col5\" >5704550.528452</td>\n",
       "      <td id=\"T_10743_row1_col6\" class=\"data row1 col6\" >3293973.392896</td>\n",
       "      <td id=\"T_10743_row1_col7\" class=\"data row1 col7\" >227366.073989</td>\n",
       "      <td id=\"T_10743_row1_col8\" class=\"data row1 col8\" >167.000000</td>\n",
       "      <td id=\"T_10743_row1_col9\" class=\"data row1 col9\" >29.283554</td>\n",
       "      <td id=\"T_10743_row1_col10\" class=\"data row1 col10\" >19.181574</td>\n",
       "      <td id=\"T_10743_row1_col11\" class=\"data row1 col11\" >12.340698</td>\n",
       "      <td id=\"T_10743_row1_col12\" class=\"data row1 col12\" >4255.000000</td>\n",
       "      <td id=\"T_10743_row1_col13\" class=\"data row1 col13\" >National Council</td>\n",
       "    </tr>\n",
       "    <tr>\n",
       "      <th id=\"T_10743_level0_row2\" class=\"row_heading level0 row2\" >18432</th>\n",
       "      <td id=\"T_10743_row2_col0\" class=\"data row2 col0\" >Monaco</td>\n",
       "      <td id=\"T_10743_row2_col1\" class=\"data row2 col1\" >MCO</td>\n",
       "      <td id=\"T_10743_row2_col2\" class=\"data row2 col2\" >2021-04-20 00:00:00</td>\n",
       "      <td id=\"T_10743_row2_col3\" class=\"data row2 col3\" >Pfizer/BioNTech</td>\n",
       "      <td id=\"T_10743_row2_col4\" class=\"data row2 col4\" >12004435.249842</td>\n",
       "      <td id=\"T_10743_row2_col5\" class=\"data row2 col5\" >5704550.528452</td>\n",
       "      <td id=\"T_10743_row2_col6\" class=\"data row2 col6\" >3293973.392896</td>\n",
       "      <td id=\"T_10743_row2_col7\" class=\"data row2 col7\" >227366.073989</td>\n",
       "      <td id=\"T_10743_row2_col8\" class=\"data row2 col8\" >200.000000</td>\n",
       "      <td id=\"T_10743_row2_col9\" class=\"data row2 col9\" >29.283554</td>\n",
       "      <td id=\"T_10743_row2_col10\" class=\"data row2 col10\" >19.181574</td>\n",
       "      <td id=\"T_10743_row2_col11\" class=\"data row2 col11\" >12.340698</td>\n",
       "      <td id=\"T_10743_row2_col12\" class=\"data row2 col12\" >5096.000000</td>\n",
       "      <td id=\"T_10743_row2_col13\" class=\"data row2 col13\" >National Council</td>\n",
       "    </tr>\n",
       "    <tr>\n",
       "      <th id=\"T_10743_level0_row3\" class=\"row_heading level0 row3\" >18433</th>\n",
       "      <td id=\"T_10743_row3_col0\" class=\"data row3 col0\" >Monaco</td>\n",
       "      <td id=\"T_10743_row3_col1\" class=\"data row3 col1\" >MCO</td>\n",
       "      <td id=\"T_10743_row3_col2\" class=\"data row3 col2\" >2021-04-21 00:00:00</td>\n",
       "      <td id=\"T_10743_row3_col3\" class=\"data row3 col3\" >Pfizer/BioNTech</td>\n",
       "      <td id=\"T_10743_row3_col4\" class=\"data row3 col4\" >12004435.249842</td>\n",
       "      <td id=\"T_10743_row3_col5\" class=\"data row3 col5\" >5704550.528452</td>\n",
       "      <td id=\"T_10743_row3_col6\" class=\"data row3 col6\" >3293973.392896</td>\n",
       "      <td id=\"T_10743_row3_col7\" class=\"data row3 col7\" >227366.073989</td>\n",
       "      <td id=\"T_10743_row3_col8\" class=\"data row3 col8\" >203.000000</td>\n",
       "      <td id=\"T_10743_row3_col9\" class=\"data row3 col9\" >29.283554</td>\n",
       "      <td id=\"T_10743_row3_col10\" class=\"data row3 col10\" >19.181574</td>\n",
       "      <td id=\"T_10743_row3_col11\" class=\"data row3 col11\" >12.340698</td>\n",
       "      <td id=\"T_10743_row3_col12\" class=\"data row3 col12\" >5173.000000</td>\n",
       "      <td id=\"T_10743_row3_col13\" class=\"data row3 col13\" >National Council</td>\n",
       "    </tr>\n",
       "    <tr>\n",
       "      <th id=\"T_10743_level0_row4\" class=\"row_heading level0 row4\" >29048</th>\n",
       "      <td id=\"T_10743_row4_col0\" class=\"data row4 col0\" >Turks and Caicos Islands</td>\n",
       "      <td id=\"T_10743_row4_col1\" class=\"data row4 col1\" >TCA</td>\n",
       "      <td id=\"T_10743_row4_col2\" class=\"data row4 col2\" >2021-04-21 00:00:00</td>\n",
       "      <td id=\"T_10743_row4_col3\" class=\"data row4 col3\" >Pfizer/BioNTech</td>\n",
       "      <td id=\"T_10743_row4_col4\" class=\"data row4 col4\" >12004435.249842</td>\n",
       "      <td id=\"T_10743_row4_col5\" class=\"data row4 col5\" >5704550.528452</td>\n",
       "      <td id=\"T_10743_row4_col6\" class=\"data row4 col6\" >3293973.392896</td>\n",
       "      <td id=\"T_10743_row4_col7\" class=\"data row4 col7\" >227366.073989</td>\n",
       "      <td id=\"T_10743_row4_col8\" class=\"data row4 col8\" >163.000000</td>\n",
       "      <td id=\"T_10743_row4_col9\" class=\"data row4 col9\" >29.283554</td>\n",
       "      <td id=\"T_10743_row4_col10\" class=\"data row4 col10\" >19.181574</td>\n",
       "      <td id=\"T_10743_row4_col11\" class=\"data row4 col11\" >12.340698</td>\n",
       "      <td id=\"T_10743_row4_col12\" class=\"data row4 col12\" >4210.000000</td>\n",
       "      <td id=\"T_10743_row4_col13\" class=\"data row4 col13\" >World Health Organization</td>\n",
       "    </tr>\n",
       "    <tr>\n",
       "      <th id=\"T_10743_level0_row5\" class=\"row_heading level0 row5\" >18435</th>\n",
       "      <td id=\"T_10743_row5_col0\" class=\"data row5 col0\" >Monaco</td>\n",
       "      <td id=\"T_10743_row5_col1\" class=\"data row5 col1\" >MCO</td>\n",
       "      <td id=\"T_10743_row5_col2\" class=\"data row5 col2\" >2021-04-23 00:00:00</td>\n",
       "      <td id=\"T_10743_row5_col3\" class=\"data row5 col3\" >Pfizer/BioNTech</td>\n",
       "      <td id=\"T_10743_row5_col4\" class=\"data row5 col4\" >12004435.249842</td>\n",
       "      <td id=\"T_10743_row5_col5\" class=\"data row5 col5\" >5704550.528452</td>\n",
       "      <td id=\"T_10743_row5_col6\" class=\"data row5 col6\" >3293973.392896</td>\n",
       "      <td id=\"T_10743_row5_col7\" class=\"data row5 col7\" >227366.073989</td>\n",
       "      <td id=\"T_10743_row5_col8\" class=\"data row5 col8\" >191.000000</td>\n",
       "      <td id=\"T_10743_row5_col9\" class=\"data row5 col9\" >29.283554</td>\n",
       "      <td id=\"T_10743_row5_col10\" class=\"data row5 col10\" >19.181574</td>\n",
       "      <td id=\"T_10743_row5_col11\" class=\"data row5 col11\" >12.340698</td>\n",
       "      <td id=\"T_10743_row5_col12\" class=\"data row5 col12\" >4867.000000</td>\n",
       "      <td id=\"T_10743_row5_col13\" class=\"data row5 col13\" >National Council</td>\n",
       "    </tr>\n",
       "    <tr>\n",
       "      <th id=\"T_10743_level0_row6\" class=\"row_heading level0 row6\" >18436</th>\n",
       "      <td id=\"T_10743_row6_col0\" class=\"data row6 col0\" >Monaco</td>\n",
       "      <td id=\"T_10743_row6_col1\" class=\"data row6 col1\" >MCO</td>\n",
       "      <td id=\"T_10743_row6_col2\" class=\"data row6 col2\" >2021-04-24 00:00:00</td>\n",
       "      <td id=\"T_10743_row6_col3\" class=\"data row6 col3\" >Pfizer/BioNTech</td>\n",
       "      <td id=\"T_10743_row6_col4\" class=\"data row6 col4\" >12004435.249842</td>\n",
       "      <td id=\"T_10743_row6_col5\" class=\"data row6 col5\" >5704550.528452</td>\n",
       "      <td id=\"T_10743_row6_col6\" class=\"data row6 col6\" >3293973.392896</td>\n",
       "      <td id=\"T_10743_row6_col7\" class=\"data row6 col7\" >227366.073989</td>\n",
       "      <td id=\"T_10743_row6_col8\" class=\"data row6 col8\" >176.000000</td>\n",
       "      <td id=\"T_10743_row6_col9\" class=\"data row6 col9\" >29.283554</td>\n",
       "      <td id=\"T_10743_row6_col10\" class=\"data row6 col10\" >19.181574</td>\n",
       "      <td id=\"T_10743_row6_col11\" class=\"data row6 col11\" >12.340698</td>\n",
       "      <td id=\"T_10743_row6_col12\" class=\"data row6 col12\" >4485.000000</td>\n",
       "      <td id=\"T_10743_row6_col13\" class=\"data row6 col13\" >National Council</td>\n",
       "    </tr>\n",
       "    <tr>\n",
       "      <th id=\"T_10743_level0_row7\" class=\"row_heading level0 row7\" >18437</th>\n",
       "      <td id=\"T_10743_row7_col0\" class=\"data row7 col0\" >Monaco</td>\n",
       "      <td id=\"T_10743_row7_col1\" class=\"data row7 col1\" >MCO</td>\n",
       "      <td id=\"T_10743_row7_col2\" class=\"data row7 col2\" >2021-04-25 00:00:00</td>\n",
       "      <td id=\"T_10743_row7_col3\" class=\"data row7 col3\" >Pfizer/BioNTech</td>\n",
       "      <td id=\"T_10743_row7_col4\" class=\"data row7 col4\" >12004435.249842</td>\n",
       "      <td id=\"T_10743_row7_col5\" class=\"data row7 col5\" >5704550.528452</td>\n",
       "      <td id=\"T_10743_row7_col6\" class=\"data row7 col6\" >3293973.392896</td>\n",
       "      <td id=\"T_10743_row7_col7\" class=\"data row7 col7\" >227366.073989</td>\n",
       "      <td id=\"T_10743_row7_col8\" class=\"data row7 col8\" >161.000000</td>\n",
       "      <td id=\"T_10743_row7_col9\" class=\"data row7 col9\" >29.283554</td>\n",
       "      <td id=\"T_10743_row7_col10\" class=\"data row7 col10\" >19.181574</td>\n",
       "      <td id=\"T_10743_row7_col11\" class=\"data row7 col11\" >12.340698</td>\n",
       "      <td id=\"T_10743_row7_col12\" class=\"data row7 col12\" >4103.000000</td>\n",
       "      <td id=\"T_10743_row7_col13\" class=\"data row7 col13\" >National Council</td>\n",
       "    </tr>\n",
       "    <tr>\n",
       "      <th id=\"T_10743_level0_row8\" class=\"row_heading level0 row8\" >18438</th>\n",
       "      <td id=\"T_10743_row8_col0\" class=\"data row8 col0\" >Monaco</td>\n",
       "      <td id=\"T_10743_row8_col1\" class=\"data row8 col1\" >MCO</td>\n",
       "      <td id=\"T_10743_row8_col2\" class=\"data row8 col2\" >2021-04-26 00:00:00</td>\n",
       "      <td id=\"T_10743_row8_col3\" class=\"data row8 col3\" >Pfizer/BioNTech</td>\n",
       "      <td id=\"T_10743_row8_col4\" class=\"data row8 col4\" >12004435.249842</td>\n",
       "      <td id=\"T_10743_row8_col5\" class=\"data row8 col5\" >5704550.528452</td>\n",
       "      <td id=\"T_10743_row8_col6\" class=\"data row8 col6\" >3293973.392896</td>\n",
       "      <td id=\"T_10743_row8_col7\" class=\"data row8 col7\" >227366.073989</td>\n",
       "      <td id=\"T_10743_row8_col8\" class=\"data row8 col8\" >146.000000</td>\n",
       "      <td id=\"T_10743_row8_col9\" class=\"data row8 col9\" >29.283554</td>\n",
       "      <td id=\"T_10743_row8_col10\" class=\"data row8 col10\" >19.181574</td>\n",
       "      <td id=\"T_10743_row8_col11\" class=\"data row8 col11\" >12.340698</td>\n",
       "      <td id=\"T_10743_row8_col12\" class=\"data row8 col12\" >3720.000000</td>\n",
       "      <td id=\"T_10743_row8_col13\" class=\"data row8 col13\" >National Council</td>\n",
       "    </tr>\n",
       "    <tr>\n",
       "      <th id=\"T_10743_level0_row9\" class=\"row_heading level0 row9\" >18439</th>\n",
       "      <td id=\"T_10743_row9_col0\" class=\"data row9 col0\" >Monaco</td>\n",
       "      <td id=\"T_10743_row9_col1\" class=\"data row9 col1\" >MCO</td>\n",
       "      <td id=\"T_10743_row9_col2\" class=\"data row9 col2\" >2021-04-27 00:00:00</td>\n",
       "      <td id=\"T_10743_row9_col3\" class=\"data row9 col3\" >Pfizer/BioNTech</td>\n",
       "      <td id=\"T_10743_row9_col4\" class=\"data row9 col4\" >12004435.249842</td>\n",
       "      <td id=\"T_10743_row9_col5\" class=\"data row9 col5\" >5704550.528452</td>\n",
       "      <td id=\"T_10743_row9_col6\" class=\"data row9 col6\" >3293973.392896</td>\n",
       "      <td id=\"T_10743_row9_col7\" class=\"data row9 col7\" >227366.073989</td>\n",
       "      <td id=\"T_10743_row9_col8\" class=\"data row9 col8\" >132.000000</td>\n",
       "      <td id=\"T_10743_row9_col9\" class=\"data row9 col9\" >29.283554</td>\n",
       "      <td id=\"T_10743_row9_col10\" class=\"data row9 col10\" >19.181574</td>\n",
       "      <td id=\"T_10743_row9_col11\" class=\"data row9 col11\" >12.340698</td>\n",
       "      <td id=\"T_10743_row9_col12\" class=\"data row9 col12\" >3364.000000</td>\n",
       "      <td id=\"T_10743_row9_col13\" class=\"data row9 col13\" >National Council</td>\n",
       "    </tr>\n",
       "  </tbody>\n",
       "</table>\n"
      ],
      "text/plain": [
       "<pandas.io.formats.style.Styler at 0x25b54dd3160>"
      ]
     },
     "metadata": {},
     "output_type": "display_data"
    }
   ],
   "source": [
    "display(df[df[\"vaccines\"]==\"Pfizer/BioNTech\"][['country','iso_code','date','vaccines','total_vaccinations','people_vaccinated','people_fully_vaccinated','daily_vaccinations_raw','daily_vaccinations','total_vaccinations_per_hundred','people_vaccinated_per_hundred','people_fully_vaccinated_per_hundred','daily_vaccinations_per_million','source_name']].sort_values(by=\"total_vaccinations\", ascending= False).head(10).style.background_gradient(cmap=\"CMRmap_r\"))"
   ]
  },
  {
   "cell_type": "code",
   "execution_count": 15,
   "metadata": {},
   "outputs": [
    {
     "data": {
      "application/vnd.plotly.v1+json": {
       "config": {
        "plotlyServerURL": "https://plot.ly"
       },
       "data": [
        {
         "colorscale": [
          [
           0,
           "#636efa"
          ],
          [
           1,
           "#636efa"
          ]
         ],
         "geo": "geo",
         "hovertemplate": "color=Johnson&Johnson, Oxford/AstraZeneca, Pfizer/BioNTech, Sinopharm/Beijing<br>locations=%{location}<extra></extra>",
         "locationmode": "country names",
         "locations": [
          "Afghanistan"
         ],
         "name": "Johnson&Johnson, Oxford/AstraZeneca, Pfizer/BioNTech, Sinopharm/Beijing",
         "showlegend": true,
         "showscale": false,
         "type": "choropleth",
         "z": [
          1
         ]
        },
        {
         "colorscale": [
          [
           0,
           "#EF553B"
          ],
          [
           1,
           "#EF553B"
          ]
         ],
         "geo": "geo",
         "hovertemplate": "color=Oxford/AstraZeneca, Pfizer/BioNTech, Sinovac, Sputnik V<br>locations=%{location}<extra></extra>",
         "locationmode": "country names",
         "locations": [
          "Albania",
          "Bosnia and Herzegovina",
          "Oman",
          "Tunisia"
         ],
         "name": "Oxford/AstraZeneca, Pfizer/BioNTech, Sinovac, Sputnik V",
         "showlegend": true,
         "showscale": false,
         "type": "choropleth",
         "z": [
          1,
          1,
          1,
          1
         ]
        },
        {
         "colorscale": [
          [
           0,
           "#00cc96"
          ],
          [
           1,
           "#00cc96"
          ]
         ],
         "geo": "geo",
         "hovertemplate": "color=Oxford/AstraZeneca, Sputnik V<br>locations=%{location}<extra></extra>",
         "locationmode": "country names",
         "locations": [
          "Algeria",
          "Ghana",
          "Guyana",
          "Kenya",
          "Nicaragua"
         ],
         "name": "Oxford/AstraZeneca, Sputnik V",
         "showlegend": true,
         "showscale": false,
         "type": "choropleth",
         "z": [
          1,
          1,
          1,
          1,
          1
         ]
        },
        {
         "colorscale": [
          [
           0,
           "#ab63fa"
          ],
          [
           1,
           "#ab63fa"
          ]
         ],
         "geo": "geo",
         "hovertemplate": "color=Oxford/AstraZeneca, Pfizer/BioNTech<br>locations=%{location}<extra></extra>",
         "locationmode": "country names",
         "locations": [
          "Andorra",
          "Australia",
          "Bermuda",
          "Bhutan",
          "Cape Verde",
          "Cayman Islands",
          "Costa Rica",
          "Isle of Man",
          "Panama",
          "Saudi Arabia",
          "Slovenia",
          "Sweden"
         ],
         "name": "Oxford/AstraZeneca, Pfizer/BioNTech",
         "showlegend": true,
         "showscale": false,
         "type": "choropleth",
         "z": [
          1,
          1,
          1,
          1,
          1,
          1,
          1,
          1,
          1,
          1,
          1,
          1
         ]
        },
        {
         "colorscale": [
          [
           0,
           "#FFA15A"
          ],
          [
           1,
           "#FFA15A"
          ]
         ],
         "geo": "geo",
         "hovertemplate": "color=Oxford/AstraZeneca<br>locations=%{location}<extra></extra>",
         "locationmode": "country names",
         "locations": [
          "Angola",
          "Anguilla",
          "Antigua and Barbuda",
          "Bahamas",
          "Barbados",
          "Botswana",
          "British Virgin Islands",
          "Burkina Faso",
          "Cook Islands",
          "Cote d'Ivoire",
          "Democratic Republic of Congo",
          "Eswatini",
          "Ethiopia",
          "Falkland Islands",
          "Fiji",
          "French Polynesia",
          "Georgia",
          "Grenada",
          "Jamaica",
          "Kosovo",
          "Lesotho",
          "Liberia",
          "Madagascar",
          "Malawi",
          "Mali",
          "Montserrat",
          "Nauru",
          "Nigeria",
          "Niue",
          "Pitcairn",
          "Saint Helena",
          "Saint Kitts and Nevis",
          "Saint Lucia",
          "Saint Vincent and the Grenadines",
          "Samoa",
          "Sao Tome and Principe",
          "Solomon Islands",
          "South Sudan",
          "Suriname",
          "Togo",
          "Tonga",
          "Trinidad and Tobago",
          "Tuvalu",
          "Uganda",
          "Vanuatu",
          "Wallis and Futuna",
          "Yemen"
         ],
         "name": "Oxford/AstraZeneca",
         "showlegend": true,
         "showscale": false,
         "type": "choropleth",
         "z": [
          1,
          1,
          1,
          1,
          1,
          1,
          1,
          1,
          1,
          1,
          1,
          1,
          1,
          1,
          1,
          1,
          1,
          1,
          1,
          1,
          1,
          1,
          1,
          1,
          1,
          1,
          1,
          1,
          1,
          1,
          1,
          1,
          1,
          1,
          1,
          1,
          1,
          1,
          1,
          1,
          1,
          1,
          1,
          1,
          1,
          1,
          1
         ]
        },
        {
         "colorscale": [
          [
           0,
           "#19d3f3"
          ],
          [
           1,
           "#19d3f3"
          ]
         ],
         "geo": "geo",
         "hovertemplate": "color=Oxford/AstraZeneca, Sinopharm/Beijing, Sputnik V<br>locations=%{location}<extra></extra>",
         "locationmode": "country names",
         "locations": [
          "Argentina",
          "Sri Lanka",
          "Syria"
         ],
         "name": "Oxford/AstraZeneca, Sinopharm/Beijing, Sputnik V",
         "showlegend": true,
         "showscale": false,
         "type": "choropleth",
         "z": [
          1,
          1,
          1
         ]
        },
        {
         "colorscale": [
          [
           0,
           "#FF6692"
          ],
          [
           1,
           "#FF6692"
          ]
         ],
         "geo": "geo",
         "hovertemplate": "color=Oxford/AstraZeneca, Sinovac, Sputnik V<br>locations=%{location}<extra></extra>",
         "locationmode": "country names",
         "locations": [
          "Armenia",
          "Azerbaijan"
         ],
         "name": "Oxford/AstraZeneca, Sinovac, Sputnik V",
         "showlegend": true,
         "showscale": false,
         "type": "choropleth",
         "z": [
          1,
          1
         ]
        },
        {
         "colorscale": [
          [
           0,
           "#B6E880"
          ],
          [
           1,
           "#B6E880"
          ]
         ],
         "geo": "geo",
         "hovertemplate": "color=Pfizer/BioNTech<br>locations=%{location}<extra></extra>",
         "locationmode": "country names",
         "locations": [
          "Aruba",
          "Gibraltar",
          "Kuwait",
          "Monaco",
          "New Caledonia",
          "New Zealand",
          "Turks and Caicos Islands"
         ],
         "name": "Pfizer/BioNTech",
         "showlegend": true,
         "showscale": false,
         "type": "choropleth",
         "z": [
          1,
          1,
          1,
          1,
          1,
          1,
          1
         ]
        },
        {
         "colorscale": [
          [
           0,
           "#FF97FF"
          ],
          [
           1,
           "#FF97FF"
          ]
         ],
         "geo": "geo",
         "hovertemplate": "color=Johnson&Johnson, Moderna, Oxford/AstraZeneca, Pfizer/BioNTech<br>locations=%{location}<extra></extra>",
         "locationmode": "country names",
         "locations": [
          "Austria",
          "Belgium",
          "Bulgaria",
          "Cyprus",
          "Czechia",
          "Estonia",
          "France",
          "Germany",
          "Greece",
          "Iceland",
          "Ireland",
          "Italy",
          "Latvia",
          "Lithuania",
          "Malta",
          "Netherlands",
          "Poland",
          "Portugal",
          "Romania",
          "South Korea",
          "Spain"
         ],
         "name": "Johnson&Johnson, Moderna, Oxford/AstraZeneca, Pfizer/BioNTech",
         "showlegend": true,
         "showscale": false,
         "type": "choropleth",
         "z": [
          1,
          1,
          1,
          1,
          1,
          1,
          1,
          1,
          1,
          1,
          1,
          1,
          1,
          1,
          1,
          1,
          1,
          1,
          1,
          1,
          1
         ]
        },
        {
         "colorscale": [
          [
           0,
           "#FECB52"
          ],
          [
           1,
           "#FECB52"
          ]
         ],
         "geo": "geo",
         "hovertemplate": "color=Oxford/AstraZeneca, Pfizer/BioNTech, Sinopharm/Beijing, Sputnik V<br>locations=%{location}<extra></extra>",
         "locationmode": "country names",
         "locations": [
          "Bahrain",
          "Bolivia",
          "Iraq",
          "Jordan",
          "Lebanon",
          "Moldova",
          "Mongolia",
          "Montenegro",
          "Serbia"
         ],
         "name": "Oxford/AstraZeneca, Pfizer/BioNTech, Sinopharm/Beijing, Sputnik V",
         "showlegend": true,
         "showscale": false,
         "type": "choropleth",
         "z": [
          1,
          1,
          1,
          1,
          1,
          1,
          1,
          1,
          1
         ]
        },
        {
         "colorscale": [
          [
           0,
           "#636efa"
          ],
          [
           1,
           "#636efa"
          ]
         ],
         "geo": "geo",
         "hovertemplate": "color=Oxford/AstraZeneca, Pfizer/BioNTech, Sinopharm/Beijing<br>locations=%{location}<extra></extra>",
         "locationmode": "country names",
         "locations": [
          "Bangladesh",
          "Maldives",
          "Peru"
         ],
         "name": "Oxford/AstraZeneca, Pfizer/BioNTech, Sinopharm/Beijing",
         "showlegend": true,
         "showscale": false,
         "type": "choropleth",
         "z": [
          1,
          1,
          1
         ]
        },
        {
         "colorscale": [
          [
           0,
           "#EF553B"
          ],
          [
           1,
           "#EF553B"
          ]
         ],
         "geo": "geo",
         "hovertemplate": "color=Sinopharm/Beijing, Sputnik V<br>locations=%{location}<extra></extra>",
         "locationmode": "country names",
         "locations": [
          "Belarus",
          "Kyrgyzstan",
          "Laos",
          "Venezuela"
         ],
         "name": "Sinopharm/Beijing, Sputnik V",
         "showlegend": true,
         "showscale": false,
         "type": "choropleth",
         "z": [
          1,
          1,
          1,
          1
         ]
        },
        {
         "colorscale": [
          [
           0,
           "#00cc96"
          ],
          [
           1,
           "#00cc96"
          ]
         ],
         "geo": "geo",
         "hovertemplate": "color=Oxford/AstraZeneca, Sinopharm/Beijing<br>locations=%{location}<extra></extra>",
         "locationmode": "country names",
         "locations": [
          "Belize",
          "Brunei",
          "Cameroon",
          "Dominica",
          "Gambia",
          "Guinea-Bissau",
          "Mauritania",
          "Morocco",
          "Mozambique",
          "Myanmar",
          "Namibia",
          "Nepal",
          "Niger",
          "Papua New Guinea",
          "Senegal",
          "Seychelles",
          "Sierra Leone",
          "Vietnam",
          "Zambia"
         ],
         "name": "Oxford/AstraZeneca, Sinopharm/Beijing",
         "showlegend": true,
         "showscale": false,
         "type": "choropleth",
         "z": [
          1,
          1,
          1,
          1,
          1,
          1,
          1,
          1,
          1,
          1,
          1,
          1,
          1,
          1,
          1,
          1,
          1,
          1,
          1
         ]
        },
        {
         "colorscale": [
          [
           0,
           "#ab63fa"
          ],
          [
           1,
           "#ab63fa"
          ]
         ],
         "geo": "geo",
         "hovertemplate": "color=Oxford/AstraZeneca, Sinovac<br>locations=%{location}<extra></extra>",
         "locationmode": "country names",
         "locations": [
          "Benin",
          "Indonesia",
          "Tajikistan",
          "Thailand",
          "Timor"
         ],
         "name": "Oxford/AstraZeneca, Sinovac",
         "showlegend": true,
         "showscale": false,
         "type": "choropleth",
         "z": [
          1,
          1,
          1,
          1,
          1
         ]
        },
        {
         "colorscale": [
          [
           0,
           "#FFA15A"
          ],
          [
           1,
           "#FFA15A"
          ]
         ],
         "geo": "geo",
         "hovertemplate": "color=Moderna, Pfizer/BioNTech<br>locations=%{location}<extra></extra>",
         "locationmode": "country names",
         "locations": [
          "Bonaire Sint Eustatius and Saba",
          "Curacao",
          "Faeroe Islands",
          "Israel",
          "Japan",
          "Liechtenstein",
          "Norway",
          "Qatar",
          "Switzerland"
         ],
         "name": "Moderna, Pfizer/BioNTech",
         "showlegend": true,
         "showscale": false,
         "type": "choropleth",
         "z": [
          1,
          1,
          1,
          1,
          1,
          1,
          1,
          1,
          1
         ]
        },
        {
         "colorscale": [
          [
           0,
           "#19d3f3"
          ],
          [
           1,
           "#19d3f3"
          ]
         ],
         "geo": "geo",
         "hovertemplate": "color=Johnson&Johnson, Oxford/AstraZeneca, Pfizer/BioNTech, Sinovac<br>locations=%{location}<extra></extra>",
         "locationmode": "country names",
         "locations": [
          "Brazil"
         ],
         "name": "Johnson&Johnson, Oxford/AstraZeneca, Pfizer/BioNTech, Sinovac",
         "showlegend": true,
         "showscale": false,
         "type": "choropleth",
         "z": [
          1
         ]
        },
        {
         "colorscale": [
          [
           0,
           "#FF6692"
          ],
          [
           1,
           "#FF6692"
          ]
         ],
         "geo": "geo",
         "hovertemplate": "color=Oxford/AstraZeneca, Sinopharm/Beijing, Sinovac<br>locations=%{location}<extra></extra>",
         "locationmode": "country names",
         "locations": [
          "Cambodia",
          "Somalia"
         ],
         "name": "Oxford/AstraZeneca, Sinopharm/Beijing, Sinovac",
         "showlegend": true,
         "showscale": false,
         "type": "choropleth",
         "z": [
          1,
          1
         ]
        },
        {
         "colorscale": [
          [
           0,
           "#B6E880"
          ],
          [
           1,
           "#B6E880"
          ]
         ],
         "geo": "geo",
         "hovertemplate": "color=Moderna, Oxford/AstraZeneca, Pfizer/BioNTech<br>locations=%{location}<extra></extra>",
         "locationmode": "country names",
         "locations": [
          "Canada",
          "Croatia",
          "England",
          "Finland",
          "Guernsey",
          "Jersey",
          "Luxembourg",
          "Northern Ireland",
          "Rwanda",
          "Scotland",
          "Sint Maarten (Dutch part)",
          "Slovakia",
          "United Kingdom",
          "Wales"
         ],
         "name": "Moderna, Oxford/AstraZeneca, Pfizer/BioNTech",
         "showlegend": true,
         "showscale": false,
         "type": "choropleth",
         "z": [
          1,
          1,
          1,
          1,
          1,
          1,
          1,
          1,
          1,
          1,
          1,
          1,
          1,
          1
         ]
        },
        {
         "colorscale": [
          [
           0,
           "#FF97FF"
          ],
          [
           1,
           "#FF97FF"
          ]
         ],
         "geo": "geo",
         "hovertemplate": "color=Covaxin, Oxford/AstraZeneca<br>locations=%{location}<extra></extra>",
         "locationmode": "country names",
         "locations": [
          "Central African Republic"
         ],
         "name": "Covaxin, Oxford/AstraZeneca",
         "showlegend": true,
         "showscale": false,
         "type": "choropleth",
         "z": [
          1
         ]
        },
        {
         "colorscale": [
          [
           0,
           "#FECB52"
          ],
          [
           1,
           "#FECB52"
          ]
         ],
         "geo": "geo",
         "hovertemplate": "color=Sinopharm/Beijing<br>locations=%{location}<extra></extra>",
         "locationmode": "country names",
         "locations": [
          "Chad",
          "Equatorial Guinea",
          "Gabon",
          "Zimbabwe"
         ],
         "name": "Sinopharm/Beijing",
         "showlegend": true,
         "showscale": false,
         "type": "choropleth",
         "z": [
          1,
          1,
          1,
          1
         ]
        },
        {
         "colorscale": [
          [
           0,
           "#636efa"
          ],
          [
           1,
           "#636efa"
          ]
         ],
         "geo": "geo",
         "hovertemplate": "color=CanSino, Oxford/AstraZeneca, Pfizer/BioNTech, Sinovac<br>locations=%{location}<extra></extra>",
         "locationmode": "country names",
         "locations": [
          "Chile"
         ],
         "name": "CanSino, Oxford/AstraZeneca, Pfizer/BioNTech, Sinovac",
         "showlegend": true,
         "showscale": false,
         "type": "choropleth",
         "z": [
          1
         ]
        },
        {
         "colorscale": [
          [
           0,
           "#EF553B"
          ],
          [
           1,
           "#EF553B"
          ]
         ],
         "geo": "geo",
         "hovertemplate": "color=CanSino, Sinopharm/Beijing, Sinopharm/Wuhan, Sinovac<br>locations=%{location}<extra></extra>",
         "locationmode": "country names",
         "locations": [
          "China"
         ],
         "name": "CanSino, Sinopharm/Beijing, Sinopharm/Wuhan, Sinovac",
         "showlegend": true,
         "showscale": false,
         "type": "choropleth",
         "z": [
          1
         ]
        },
        {
         "colorscale": [
          [
           0,
           "#00cc96"
          ],
          [
           1,
           "#00cc96"
          ]
         ],
         "geo": "geo",
         "hovertemplate": "color=Oxford/AstraZeneca, Pfizer/BioNTech, Sinovac<br>locations=%{location}<extra></extra>",
         "locationmode": "country names",
         "locations": [
          "Colombia",
          "Ecuador",
          "El Salvador",
          "Malaysia",
          "Northern Cyprus",
          "Ukraine",
          "Uruguay"
         ],
         "name": "Oxford/AstraZeneca, Pfizer/BioNTech, Sinovac",
         "showlegend": true,
         "showscale": false,
         "type": "choropleth",
         "z": [
          1,
          1,
          1,
          1,
          1,
          1,
          1
         ]
        },
        {
         "colorscale": [
          [
           0,
           "#ab63fa"
          ],
          [
           1,
           "#ab63fa"
          ]
         ],
         "geo": "geo",
         "hovertemplate": "color=Covaxin, Oxford/AstraZeneca, Sinopharm/Beijing<br>locations=%{location}<extra></extra>",
         "locationmode": "country names",
         "locations": [
          "Comoros",
          "Mauritius"
         ],
         "name": "Covaxin, Oxford/AstraZeneca, Sinopharm/Beijing",
         "showlegend": true,
         "showscale": false,
         "type": "choropleth",
         "z": [
          1,
          1
         ]
        },
        {
         "colorscale": [
          [
           0,
           "#FFA15A"
          ],
          [
           1,
           "#FFA15A"
          ]
         ],
         "geo": "geo",
         "hovertemplate": "color=Moderna, Oxford/AstraZeneca, Sinopharm/Beijing, Sputnik V<br>locations=%{location}<extra></extra>",
         "locationmode": "country names",
         "locations": [
          "Congo"
         ],
         "name": "Moderna, Oxford/AstraZeneca, Sinopharm/Beijing, Sputnik V",
         "showlegend": true,
         "showscale": false,
         "type": "choropleth",
         "z": [
          1
         ]
        },
        {
         "colorscale": [
          [
           0,
           "#19d3f3"
          ],
          [
           1,
           "#19d3f3"
          ]
         ],
         "geo": "geo",
         "hovertemplate": "color=Abdala, Soberana02<br>locations=%{location}<extra></extra>",
         "locationmode": "country names",
         "locations": [
          "Cuba"
         ],
         "name": "Abdala, Soberana02",
         "showlegend": true,
         "showscale": false,
         "type": "choropleth",
         "z": [
          1
         ]
        },
        {
         "colorscale": [
          [
           0,
           "#FF6692"
          ],
          [
           1,
           "#FF6692"
          ]
         ],
         "geo": "geo",
         "hovertemplate": "color=Johnson&Johnson, Moderna, Pfizer/BioNTech<br>locations=%{location}<extra></extra>",
         "locationmode": "country names",
         "locations": [
          "Denmark",
          "United States"
         ],
         "name": "Johnson&Johnson, Moderna, Pfizer/BioNTech",
         "showlegend": true,
         "showscale": false,
         "type": "choropleth",
         "z": [
          1,
          1
         ]
        },
        {
         "colorscale": [
          [
           0,
           "#B6E880"
          ],
          [
           1,
           "#B6E880"
          ]
         ],
         "geo": "geo",
         "hovertemplate": "color=Oxford/AstraZeneca, Sinopharm/Beijing, Sinovac, Sputnik V<br>locations=%{location}<extra></extra>",
         "locationmode": "country names",
         "locations": [
          "Djibouti",
          "Egypt"
         ],
         "name": "Oxford/AstraZeneca, Sinopharm/Beijing, Sinovac, Sputnik V",
         "showlegend": true,
         "showscale": false,
         "type": "choropleth",
         "z": [
          1,
          1
         ]
        },
        {
         "colorscale": [
          [
           0,
           "#FF97FF"
          ],
          [
           1,
           "#FF97FF"
          ]
         ],
         "geo": "geo",
         "hovertemplate": "color=Oxford/AstraZeneca, Pfizer/BioNTech, Sinopharm/Beijing, Sinovac<br>locations=%{location}<extra></extra>",
         "locationmode": "country names",
         "locations": [
          "Dominican Republic",
          "Sudan"
         ],
         "name": "Oxford/AstraZeneca, Pfizer/BioNTech, Sinopharm/Beijing, Sinovac",
         "showlegend": true,
         "showscale": false,
         "type": "choropleth",
         "z": [
          1,
          1
         ]
        },
        {
         "colorscale": [
          [
           0,
           "#FECB52"
          ],
          [
           1,
           "#FECB52"
          ]
         ],
         "geo": "geo",
         "hovertemplate": "color=Moderna<br>locations=%{location}<extra></extra>",
         "locationmode": "country names",
         "locations": [
          "Greenland"
         ],
         "name": "Moderna",
         "showlegend": true,
         "showscale": false,
         "type": "choropleth",
         "z": [
          1
         ]
        },
        {
         "colorscale": [
          [
           0,
           "#636efa"
          ],
          [
           1,
           "#636efa"
          ]
         ],
         "geo": "geo",
         "hovertemplate": "color=Moderna, Oxford/AstraZeneca<br>locations=%{location}<extra></extra>",
         "locationmode": "country names",
         "locations": [
          "Guatemala",
          "Taiwan"
         ],
         "name": "Moderna, Oxford/AstraZeneca",
         "showlegend": true,
         "showscale": false,
         "type": "choropleth",
         "z": [
          1,
          1
         ]
        },
        {
         "colorscale": [
          [
           0,
           "#EF553B"
          ],
          [
           1,
           "#EF553B"
          ]
         ],
         "geo": "geo",
         "hovertemplate": "color=Sputnik V<br>locations=%{location}<extra></extra>",
         "locationmode": "country names",
         "locations": [
          "Guinea"
         ],
         "name": "Sputnik V",
         "showlegend": true,
         "showscale": false,
         "type": "choropleth",
         "z": [
          1
         ]
        },
        {
         "colorscale": [
          [
           0,
           "#00cc96"
          ],
          [
           1,
           "#00cc96"
          ]
         ],
         "geo": "geo",
         "hovertemplate": "color=Johnson&Johnson, Moderna, Oxford/AstraZeneca, Pfizer/BioNTech, Sputnik V<br>locations=%{location}<extra></extra>",
         "locationmode": "country names",
         "locations": [
          "Honduras"
         ],
         "name": "Johnson&Johnson, Moderna, Oxford/AstraZeneca, Pfizer/BioNTech, Sputnik V",
         "showlegend": true,
         "showscale": false,
         "type": "choropleth",
         "z": [
          1
         ]
        },
        {
         "colorscale": [
          [
           0,
           "#ab63fa"
          ],
          [
           1,
           "#ab63fa"
          ]
         ],
         "geo": "geo",
         "hovertemplate": "color=Pfizer/BioNTech, Sinovac<br>locations=%{location}<extra></extra>",
         "locationmode": "country names",
         "locations": [
          "Hong Kong",
          "Turkey"
         ],
         "name": "Pfizer/BioNTech, Sinovac",
         "showlegend": true,
         "showscale": false,
         "type": "choropleth",
         "z": [
          1,
          1
         ]
        },
        {
         "colorscale": [
          [
           0,
           "#FFA15A"
          ],
          [
           1,
           "#FFA15A"
          ]
         ],
         "geo": "geo",
         "hovertemplate": "color=Johnson&Johnson, Moderna, Oxford/AstraZeneca, Pfizer/BioNTech, Sinopharm/Beijing, Sputnik V<br>locations=%{location}<extra></extra>",
         "locationmode": "country names",
         "locations": [
          "Hungary"
         ],
         "name": "Johnson&Johnson, Moderna, Oxford/AstraZeneca, Pfizer/BioNTech, Sinopharm/Beijing, Sputnik V",
         "showlegend": true,
         "showscale": false,
         "type": "choropleth",
         "z": [
          1
         ]
        },
        {
         "colorscale": [
          [
           0,
           "#19d3f3"
          ],
          [
           1,
           "#19d3f3"
          ]
         ],
         "geo": "geo",
         "hovertemplate": "color=Covaxin, Oxford/AstraZeneca, Sputnik V<br>locations=%{location}<extra></extra>",
         "locationmode": "country names",
         "locations": [
          "India"
         ],
         "name": "Covaxin, Oxford/AstraZeneca, Sputnik V",
         "showlegend": true,
         "showscale": false,
         "type": "choropleth",
         "z": [
          1
         ]
        },
        {
         "colorscale": [
          [
           0,
           "#FF6692"
          ],
          [
           1,
           "#FF6692"
          ]
         ],
         "geo": "geo",
         "hovertemplate": "color=Covaxin, Oxford/AstraZeneca, Sinopharm/Beijing, Sputnik V<br>locations=%{location}<extra></extra>",
         "locationmode": "country names",
         "locations": [
          "Iran"
         ],
         "name": "Covaxin, Oxford/AstraZeneca, Sinopharm/Beijing, Sputnik V",
         "showlegend": true,
         "showscale": false,
         "type": "choropleth",
         "z": [
          1
         ]
        },
        {
         "colorscale": [
          [
           0,
           "#B6E880"
          ],
          [
           1,
           "#B6E880"
          ]
         ],
         "geo": "geo",
         "hovertemplate": "color=QazVac, Sinopharm/HayatVax, Sputnik V<br>locations=%{location}<extra></extra>",
         "locationmode": "country names",
         "locations": [
          "Kazakhstan"
         ],
         "name": "QazVac, Sinopharm/HayatVax, Sputnik V",
         "showlegend": true,
         "showscale": false,
         "type": "choropleth",
         "z": [
          1
         ]
        },
        {
         "colorscale": [
          [
           0,
           "#FF97FF"
          ],
          [
           1,
           "#FF97FF"
          ]
         ],
         "geo": "geo",
         "hovertemplate": "color=Johnson&Johnson, Moderna, Oxford/AstraZeneca, Pfizer/BioNTech, Sinovac, Sputnik V<br>locations=%{location}<extra></extra>",
         "locationmode": "country names",
         "locations": [
          "Libya"
         ],
         "name": "Johnson&Johnson, Moderna, Oxford/AstraZeneca, Pfizer/BioNTech, Sinovac, Sputnik V",
         "showlegend": true,
         "showscale": false,
         "type": "choropleth",
         "z": [
          1
         ]
        },
        {
         "colorscale": [
          [
           0,
           "#FECB52"
          ],
          [
           1,
           "#FECB52"
          ]
         ],
         "geo": "geo",
         "hovertemplate": "color=Pfizer/BioNTech, Sinopharm/Beijing<br>locations=%{location}<extra></extra>",
         "locationmode": "country names",
         "locations": [
          "Macao"
         ],
         "name": "Pfizer/BioNTech, Sinopharm/Beijing",
         "showlegend": true,
         "showscale": false,
         "type": "choropleth",
         "z": [
          1
         ]
        },
        {
         "colorscale": [
          [
           0,
           "#636efa"
          ],
          [
           1,
           "#636efa"
          ]
         ],
         "geo": "geo",
         "hovertemplate": "color=CanSino, Oxford/AstraZeneca, Pfizer/BioNTech, Sinovac, Sputnik V<br>locations=%{location}<extra></extra>",
         "locationmode": "country names",
         "locations": [
          "Mexico"
         ],
         "name": "CanSino, Oxford/AstraZeneca, Pfizer/BioNTech, Sinovac, Sputnik V",
         "showlegend": true,
         "showscale": false,
         "type": "choropleth",
         "z": [
          1
         ]
        },
        {
         "colorscale": [
          [
           0,
           "#EF553B"
          ],
          [
           1,
           "#EF553B"
          ]
         ],
         "geo": "geo",
         "hovertemplate": "color=Oxford/AstraZeneca, Pfizer/BioNTech, Sinopharm/Beijing, Sinovac, Sputnik V<br>locations=%{location}<extra></extra>",
         "locationmode": "country names",
         "locations": [
          "North Macedonia"
         ],
         "name": "Oxford/AstraZeneca, Pfizer/BioNTech, Sinopharm/Beijing, Sinovac, Sputnik V",
         "showlegend": true,
         "showscale": false,
         "type": "choropleth",
         "z": [
          1
         ]
        },
        {
         "colorscale": [
          [
           0,
           "#00cc96"
          ],
          [
           1,
           "#00cc96"
          ]
         ],
         "geo": "geo",
         "hovertemplate": "color=CanSino, Oxford/AstraZeneca, Sinopharm/Beijing, Sinovac, Sputnik V<br>locations=%{location}<extra></extra>",
         "locationmode": "country names",
         "locations": [
          "Pakistan"
         ],
         "name": "CanSino, Oxford/AstraZeneca, Sinopharm/Beijing, Sinovac, Sputnik V",
         "showlegend": true,
         "showscale": false,
         "type": "choropleth",
         "z": [
          1
         ]
        },
        {
         "colorscale": [
          [
           0,
           "#ab63fa"
          ],
          [
           1,
           "#ab63fa"
          ]
         ],
         "geo": "geo",
         "hovertemplate": "color=Moderna, Oxford/AstraZeneca, Pfizer/BioNTech, Sputnik V<br>locations=%{location}<extra></extra>",
         "locationmode": "country names",
         "locations": [
          "Palestine"
         ],
         "name": "Moderna, Oxford/AstraZeneca, Pfizer/BioNTech, Sputnik V",
         "showlegend": true,
         "showscale": false,
         "type": "choropleth",
         "z": [
          1
         ]
        },
        {
         "colorscale": [
          [
           0,
           "#FFA15A"
          ],
          [
           1,
           "#FFA15A"
          ]
         ],
         "geo": "geo",
         "hovertemplate": "color=Covaxin, Oxford/AstraZeneca, Sinopharm/Beijing, Sinovac, Sputnik V<br>locations=%{location}<extra></extra>",
         "locationmode": "country names",
         "locations": [
          "Paraguay"
         ],
         "name": "Covaxin, Oxford/AstraZeneca, Sinopharm/Beijing, Sinovac, Sputnik V",
         "showlegend": true,
         "showscale": false,
         "type": "choropleth",
         "z": [
          1
         ]
        },
        {
         "colorscale": [
          [
           0,
           "#19d3f3"
          ],
          [
           1,
           "#19d3f3"
          ]
         ],
         "geo": "geo",
         "hovertemplate": "color=Moderna, Oxford/AstraZeneca, Pfizer/BioNTech, Sinovac, Sputnik V<br>locations=%{location}<extra></extra>",
         "locationmode": "country names",
         "locations": [
          "Philippines"
         ],
         "name": "Moderna, Oxford/AstraZeneca, Pfizer/BioNTech, Sinovac, Sputnik V",
         "showlegend": true,
         "showscale": false,
         "type": "choropleth",
         "z": [
          1
         ]
        },
        {
         "colorscale": [
          [
           0,
           "#FF6692"
          ],
          [
           1,
           "#FF6692"
          ]
         ],
         "geo": "geo",
         "hovertemplate": "color=EpiVacCorona, Sputnik V<br>locations=%{location}<extra></extra>",
         "locationmode": "country names",
         "locations": [
          "Russia"
         ],
         "name": "EpiVacCorona, Sputnik V",
         "showlegend": true,
         "showscale": false,
         "type": "choropleth",
         "z": [
          1
         ]
        },
        {
         "colorscale": [
          [
           0,
           "#B6E880"
          ],
          [
           1,
           "#B6E880"
          ]
         ],
         "geo": "geo",
         "hovertemplate": "color=Pfizer/BioNTech, Sputnik V<br>locations=%{location}<extra></extra>",
         "locationmode": "country names",
         "locations": [
          "San Marino"
         ],
         "name": "Pfizer/BioNTech, Sputnik V",
         "showlegend": true,
         "showscale": false,
         "type": "choropleth",
         "z": [
          1
         ]
        },
        {
         "colorscale": [
          [
           0,
           "#FF97FF"
          ],
          [
           1,
           "#FF97FF"
          ]
         ],
         "geo": "geo",
         "hovertemplate": "color=Moderna, Pfizer/BioNTech, Sinovac<br>locations=%{location}<extra></extra>",
         "locationmode": "country names",
         "locations": [
          "Singapore"
         ],
         "name": "Moderna, Pfizer/BioNTech, Sinovac",
         "showlegend": true,
         "showscale": false,
         "type": "choropleth",
         "z": [
          1
         ]
        },
        {
         "colorscale": [
          [
           0,
           "#FECB52"
          ],
          [
           1,
           "#FECB52"
          ]
         ],
         "geo": "geo",
         "hovertemplate": "color=Johnson&Johnson, Pfizer/BioNTech<br>locations=%{location}<extra></extra>",
         "locationmode": "country names",
         "locations": [
          "South Africa"
         ],
         "name": "Johnson&Johnson, Pfizer/BioNTech",
         "showlegend": true,
         "showscale": false,
         "type": "choropleth",
         "z": [
          1
         ]
        },
        {
         "colorscale": [
          [
           0,
           "#636efa"
          ],
          [
           1,
           "#636efa"
          ]
         ],
         "geo": "geo",
         "hovertemplate": "color=EpiVacCorona, Oxford/AstraZeneca, Sinopharm/Beijing, Sputnik V<br>locations=%{location}<extra></extra>",
         "locationmode": "country names",
         "locations": [
          "Turkmenistan"
         ],
         "name": "EpiVacCorona, Oxford/AstraZeneca, Sinopharm/Beijing, Sputnik V",
         "showlegend": true,
         "showscale": false,
         "type": "choropleth",
         "z": [
          1
         ]
        },
        {
         "colorscale": [
          [
           0,
           "#EF553B"
          ],
          [
           1,
           "#EF553B"
          ]
         ],
         "geo": "geo",
         "hovertemplate": "color=Oxford/AstraZeneca, Pfizer/BioNTech, Sinopharm/Beijing, Sinopharm/Wuhan, Sputnik V<br>locations=%{location}<extra></extra>",
         "locationmode": "country names",
         "locations": [
          "United Arab Emirates"
         ],
         "name": "Oxford/AstraZeneca, Pfizer/BioNTech, Sinopharm/Beijing, Sinopharm/Wuhan, Sputnik V",
         "showlegend": true,
         "showscale": false,
         "type": "choropleth",
         "z": [
          1
         ]
        },
        {
         "colorscale": [
          [
           0,
           "#00cc96"
          ],
          [
           1,
           "#00cc96"
          ]
         ],
         "geo": "geo",
         "hovertemplate": "color=Oxford/AstraZeneca, RBD-Dimer, Sputnik V<br>locations=%{location}<extra></extra>",
         "locationmode": "country names",
         "locations": [
          "Uzbekistan"
         ],
         "name": "Oxford/AstraZeneca, RBD-Dimer, Sputnik V",
         "showlegend": true,
         "showscale": false,
         "type": "choropleth",
         "z": [
          1
         ]
        }
       ],
       "layout": {
        "geo": {
         "center": {},
         "domain": {
          "x": [
           0,
           1
          ],
          "y": [
           0,
           1
          ]
         }
        },
        "height": 800,
        "legend": {
         "orientation": "v",
         "title": {
          "text": "Vaccine scheme"
         },
         "tracegroupgap": 0
        },
        "template": {
         "data": {
          "bar": [
           {
            "error_x": {
             "color": "#2a3f5f"
            },
            "error_y": {
             "color": "#2a3f5f"
            },
            "marker": {
             "line": {
              "color": "#E5ECF6",
              "width": 0.5
             },
             "pattern": {
              "fillmode": "overlay",
              "size": 10,
              "solidity": 0.2
             }
            },
            "type": "bar"
           }
          ],
          "barpolar": [
           {
            "marker": {
             "line": {
              "color": "#E5ECF6",
              "width": 0.5
             },
             "pattern": {
              "fillmode": "overlay",
              "size": 10,
              "solidity": 0.2
             }
            },
            "type": "barpolar"
           }
          ],
          "carpet": [
           {
            "aaxis": {
             "endlinecolor": "#2a3f5f",
             "gridcolor": "white",
             "linecolor": "white",
             "minorgridcolor": "white",
             "startlinecolor": "#2a3f5f"
            },
            "baxis": {
             "endlinecolor": "#2a3f5f",
             "gridcolor": "white",
             "linecolor": "white",
             "minorgridcolor": "white",
             "startlinecolor": "#2a3f5f"
            },
            "type": "carpet"
           }
          ],
          "choropleth": [
           {
            "colorbar": {
             "outlinewidth": 0,
             "ticks": ""
            },
            "type": "choropleth"
           }
          ],
          "contour": [
           {
            "colorbar": {
             "outlinewidth": 0,
             "ticks": ""
            },
            "colorscale": [
             [
              0,
              "#0d0887"
             ],
             [
              0.1111111111111111,
              "#46039f"
             ],
             [
              0.2222222222222222,
              "#7201a8"
             ],
             [
              0.3333333333333333,
              "#9c179e"
             ],
             [
              0.4444444444444444,
              "#bd3786"
             ],
             [
              0.5555555555555556,
              "#d8576b"
             ],
             [
              0.6666666666666666,
              "#ed7953"
             ],
             [
              0.7777777777777778,
              "#fb9f3a"
             ],
             [
              0.8888888888888888,
              "#fdca26"
             ],
             [
              1,
              "#f0f921"
             ]
            ],
            "type": "contour"
           }
          ],
          "contourcarpet": [
           {
            "colorbar": {
             "outlinewidth": 0,
             "ticks": ""
            },
            "type": "contourcarpet"
           }
          ],
          "heatmap": [
           {
            "colorbar": {
             "outlinewidth": 0,
             "ticks": ""
            },
            "colorscale": [
             [
              0,
              "#0d0887"
             ],
             [
              0.1111111111111111,
              "#46039f"
             ],
             [
              0.2222222222222222,
              "#7201a8"
             ],
             [
              0.3333333333333333,
              "#9c179e"
             ],
             [
              0.4444444444444444,
              "#bd3786"
             ],
             [
              0.5555555555555556,
              "#d8576b"
             ],
             [
              0.6666666666666666,
              "#ed7953"
             ],
             [
              0.7777777777777778,
              "#fb9f3a"
             ],
             [
              0.8888888888888888,
              "#fdca26"
             ],
             [
              1,
              "#f0f921"
             ]
            ],
            "type": "heatmap"
           }
          ],
          "heatmapgl": [
           {
            "colorbar": {
             "outlinewidth": 0,
             "ticks": ""
            },
            "colorscale": [
             [
              0,
              "#0d0887"
             ],
             [
              0.1111111111111111,
              "#46039f"
             ],
             [
              0.2222222222222222,
              "#7201a8"
             ],
             [
              0.3333333333333333,
              "#9c179e"
             ],
             [
              0.4444444444444444,
              "#bd3786"
             ],
             [
              0.5555555555555556,
              "#d8576b"
             ],
             [
              0.6666666666666666,
              "#ed7953"
             ],
             [
              0.7777777777777778,
              "#fb9f3a"
             ],
             [
              0.8888888888888888,
              "#fdca26"
             ],
             [
              1,
              "#f0f921"
             ]
            ],
            "type": "heatmapgl"
           }
          ],
          "histogram": [
           {
            "marker": {
             "pattern": {
              "fillmode": "overlay",
              "size": 10,
              "solidity": 0.2
             }
            },
            "type": "histogram"
           }
          ],
          "histogram2d": [
           {
            "colorbar": {
             "outlinewidth": 0,
             "ticks": ""
            },
            "colorscale": [
             [
              0,
              "#0d0887"
             ],
             [
              0.1111111111111111,
              "#46039f"
             ],
             [
              0.2222222222222222,
              "#7201a8"
             ],
             [
              0.3333333333333333,
              "#9c179e"
             ],
             [
              0.4444444444444444,
              "#bd3786"
             ],
             [
              0.5555555555555556,
              "#d8576b"
             ],
             [
              0.6666666666666666,
              "#ed7953"
             ],
             [
              0.7777777777777778,
              "#fb9f3a"
             ],
             [
              0.8888888888888888,
              "#fdca26"
             ],
             [
              1,
              "#f0f921"
             ]
            ],
            "type": "histogram2d"
           }
          ],
          "histogram2dcontour": [
           {
            "colorbar": {
             "outlinewidth": 0,
             "ticks": ""
            },
            "colorscale": [
             [
              0,
              "#0d0887"
             ],
             [
              0.1111111111111111,
              "#46039f"
             ],
             [
              0.2222222222222222,
              "#7201a8"
             ],
             [
              0.3333333333333333,
              "#9c179e"
             ],
             [
              0.4444444444444444,
              "#bd3786"
             ],
             [
              0.5555555555555556,
              "#d8576b"
             ],
             [
              0.6666666666666666,
              "#ed7953"
             ],
             [
              0.7777777777777778,
              "#fb9f3a"
             ],
             [
              0.8888888888888888,
              "#fdca26"
             ],
             [
              1,
              "#f0f921"
             ]
            ],
            "type": "histogram2dcontour"
           }
          ],
          "mesh3d": [
           {
            "colorbar": {
             "outlinewidth": 0,
             "ticks": ""
            },
            "type": "mesh3d"
           }
          ],
          "parcoords": [
           {
            "line": {
             "colorbar": {
              "outlinewidth": 0,
              "ticks": ""
             }
            },
            "type": "parcoords"
           }
          ],
          "pie": [
           {
            "automargin": true,
            "type": "pie"
           }
          ],
          "scatter": [
           {
            "fillpattern": {
             "fillmode": "overlay",
             "size": 10,
             "solidity": 0.2
            },
            "type": "scatter"
           }
          ],
          "scatter3d": [
           {
            "line": {
             "colorbar": {
              "outlinewidth": 0,
              "ticks": ""
             }
            },
            "marker": {
             "colorbar": {
              "outlinewidth": 0,
              "ticks": ""
             }
            },
            "type": "scatter3d"
           }
          ],
          "scattercarpet": [
           {
            "marker": {
             "colorbar": {
              "outlinewidth": 0,
              "ticks": ""
             }
            },
            "type": "scattercarpet"
           }
          ],
          "scattergeo": [
           {
            "marker": {
             "colorbar": {
              "outlinewidth": 0,
              "ticks": ""
             }
            },
            "type": "scattergeo"
           }
          ],
          "scattergl": [
           {
            "marker": {
             "colorbar": {
              "outlinewidth": 0,
              "ticks": ""
             }
            },
            "type": "scattergl"
           }
          ],
          "scattermapbox": [
           {
            "marker": {
             "colorbar": {
              "outlinewidth": 0,
              "ticks": ""
             }
            },
            "type": "scattermapbox"
           }
          ],
          "scatterpolar": [
           {
            "marker": {
             "colorbar": {
              "outlinewidth": 0,
              "ticks": ""
             }
            },
            "type": "scatterpolar"
           }
          ],
          "scatterpolargl": [
           {
            "marker": {
             "colorbar": {
              "outlinewidth": 0,
              "ticks": ""
             }
            },
            "type": "scatterpolargl"
           }
          ],
          "scatterternary": [
           {
            "marker": {
             "colorbar": {
              "outlinewidth": 0,
              "ticks": ""
             }
            },
            "type": "scatterternary"
           }
          ],
          "surface": [
           {
            "colorbar": {
             "outlinewidth": 0,
             "ticks": ""
            },
            "colorscale": [
             [
              0,
              "#0d0887"
             ],
             [
              0.1111111111111111,
              "#46039f"
             ],
             [
              0.2222222222222222,
              "#7201a8"
             ],
             [
              0.3333333333333333,
              "#9c179e"
             ],
             [
              0.4444444444444444,
              "#bd3786"
             ],
             [
              0.5555555555555556,
              "#d8576b"
             ],
             [
              0.6666666666666666,
              "#ed7953"
             ],
             [
              0.7777777777777778,
              "#fb9f3a"
             ],
             [
              0.8888888888888888,
              "#fdca26"
             ],
             [
              1,
              "#f0f921"
             ]
            ],
            "type": "surface"
           }
          ],
          "table": [
           {
            "cells": {
             "fill": {
              "color": "#EBF0F8"
             },
             "line": {
              "color": "white"
             }
            },
            "header": {
             "fill": {
              "color": "#C8D4E3"
             },
             "line": {
              "color": "white"
             }
            },
            "type": "table"
           }
          ]
         },
         "layout": {
          "annotationdefaults": {
           "arrowcolor": "#2a3f5f",
           "arrowhead": 0,
           "arrowwidth": 1
          },
          "autotypenumbers": "strict",
          "coloraxis": {
           "colorbar": {
            "outlinewidth": 0,
            "ticks": ""
           }
          },
          "colorscale": {
           "diverging": [
            [
             0,
             "#8e0152"
            ],
            [
             0.1,
             "#c51b7d"
            ],
            [
             0.2,
             "#de77ae"
            ],
            [
             0.3,
             "#f1b6da"
            ],
            [
             0.4,
             "#fde0ef"
            ],
            [
             0.5,
             "#f7f7f7"
            ],
            [
             0.6,
             "#e6f5d0"
            ],
            [
             0.7,
             "#b8e186"
            ],
            [
             0.8,
             "#7fbc41"
            ],
            [
             0.9,
             "#4d9221"
            ],
            [
             1,
             "#276419"
            ]
           ],
           "sequential": [
            [
             0,
             "#0d0887"
            ],
            [
             0.1111111111111111,
             "#46039f"
            ],
            [
             0.2222222222222222,
             "#7201a8"
            ],
            [
             0.3333333333333333,
             "#9c179e"
            ],
            [
             0.4444444444444444,
             "#bd3786"
            ],
            [
             0.5555555555555556,
             "#d8576b"
            ],
            [
             0.6666666666666666,
             "#ed7953"
            ],
            [
             0.7777777777777778,
             "#fb9f3a"
            ],
            [
             0.8888888888888888,
             "#fdca26"
            ],
            [
             1,
             "#f0f921"
            ]
           ],
           "sequentialminus": [
            [
             0,
             "#0d0887"
            ],
            [
             0.1111111111111111,
             "#46039f"
            ],
            [
             0.2222222222222222,
             "#7201a8"
            ],
            [
             0.3333333333333333,
             "#9c179e"
            ],
            [
             0.4444444444444444,
             "#bd3786"
            ],
            [
             0.5555555555555556,
             "#d8576b"
            ],
            [
             0.6666666666666666,
             "#ed7953"
            ],
            [
             0.7777777777777778,
             "#fb9f3a"
            ],
            [
             0.8888888888888888,
             "#fdca26"
            ],
            [
             1,
             "#f0f921"
            ]
           ]
          },
          "colorway": [
           "#636efa",
           "#EF553B",
           "#00cc96",
           "#ab63fa",
           "#FFA15A",
           "#19d3f3",
           "#FF6692",
           "#B6E880",
           "#FF97FF",
           "#FECB52"
          ],
          "font": {
           "color": "#2a3f5f"
          },
          "geo": {
           "bgcolor": "white",
           "lakecolor": "white",
           "landcolor": "#E5ECF6",
           "showlakes": true,
           "showland": true,
           "subunitcolor": "white"
          },
          "hoverlabel": {
           "align": "left"
          },
          "hovermode": "closest",
          "mapbox": {
           "style": "light"
          },
          "paper_bgcolor": "white",
          "plot_bgcolor": "#E5ECF6",
          "polar": {
           "angularaxis": {
            "gridcolor": "white",
            "linecolor": "white",
            "ticks": ""
           },
           "bgcolor": "#E5ECF6",
           "radialaxis": {
            "gridcolor": "white",
            "linecolor": "white",
            "ticks": ""
           }
          },
          "scene": {
           "xaxis": {
            "backgroundcolor": "#E5ECF6",
            "gridcolor": "white",
            "gridwidth": 2,
            "linecolor": "white",
            "showbackground": true,
            "ticks": "",
            "zerolinecolor": "white"
           },
           "yaxis": {
            "backgroundcolor": "#E5ECF6",
            "gridcolor": "white",
            "gridwidth": 2,
            "linecolor": "white",
            "showbackground": true,
            "ticks": "",
            "zerolinecolor": "white"
           },
           "zaxis": {
            "backgroundcolor": "#E5ECF6",
            "gridcolor": "white",
            "gridwidth": 2,
            "linecolor": "white",
            "showbackground": true,
            "ticks": "",
            "zerolinecolor": "white"
           }
          },
          "shapedefaults": {
           "line": {
            "color": "#2a3f5f"
           }
          },
          "ternary": {
           "aaxis": {
            "gridcolor": "white",
            "linecolor": "white",
            "ticks": ""
           },
           "baxis": {
            "gridcolor": "white",
            "linecolor": "white",
            "ticks": ""
           },
           "bgcolor": "#E5ECF6",
           "caxis": {
            "gridcolor": "white",
            "linecolor": "white",
            "ticks": ""
           }
          },
          "title": {
           "x": 0.05
          },
          "xaxis": {
           "automargin": true,
           "gridcolor": "white",
           "linecolor": "white",
           "ticks": "",
           "title": {
            "standoff": 15
           },
           "zerolinecolor": "white",
           "zerolinewidth": 2
          },
          "yaxis": {
           "automargin": true,
           "gridcolor": "white",
           "linecolor": "white",
           "ticks": "",
           "title": {
            "standoff": 15
           },
           "zerolinecolor": "white",
           "zerolinewidth": 2
          }
         }
        },
        "title": {
         "text": "Countries using each vaccine (different colors for each vaccine)"
        }
       }
      },
      "text/html": [
       "<div>                            <div id=\"617c5ccc-285e-4e36-b0f2-3b47d20e871a\" class=\"plotly-graph-div\" style=\"height:800px; width:100%;\"></div>            <script type=\"text/javascript\">                require([\"plotly\"], function(Plotly) {                    window.PLOTLYENV=window.PLOTLYENV || {};                                    if (document.getElementById(\"617c5ccc-285e-4e36-b0f2-3b47d20e871a\")) {                    Plotly.newPlot(                        \"617c5ccc-285e-4e36-b0f2-3b47d20e871a\",                        [{\"colorscale\":[[0.0,\"#636efa\"],[1.0,\"#636efa\"]],\"geo\":\"geo\",\"hovertemplate\":\"color=Johnson&Johnson, Oxford/AstraZeneca, Pfizer/BioNTech, Sinopharm/Beijing<br>locations=%{location}<extra></extra>\",\"locationmode\":\"country names\",\"locations\":[\"Afghanistan\"],\"name\":\"Johnson&Johnson, Oxford/AstraZeneca, Pfizer/BioNTech, Sinopharm/Beijing\",\"showlegend\":true,\"showscale\":false,\"z\":[1],\"type\":\"choropleth\"},{\"colorscale\":[[0.0,\"#EF553B\"],[1.0,\"#EF553B\"]],\"geo\":\"geo\",\"hovertemplate\":\"color=Oxford/AstraZeneca, Pfizer/BioNTech, Sinovac, Sputnik V<br>locations=%{location}<extra></extra>\",\"locationmode\":\"country names\",\"locations\":[\"Albania\",\"Bosnia and Herzegovina\",\"Oman\",\"Tunisia\"],\"name\":\"Oxford/AstraZeneca, Pfizer/BioNTech, Sinovac, Sputnik V\",\"showlegend\":true,\"showscale\":false,\"z\":[1,1,1,1],\"type\":\"choropleth\"},{\"colorscale\":[[0.0,\"#00cc96\"],[1.0,\"#00cc96\"]],\"geo\":\"geo\",\"hovertemplate\":\"color=Oxford/AstraZeneca, Sputnik V<br>locations=%{location}<extra></extra>\",\"locationmode\":\"country names\",\"locations\":[\"Algeria\",\"Ghana\",\"Guyana\",\"Kenya\",\"Nicaragua\"],\"name\":\"Oxford/AstraZeneca, Sputnik V\",\"showlegend\":true,\"showscale\":false,\"z\":[1,1,1,1,1],\"type\":\"choropleth\"},{\"colorscale\":[[0.0,\"#ab63fa\"],[1.0,\"#ab63fa\"]],\"geo\":\"geo\",\"hovertemplate\":\"color=Oxford/AstraZeneca, Pfizer/BioNTech<br>locations=%{location}<extra></extra>\",\"locationmode\":\"country names\",\"locations\":[\"Andorra\",\"Australia\",\"Bermuda\",\"Bhutan\",\"Cape Verde\",\"Cayman Islands\",\"Costa Rica\",\"Isle of Man\",\"Panama\",\"Saudi Arabia\",\"Slovenia\",\"Sweden\"],\"name\":\"Oxford/AstraZeneca, Pfizer/BioNTech\",\"showlegend\":true,\"showscale\":false,\"z\":[1,1,1,1,1,1,1,1,1,1,1,1],\"type\":\"choropleth\"},{\"colorscale\":[[0.0,\"#FFA15A\"],[1.0,\"#FFA15A\"]],\"geo\":\"geo\",\"hovertemplate\":\"color=Oxford/AstraZeneca<br>locations=%{location}<extra></extra>\",\"locationmode\":\"country names\",\"locations\":[\"Angola\",\"Anguilla\",\"Antigua and Barbuda\",\"Bahamas\",\"Barbados\",\"Botswana\",\"British Virgin Islands\",\"Burkina Faso\",\"Cook Islands\",\"Cote d'Ivoire\",\"Democratic Republic of Congo\",\"Eswatini\",\"Ethiopia\",\"Falkland Islands\",\"Fiji\",\"French Polynesia\",\"Georgia\",\"Grenada\",\"Jamaica\",\"Kosovo\",\"Lesotho\",\"Liberia\",\"Madagascar\",\"Malawi\",\"Mali\",\"Montserrat\",\"Nauru\",\"Nigeria\",\"Niue\",\"Pitcairn\",\"Saint Helena\",\"Saint Kitts and Nevis\",\"Saint Lucia\",\"Saint Vincent and the Grenadines\",\"Samoa\",\"Sao Tome and Principe\",\"Solomon Islands\",\"South Sudan\",\"Suriname\",\"Togo\",\"Tonga\",\"Trinidad and Tobago\",\"Tuvalu\",\"Uganda\",\"Vanuatu\",\"Wallis and Futuna\",\"Yemen\"],\"name\":\"Oxford/AstraZeneca\",\"showlegend\":true,\"showscale\":false,\"z\":[1,1,1,1,1,1,1,1,1,1,1,1,1,1,1,1,1,1,1,1,1,1,1,1,1,1,1,1,1,1,1,1,1,1,1,1,1,1,1,1,1,1,1,1,1,1,1],\"type\":\"choropleth\"},{\"colorscale\":[[0.0,\"#19d3f3\"],[1.0,\"#19d3f3\"]],\"geo\":\"geo\",\"hovertemplate\":\"color=Oxford/AstraZeneca, Sinopharm/Beijing, Sputnik V<br>locations=%{location}<extra></extra>\",\"locationmode\":\"country names\",\"locations\":[\"Argentina\",\"Sri Lanka\",\"Syria\"],\"name\":\"Oxford/AstraZeneca, Sinopharm/Beijing, Sputnik V\",\"showlegend\":true,\"showscale\":false,\"z\":[1,1,1],\"type\":\"choropleth\"},{\"colorscale\":[[0.0,\"#FF6692\"],[1.0,\"#FF6692\"]],\"geo\":\"geo\",\"hovertemplate\":\"color=Oxford/AstraZeneca, Sinovac, Sputnik V<br>locations=%{location}<extra></extra>\",\"locationmode\":\"country names\",\"locations\":[\"Armenia\",\"Azerbaijan\"],\"name\":\"Oxford/AstraZeneca, Sinovac, Sputnik V\",\"showlegend\":true,\"showscale\":false,\"z\":[1,1],\"type\":\"choropleth\"},{\"colorscale\":[[0.0,\"#B6E880\"],[1.0,\"#B6E880\"]],\"geo\":\"geo\",\"hovertemplate\":\"color=Pfizer/BioNTech<br>locations=%{location}<extra></extra>\",\"locationmode\":\"country names\",\"locations\":[\"Aruba\",\"Gibraltar\",\"Kuwait\",\"Monaco\",\"New Caledonia\",\"New Zealand\",\"Turks and Caicos Islands\"],\"name\":\"Pfizer/BioNTech\",\"showlegend\":true,\"showscale\":false,\"z\":[1,1,1,1,1,1,1],\"type\":\"choropleth\"},{\"colorscale\":[[0.0,\"#FF97FF\"],[1.0,\"#FF97FF\"]],\"geo\":\"geo\",\"hovertemplate\":\"color=Johnson&Johnson, Moderna, Oxford/AstraZeneca, Pfizer/BioNTech<br>locations=%{location}<extra></extra>\",\"locationmode\":\"country names\",\"locations\":[\"Austria\",\"Belgium\",\"Bulgaria\",\"Cyprus\",\"Czechia\",\"Estonia\",\"France\",\"Germany\",\"Greece\",\"Iceland\",\"Ireland\",\"Italy\",\"Latvia\",\"Lithuania\",\"Malta\",\"Netherlands\",\"Poland\",\"Portugal\",\"Romania\",\"South Korea\",\"Spain\"],\"name\":\"Johnson&Johnson, Moderna, Oxford/AstraZeneca, Pfizer/BioNTech\",\"showlegend\":true,\"showscale\":false,\"z\":[1,1,1,1,1,1,1,1,1,1,1,1,1,1,1,1,1,1,1,1,1],\"type\":\"choropleth\"},{\"colorscale\":[[0.0,\"#FECB52\"],[1.0,\"#FECB52\"]],\"geo\":\"geo\",\"hovertemplate\":\"color=Oxford/AstraZeneca, Pfizer/BioNTech, Sinopharm/Beijing, Sputnik V<br>locations=%{location}<extra></extra>\",\"locationmode\":\"country names\",\"locations\":[\"Bahrain\",\"Bolivia\",\"Iraq\",\"Jordan\",\"Lebanon\",\"Moldova\",\"Mongolia\",\"Montenegro\",\"Serbia\"],\"name\":\"Oxford/AstraZeneca, Pfizer/BioNTech, Sinopharm/Beijing, Sputnik V\",\"showlegend\":true,\"showscale\":false,\"z\":[1,1,1,1,1,1,1,1,1],\"type\":\"choropleth\"},{\"colorscale\":[[0.0,\"#636efa\"],[1.0,\"#636efa\"]],\"geo\":\"geo\",\"hovertemplate\":\"color=Oxford/AstraZeneca, Pfizer/BioNTech, Sinopharm/Beijing<br>locations=%{location}<extra></extra>\",\"locationmode\":\"country names\",\"locations\":[\"Bangladesh\",\"Maldives\",\"Peru\"],\"name\":\"Oxford/AstraZeneca, Pfizer/BioNTech, Sinopharm/Beijing\",\"showlegend\":true,\"showscale\":false,\"z\":[1,1,1],\"type\":\"choropleth\"},{\"colorscale\":[[0.0,\"#EF553B\"],[1.0,\"#EF553B\"]],\"geo\":\"geo\",\"hovertemplate\":\"color=Sinopharm/Beijing, Sputnik V<br>locations=%{location}<extra></extra>\",\"locationmode\":\"country names\",\"locations\":[\"Belarus\",\"Kyrgyzstan\",\"Laos\",\"Venezuela\"],\"name\":\"Sinopharm/Beijing, Sputnik V\",\"showlegend\":true,\"showscale\":false,\"z\":[1,1,1,1],\"type\":\"choropleth\"},{\"colorscale\":[[0.0,\"#00cc96\"],[1.0,\"#00cc96\"]],\"geo\":\"geo\",\"hovertemplate\":\"color=Oxford/AstraZeneca, Sinopharm/Beijing<br>locations=%{location}<extra></extra>\",\"locationmode\":\"country names\",\"locations\":[\"Belize\",\"Brunei\",\"Cameroon\",\"Dominica\",\"Gambia\",\"Guinea-Bissau\",\"Mauritania\",\"Morocco\",\"Mozambique\",\"Myanmar\",\"Namibia\",\"Nepal\",\"Niger\",\"Papua New Guinea\",\"Senegal\",\"Seychelles\",\"Sierra Leone\",\"Vietnam\",\"Zambia\"],\"name\":\"Oxford/AstraZeneca, Sinopharm/Beijing\",\"showlegend\":true,\"showscale\":false,\"z\":[1,1,1,1,1,1,1,1,1,1,1,1,1,1,1,1,1,1,1],\"type\":\"choropleth\"},{\"colorscale\":[[0.0,\"#ab63fa\"],[1.0,\"#ab63fa\"]],\"geo\":\"geo\",\"hovertemplate\":\"color=Oxford/AstraZeneca, Sinovac<br>locations=%{location}<extra></extra>\",\"locationmode\":\"country names\",\"locations\":[\"Benin\",\"Indonesia\",\"Tajikistan\",\"Thailand\",\"Timor\"],\"name\":\"Oxford/AstraZeneca, Sinovac\",\"showlegend\":true,\"showscale\":false,\"z\":[1,1,1,1,1],\"type\":\"choropleth\"},{\"colorscale\":[[0.0,\"#FFA15A\"],[1.0,\"#FFA15A\"]],\"geo\":\"geo\",\"hovertemplate\":\"color=Moderna, Pfizer/BioNTech<br>locations=%{location}<extra></extra>\",\"locationmode\":\"country names\",\"locations\":[\"Bonaire Sint Eustatius and Saba\",\"Curacao\",\"Faeroe Islands\",\"Israel\",\"Japan\",\"Liechtenstein\",\"Norway\",\"Qatar\",\"Switzerland\"],\"name\":\"Moderna, Pfizer/BioNTech\",\"showlegend\":true,\"showscale\":false,\"z\":[1,1,1,1,1,1,1,1,1],\"type\":\"choropleth\"},{\"colorscale\":[[0.0,\"#19d3f3\"],[1.0,\"#19d3f3\"]],\"geo\":\"geo\",\"hovertemplate\":\"color=Johnson&Johnson, Oxford/AstraZeneca, Pfizer/BioNTech, Sinovac<br>locations=%{location}<extra></extra>\",\"locationmode\":\"country names\",\"locations\":[\"Brazil\"],\"name\":\"Johnson&Johnson, Oxford/AstraZeneca, Pfizer/BioNTech, Sinovac\",\"showlegend\":true,\"showscale\":false,\"z\":[1],\"type\":\"choropleth\"},{\"colorscale\":[[0.0,\"#FF6692\"],[1.0,\"#FF6692\"]],\"geo\":\"geo\",\"hovertemplate\":\"color=Oxford/AstraZeneca, Sinopharm/Beijing, Sinovac<br>locations=%{location}<extra></extra>\",\"locationmode\":\"country names\",\"locations\":[\"Cambodia\",\"Somalia\"],\"name\":\"Oxford/AstraZeneca, Sinopharm/Beijing, Sinovac\",\"showlegend\":true,\"showscale\":false,\"z\":[1,1],\"type\":\"choropleth\"},{\"colorscale\":[[0.0,\"#B6E880\"],[1.0,\"#B6E880\"]],\"geo\":\"geo\",\"hovertemplate\":\"color=Moderna, Oxford/AstraZeneca, Pfizer/BioNTech<br>locations=%{location}<extra></extra>\",\"locationmode\":\"country names\",\"locations\":[\"Canada\",\"Croatia\",\"England\",\"Finland\",\"Guernsey\",\"Jersey\",\"Luxembourg\",\"Northern Ireland\",\"Rwanda\",\"Scotland\",\"Sint Maarten (Dutch part)\",\"Slovakia\",\"United Kingdom\",\"Wales\"],\"name\":\"Moderna, Oxford/AstraZeneca, Pfizer/BioNTech\",\"showlegend\":true,\"showscale\":false,\"z\":[1,1,1,1,1,1,1,1,1,1,1,1,1,1],\"type\":\"choropleth\"},{\"colorscale\":[[0.0,\"#FF97FF\"],[1.0,\"#FF97FF\"]],\"geo\":\"geo\",\"hovertemplate\":\"color=Covaxin, Oxford/AstraZeneca<br>locations=%{location}<extra></extra>\",\"locationmode\":\"country names\",\"locations\":[\"Central African Republic\"],\"name\":\"Covaxin, Oxford/AstraZeneca\",\"showlegend\":true,\"showscale\":false,\"z\":[1],\"type\":\"choropleth\"},{\"colorscale\":[[0.0,\"#FECB52\"],[1.0,\"#FECB52\"]],\"geo\":\"geo\",\"hovertemplate\":\"color=Sinopharm/Beijing<br>locations=%{location}<extra></extra>\",\"locationmode\":\"country names\",\"locations\":[\"Chad\",\"Equatorial Guinea\",\"Gabon\",\"Zimbabwe\"],\"name\":\"Sinopharm/Beijing\",\"showlegend\":true,\"showscale\":false,\"z\":[1,1,1,1],\"type\":\"choropleth\"},{\"colorscale\":[[0.0,\"#636efa\"],[1.0,\"#636efa\"]],\"geo\":\"geo\",\"hovertemplate\":\"color=CanSino, Oxford/AstraZeneca, Pfizer/BioNTech, Sinovac<br>locations=%{location}<extra></extra>\",\"locationmode\":\"country names\",\"locations\":[\"Chile\"],\"name\":\"CanSino, Oxford/AstraZeneca, Pfizer/BioNTech, Sinovac\",\"showlegend\":true,\"showscale\":false,\"z\":[1],\"type\":\"choropleth\"},{\"colorscale\":[[0.0,\"#EF553B\"],[1.0,\"#EF553B\"]],\"geo\":\"geo\",\"hovertemplate\":\"color=CanSino, Sinopharm/Beijing, Sinopharm/Wuhan, Sinovac<br>locations=%{location}<extra></extra>\",\"locationmode\":\"country names\",\"locations\":[\"China\"],\"name\":\"CanSino, Sinopharm/Beijing, Sinopharm/Wuhan, Sinovac\",\"showlegend\":true,\"showscale\":false,\"z\":[1],\"type\":\"choropleth\"},{\"colorscale\":[[0.0,\"#00cc96\"],[1.0,\"#00cc96\"]],\"geo\":\"geo\",\"hovertemplate\":\"color=Oxford/AstraZeneca, Pfizer/BioNTech, Sinovac<br>locations=%{location}<extra></extra>\",\"locationmode\":\"country names\",\"locations\":[\"Colombia\",\"Ecuador\",\"El Salvador\",\"Malaysia\",\"Northern Cyprus\",\"Ukraine\",\"Uruguay\"],\"name\":\"Oxford/AstraZeneca, Pfizer/BioNTech, Sinovac\",\"showlegend\":true,\"showscale\":false,\"z\":[1,1,1,1,1,1,1],\"type\":\"choropleth\"},{\"colorscale\":[[0.0,\"#ab63fa\"],[1.0,\"#ab63fa\"]],\"geo\":\"geo\",\"hovertemplate\":\"color=Covaxin, Oxford/AstraZeneca, Sinopharm/Beijing<br>locations=%{location}<extra></extra>\",\"locationmode\":\"country names\",\"locations\":[\"Comoros\",\"Mauritius\"],\"name\":\"Covaxin, Oxford/AstraZeneca, Sinopharm/Beijing\",\"showlegend\":true,\"showscale\":false,\"z\":[1,1],\"type\":\"choropleth\"},{\"colorscale\":[[0.0,\"#FFA15A\"],[1.0,\"#FFA15A\"]],\"geo\":\"geo\",\"hovertemplate\":\"color=Moderna, Oxford/AstraZeneca, Sinopharm/Beijing, Sputnik V<br>locations=%{location}<extra></extra>\",\"locationmode\":\"country names\",\"locations\":[\"Congo\"],\"name\":\"Moderna, Oxford/AstraZeneca, Sinopharm/Beijing, Sputnik V\",\"showlegend\":true,\"showscale\":false,\"z\":[1],\"type\":\"choropleth\"},{\"colorscale\":[[0.0,\"#19d3f3\"],[1.0,\"#19d3f3\"]],\"geo\":\"geo\",\"hovertemplate\":\"color=Abdala, Soberana02<br>locations=%{location}<extra></extra>\",\"locationmode\":\"country names\",\"locations\":[\"Cuba\"],\"name\":\"Abdala, Soberana02\",\"showlegend\":true,\"showscale\":false,\"z\":[1],\"type\":\"choropleth\"},{\"colorscale\":[[0.0,\"#FF6692\"],[1.0,\"#FF6692\"]],\"geo\":\"geo\",\"hovertemplate\":\"color=Johnson&Johnson, Moderna, Pfizer/BioNTech<br>locations=%{location}<extra></extra>\",\"locationmode\":\"country names\",\"locations\":[\"Denmark\",\"United States\"],\"name\":\"Johnson&Johnson, Moderna, Pfizer/BioNTech\",\"showlegend\":true,\"showscale\":false,\"z\":[1,1],\"type\":\"choropleth\"},{\"colorscale\":[[0.0,\"#B6E880\"],[1.0,\"#B6E880\"]],\"geo\":\"geo\",\"hovertemplate\":\"color=Oxford/AstraZeneca, Sinopharm/Beijing, Sinovac, Sputnik V<br>locations=%{location}<extra></extra>\",\"locationmode\":\"country names\",\"locations\":[\"Djibouti\",\"Egypt\"],\"name\":\"Oxford/AstraZeneca, Sinopharm/Beijing, Sinovac, Sputnik V\",\"showlegend\":true,\"showscale\":false,\"z\":[1,1],\"type\":\"choropleth\"},{\"colorscale\":[[0.0,\"#FF97FF\"],[1.0,\"#FF97FF\"]],\"geo\":\"geo\",\"hovertemplate\":\"color=Oxford/AstraZeneca, Pfizer/BioNTech, Sinopharm/Beijing, Sinovac<br>locations=%{location}<extra></extra>\",\"locationmode\":\"country names\",\"locations\":[\"Dominican Republic\",\"Sudan\"],\"name\":\"Oxford/AstraZeneca, Pfizer/BioNTech, Sinopharm/Beijing, Sinovac\",\"showlegend\":true,\"showscale\":false,\"z\":[1,1],\"type\":\"choropleth\"},{\"colorscale\":[[0.0,\"#FECB52\"],[1.0,\"#FECB52\"]],\"geo\":\"geo\",\"hovertemplate\":\"color=Moderna<br>locations=%{location}<extra></extra>\",\"locationmode\":\"country names\",\"locations\":[\"Greenland\"],\"name\":\"Moderna\",\"showlegend\":true,\"showscale\":false,\"z\":[1],\"type\":\"choropleth\"},{\"colorscale\":[[0.0,\"#636efa\"],[1.0,\"#636efa\"]],\"geo\":\"geo\",\"hovertemplate\":\"color=Moderna, Oxford/AstraZeneca<br>locations=%{location}<extra></extra>\",\"locationmode\":\"country names\",\"locations\":[\"Guatemala\",\"Taiwan\"],\"name\":\"Moderna, Oxford/AstraZeneca\",\"showlegend\":true,\"showscale\":false,\"z\":[1,1],\"type\":\"choropleth\"},{\"colorscale\":[[0.0,\"#EF553B\"],[1.0,\"#EF553B\"]],\"geo\":\"geo\",\"hovertemplate\":\"color=Sputnik V<br>locations=%{location}<extra></extra>\",\"locationmode\":\"country names\",\"locations\":[\"Guinea\"],\"name\":\"Sputnik V\",\"showlegend\":true,\"showscale\":false,\"z\":[1],\"type\":\"choropleth\"},{\"colorscale\":[[0.0,\"#00cc96\"],[1.0,\"#00cc96\"]],\"geo\":\"geo\",\"hovertemplate\":\"color=Johnson&Johnson, Moderna, Oxford/AstraZeneca, Pfizer/BioNTech, Sputnik V<br>locations=%{location}<extra></extra>\",\"locationmode\":\"country names\",\"locations\":[\"Honduras\"],\"name\":\"Johnson&Johnson, Moderna, Oxford/AstraZeneca, Pfizer/BioNTech, Sputnik V\",\"showlegend\":true,\"showscale\":false,\"z\":[1],\"type\":\"choropleth\"},{\"colorscale\":[[0.0,\"#ab63fa\"],[1.0,\"#ab63fa\"]],\"geo\":\"geo\",\"hovertemplate\":\"color=Pfizer/BioNTech, Sinovac<br>locations=%{location}<extra></extra>\",\"locationmode\":\"country names\",\"locations\":[\"Hong Kong\",\"Turkey\"],\"name\":\"Pfizer/BioNTech, Sinovac\",\"showlegend\":true,\"showscale\":false,\"z\":[1,1],\"type\":\"choropleth\"},{\"colorscale\":[[0.0,\"#FFA15A\"],[1.0,\"#FFA15A\"]],\"geo\":\"geo\",\"hovertemplate\":\"color=Johnson&Johnson, Moderna, Oxford/AstraZeneca, Pfizer/BioNTech, Sinopharm/Beijing, Sputnik V<br>locations=%{location}<extra></extra>\",\"locationmode\":\"country names\",\"locations\":[\"Hungary\"],\"name\":\"Johnson&Johnson, Moderna, Oxford/AstraZeneca, Pfizer/BioNTech, Sinopharm/Beijing, Sputnik V\",\"showlegend\":true,\"showscale\":false,\"z\":[1],\"type\":\"choropleth\"},{\"colorscale\":[[0.0,\"#19d3f3\"],[1.0,\"#19d3f3\"]],\"geo\":\"geo\",\"hovertemplate\":\"color=Covaxin, Oxford/AstraZeneca, Sputnik V<br>locations=%{location}<extra></extra>\",\"locationmode\":\"country names\",\"locations\":[\"India\"],\"name\":\"Covaxin, Oxford/AstraZeneca, Sputnik V\",\"showlegend\":true,\"showscale\":false,\"z\":[1],\"type\":\"choropleth\"},{\"colorscale\":[[0.0,\"#FF6692\"],[1.0,\"#FF6692\"]],\"geo\":\"geo\",\"hovertemplate\":\"color=Covaxin, Oxford/AstraZeneca, Sinopharm/Beijing, Sputnik V<br>locations=%{location}<extra></extra>\",\"locationmode\":\"country names\",\"locations\":[\"Iran\"],\"name\":\"Covaxin, Oxford/AstraZeneca, Sinopharm/Beijing, Sputnik V\",\"showlegend\":true,\"showscale\":false,\"z\":[1],\"type\":\"choropleth\"},{\"colorscale\":[[0.0,\"#B6E880\"],[1.0,\"#B6E880\"]],\"geo\":\"geo\",\"hovertemplate\":\"color=QazVac, Sinopharm/HayatVax, Sputnik V<br>locations=%{location}<extra></extra>\",\"locationmode\":\"country names\",\"locations\":[\"Kazakhstan\"],\"name\":\"QazVac, Sinopharm/HayatVax, Sputnik V\",\"showlegend\":true,\"showscale\":false,\"z\":[1],\"type\":\"choropleth\"},{\"colorscale\":[[0.0,\"#FF97FF\"],[1.0,\"#FF97FF\"]],\"geo\":\"geo\",\"hovertemplate\":\"color=Johnson&Johnson, Moderna, Oxford/AstraZeneca, Pfizer/BioNTech, Sinovac, Sputnik V<br>locations=%{location}<extra></extra>\",\"locationmode\":\"country names\",\"locations\":[\"Libya\"],\"name\":\"Johnson&Johnson, Moderna, Oxford/AstraZeneca, Pfizer/BioNTech, Sinovac, Sputnik V\",\"showlegend\":true,\"showscale\":false,\"z\":[1],\"type\":\"choropleth\"},{\"colorscale\":[[0.0,\"#FECB52\"],[1.0,\"#FECB52\"]],\"geo\":\"geo\",\"hovertemplate\":\"color=Pfizer/BioNTech, Sinopharm/Beijing<br>locations=%{location}<extra></extra>\",\"locationmode\":\"country names\",\"locations\":[\"Macao\"],\"name\":\"Pfizer/BioNTech, Sinopharm/Beijing\",\"showlegend\":true,\"showscale\":false,\"z\":[1],\"type\":\"choropleth\"},{\"colorscale\":[[0.0,\"#636efa\"],[1.0,\"#636efa\"]],\"geo\":\"geo\",\"hovertemplate\":\"color=CanSino, Oxford/AstraZeneca, Pfizer/BioNTech, Sinovac, Sputnik V<br>locations=%{location}<extra></extra>\",\"locationmode\":\"country names\",\"locations\":[\"Mexico\"],\"name\":\"CanSino, Oxford/AstraZeneca, Pfizer/BioNTech, Sinovac, Sputnik V\",\"showlegend\":true,\"showscale\":false,\"z\":[1],\"type\":\"choropleth\"},{\"colorscale\":[[0.0,\"#EF553B\"],[1.0,\"#EF553B\"]],\"geo\":\"geo\",\"hovertemplate\":\"color=Oxford/AstraZeneca, Pfizer/BioNTech, Sinopharm/Beijing, Sinovac, Sputnik V<br>locations=%{location}<extra></extra>\",\"locationmode\":\"country names\",\"locations\":[\"North Macedonia\"],\"name\":\"Oxford/AstraZeneca, Pfizer/BioNTech, Sinopharm/Beijing, Sinovac, Sputnik V\",\"showlegend\":true,\"showscale\":false,\"z\":[1],\"type\":\"choropleth\"},{\"colorscale\":[[0.0,\"#00cc96\"],[1.0,\"#00cc96\"]],\"geo\":\"geo\",\"hovertemplate\":\"color=CanSino, Oxford/AstraZeneca, Sinopharm/Beijing, Sinovac, Sputnik V<br>locations=%{location}<extra></extra>\",\"locationmode\":\"country names\",\"locations\":[\"Pakistan\"],\"name\":\"CanSino, Oxford/AstraZeneca, Sinopharm/Beijing, Sinovac, Sputnik V\",\"showlegend\":true,\"showscale\":false,\"z\":[1],\"type\":\"choropleth\"},{\"colorscale\":[[0.0,\"#ab63fa\"],[1.0,\"#ab63fa\"]],\"geo\":\"geo\",\"hovertemplate\":\"color=Moderna, Oxford/AstraZeneca, Pfizer/BioNTech, Sputnik V<br>locations=%{location}<extra></extra>\",\"locationmode\":\"country names\",\"locations\":[\"Palestine\"],\"name\":\"Moderna, Oxford/AstraZeneca, Pfizer/BioNTech, Sputnik V\",\"showlegend\":true,\"showscale\":false,\"z\":[1],\"type\":\"choropleth\"},{\"colorscale\":[[0.0,\"#FFA15A\"],[1.0,\"#FFA15A\"]],\"geo\":\"geo\",\"hovertemplate\":\"color=Covaxin, Oxford/AstraZeneca, Sinopharm/Beijing, Sinovac, Sputnik V<br>locations=%{location}<extra></extra>\",\"locationmode\":\"country names\",\"locations\":[\"Paraguay\"],\"name\":\"Covaxin, Oxford/AstraZeneca, Sinopharm/Beijing, Sinovac, Sputnik V\",\"showlegend\":true,\"showscale\":false,\"z\":[1],\"type\":\"choropleth\"},{\"colorscale\":[[0.0,\"#19d3f3\"],[1.0,\"#19d3f3\"]],\"geo\":\"geo\",\"hovertemplate\":\"color=Moderna, Oxford/AstraZeneca, Pfizer/BioNTech, Sinovac, Sputnik V<br>locations=%{location}<extra></extra>\",\"locationmode\":\"country names\",\"locations\":[\"Philippines\"],\"name\":\"Moderna, Oxford/AstraZeneca, Pfizer/BioNTech, Sinovac, Sputnik V\",\"showlegend\":true,\"showscale\":false,\"z\":[1],\"type\":\"choropleth\"},{\"colorscale\":[[0.0,\"#FF6692\"],[1.0,\"#FF6692\"]],\"geo\":\"geo\",\"hovertemplate\":\"color=EpiVacCorona, Sputnik V<br>locations=%{location}<extra></extra>\",\"locationmode\":\"country names\",\"locations\":[\"Russia\"],\"name\":\"EpiVacCorona, Sputnik V\",\"showlegend\":true,\"showscale\":false,\"z\":[1],\"type\":\"choropleth\"},{\"colorscale\":[[0.0,\"#B6E880\"],[1.0,\"#B6E880\"]],\"geo\":\"geo\",\"hovertemplate\":\"color=Pfizer/BioNTech, Sputnik V<br>locations=%{location}<extra></extra>\",\"locationmode\":\"country names\",\"locations\":[\"San Marino\"],\"name\":\"Pfizer/BioNTech, Sputnik V\",\"showlegend\":true,\"showscale\":false,\"z\":[1],\"type\":\"choropleth\"},{\"colorscale\":[[0.0,\"#FF97FF\"],[1.0,\"#FF97FF\"]],\"geo\":\"geo\",\"hovertemplate\":\"color=Moderna, Pfizer/BioNTech, Sinovac<br>locations=%{location}<extra></extra>\",\"locationmode\":\"country names\",\"locations\":[\"Singapore\"],\"name\":\"Moderna, Pfizer/BioNTech, Sinovac\",\"showlegend\":true,\"showscale\":false,\"z\":[1],\"type\":\"choropleth\"},{\"colorscale\":[[0.0,\"#FECB52\"],[1.0,\"#FECB52\"]],\"geo\":\"geo\",\"hovertemplate\":\"color=Johnson&Johnson, Pfizer/BioNTech<br>locations=%{location}<extra></extra>\",\"locationmode\":\"country names\",\"locations\":[\"South Africa\"],\"name\":\"Johnson&Johnson, Pfizer/BioNTech\",\"showlegend\":true,\"showscale\":false,\"z\":[1],\"type\":\"choropleth\"},{\"colorscale\":[[0.0,\"#636efa\"],[1.0,\"#636efa\"]],\"geo\":\"geo\",\"hovertemplate\":\"color=EpiVacCorona, Oxford/AstraZeneca, Sinopharm/Beijing, Sputnik V<br>locations=%{location}<extra></extra>\",\"locationmode\":\"country names\",\"locations\":[\"Turkmenistan\"],\"name\":\"EpiVacCorona, Oxford/AstraZeneca, Sinopharm/Beijing, Sputnik V\",\"showlegend\":true,\"showscale\":false,\"z\":[1],\"type\":\"choropleth\"},{\"colorscale\":[[0.0,\"#EF553B\"],[1.0,\"#EF553B\"]],\"geo\":\"geo\",\"hovertemplate\":\"color=Oxford/AstraZeneca, Pfizer/BioNTech, Sinopharm/Beijing, Sinopharm/Wuhan, Sputnik V<br>locations=%{location}<extra></extra>\",\"locationmode\":\"country names\",\"locations\":[\"United Arab Emirates\"],\"name\":\"Oxford/AstraZeneca, Pfizer/BioNTech, Sinopharm/Beijing, Sinopharm/Wuhan, Sputnik V\",\"showlegend\":true,\"showscale\":false,\"z\":[1],\"type\":\"choropleth\"},{\"colorscale\":[[0.0,\"#00cc96\"],[1.0,\"#00cc96\"]],\"geo\":\"geo\",\"hovertemplate\":\"color=Oxford/AstraZeneca, RBD-Dimer, Sputnik V<br>locations=%{location}<extra></extra>\",\"locationmode\":\"country names\",\"locations\":[\"Uzbekistan\"],\"name\":\"Oxford/AstraZeneca, RBD-Dimer, Sputnik V\",\"showlegend\":true,\"showscale\":false,\"z\":[1],\"type\":\"choropleth\"}],                        {\"template\":{\"data\":{\"histogram2dcontour\":[{\"type\":\"histogram2dcontour\",\"colorbar\":{\"outlinewidth\":0,\"ticks\":\"\"},\"colorscale\":[[0.0,\"#0d0887\"],[0.1111111111111111,\"#46039f\"],[0.2222222222222222,\"#7201a8\"],[0.3333333333333333,\"#9c179e\"],[0.4444444444444444,\"#bd3786\"],[0.5555555555555556,\"#d8576b\"],[0.6666666666666666,\"#ed7953\"],[0.7777777777777778,\"#fb9f3a\"],[0.8888888888888888,\"#fdca26\"],[1.0,\"#f0f921\"]]}],\"choropleth\":[{\"type\":\"choropleth\",\"colorbar\":{\"outlinewidth\":0,\"ticks\":\"\"}}],\"histogram2d\":[{\"type\":\"histogram2d\",\"colorbar\":{\"outlinewidth\":0,\"ticks\":\"\"},\"colorscale\":[[0.0,\"#0d0887\"],[0.1111111111111111,\"#46039f\"],[0.2222222222222222,\"#7201a8\"],[0.3333333333333333,\"#9c179e\"],[0.4444444444444444,\"#bd3786\"],[0.5555555555555556,\"#d8576b\"],[0.6666666666666666,\"#ed7953\"],[0.7777777777777778,\"#fb9f3a\"],[0.8888888888888888,\"#fdca26\"],[1.0,\"#f0f921\"]]}],\"heatmap\":[{\"type\":\"heatmap\",\"colorbar\":{\"outlinewidth\":0,\"ticks\":\"\"},\"colorscale\":[[0.0,\"#0d0887\"],[0.1111111111111111,\"#46039f\"],[0.2222222222222222,\"#7201a8\"],[0.3333333333333333,\"#9c179e\"],[0.4444444444444444,\"#bd3786\"],[0.5555555555555556,\"#d8576b\"],[0.6666666666666666,\"#ed7953\"],[0.7777777777777778,\"#fb9f3a\"],[0.8888888888888888,\"#fdca26\"],[1.0,\"#f0f921\"]]}],\"heatmapgl\":[{\"type\":\"heatmapgl\",\"colorbar\":{\"outlinewidth\":0,\"ticks\":\"\"},\"colorscale\":[[0.0,\"#0d0887\"],[0.1111111111111111,\"#46039f\"],[0.2222222222222222,\"#7201a8\"],[0.3333333333333333,\"#9c179e\"],[0.4444444444444444,\"#bd3786\"],[0.5555555555555556,\"#d8576b\"],[0.6666666666666666,\"#ed7953\"],[0.7777777777777778,\"#fb9f3a\"],[0.8888888888888888,\"#fdca26\"],[1.0,\"#f0f921\"]]}],\"contourcarpet\":[{\"type\":\"contourcarpet\",\"colorbar\":{\"outlinewidth\":0,\"ticks\":\"\"}}],\"contour\":[{\"type\":\"contour\",\"colorbar\":{\"outlinewidth\":0,\"ticks\":\"\"},\"colorscale\":[[0.0,\"#0d0887\"],[0.1111111111111111,\"#46039f\"],[0.2222222222222222,\"#7201a8\"],[0.3333333333333333,\"#9c179e\"],[0.4444444444444444,\"#bd3786\"],[0.5555555555555556,\"#d8576b\"],[0.6666666666666666,\"#ed7953\"],[0.7777777777777778,\"#fb9f3a\"],[0.8888888888888888,\"#fdca26\"],[1.0,\"#f0f921\"]]}],\"surface\":[{\"type\":\"surface\",\"colorbar\":{\"outlinewidth\":0,\"ticks\":\"\"},\"colorscale\":[[0.0,\"#0d0887\"],[0.1111111111111111,\"#46039f\"],[0.2222222222222222,\"#7201a8\"],[0.3333333333333333,\"#9c179e\"],[0.4444444444444444,\"#bd3786\"],[0.5555555555555556,\"#d8576b\"],[0.6666666666666666,\"#ed7953\"],[0.7777777777777778,\"#fb9f3a\"],[0.8888888888888888,\"#fdca26\"],[1.0,\"#f0f921\"]]}],\"mesh3d\":[{\"type\":\"mesh3d\",\"colorbar\":{\"outlinewidth\":0,\"ticks\":\"\"}}],\"scatter\":[{\"fillpattern\":{\"fillmode\":\"overlay\",\"size\":10,\"solidity\":0.2},\"type\":\"scatter\"}],\"parcoords\":[{\"type\":\"parcoords\",\"line\":{\"colorbar\":{\"outlinewidth\":0,\"ticks\":\"\"}}}],\"scatterpolargl\":[{\"type\":\"scatterpolargl\",\"marker\":{\"colorbar\":{\"outlinewidth\":0,\"ticks\":\"\"}}}],\"bar\":[{\"error_x\":{\"color\":\"#2a3f5f\"},\"error_y\":{\"color\":\"#2a3f5f\"},\"marker\":{\"line\":{\"color\":\"#E5ECF6\",\"width\":0.5},\"pattern\":{\"fillmode\":\"overlay\",\"size\":10,\"solidity\":0.2}},\"type\":\"bar\"}],\"scattergeo\":[{\"type\":\"scattergeo\",\"marker\":{\"colorbar\":{\"outlinewidth\":0,\"ticks\":\"\"}}}],\"scatterpolar\":[{\"type\":\"scatterpolar\",\"marker\":{\"colorbar\":{\"outlinewidth\":0,\"ticks\":\"\"}}}],\"histogram\":[{\"marker\":{\"pattern\":{\"fillmode\":\"overlay\",\"size\":10,\"solidity\":0.2}},\"type\":\"histogram\"}],\"scattergl\":[{\"type\":\"scattergl\",\"marker\":{\"colorbar\":{\"outlinewidth\":0,\"ticks\":\"\"}}}],\"scatter3d\":[{\"type\":\"scatter3d\",\"line\":{\"colorbar\":{\"outlinewidth\":0,\"ticks\":\"\"}},\"marker\":{\"colorbar\":{\"outlinewidth\":0,\"ticks\":\"\"}}}],\"scattermapbox\":[{\"type\":\"scattermapbox\",\"marker\":{\"colorbar\":{\"outlinewidth\":0,\"ticks\":\"\"}}}],\"scatterternary\":[{\"type\":\"scatterternary\",\"marker\":{\"colorbar\":{\"outlinewidth\":0,\"ticks\":\"\"}}}],\"scattercarpet\":[{\"type\":\"scattercarpet\",\"marker\":{\"colorbar\":{\"outlinewidth\":0,\"ticks\":\"\"}}}],\"carpet\":[{\"aaxis\":{\"endlinecolor\":\"#2a3f5f\",\"gridcolor\":\"white\",\"linecolor\":\"white\",\"minorgridcolor\":\"white\",\"startlinecolor\":\"#2a3f5f\"},\"baxis\":{\"endlinecolor\":\"#2a3f5f\",\"gridcolor\":\"white\",\"linecolor\":\"white\",\"minorgridcolor\":\"white\",\"startlinecolor\":\"#2a3f5f\"},\"type\":\"carpet\"}],\"table\":[{\"cells\":{\"fill\":{\"color\":\"#EBF0F8\"},\"line\":{\"color\":\"white\"}},\"header\":{\"fill\":{\"color\":\"#C8D4E3\"},\"line\":{\"color\":\"white\"}},\"type\":\"table\"}],\"barpolar\":[{\"marker\":{\"line\":{\"color\":\"#E5ECF6\",\"width\":0.5},\"pattern\":{\"fillmode\":\"overlay\",\"size\":10,\"solidity\":0.2}},\"type\":\"barpolar\"}],\"pie\":[{\"automargin\":true,\"type\":\"pie\"}]},\"layout\":{\"autotypenumbers\":\"strict\",\"colorway\":[\"#636efa\",\"#EF553B\",\"#00cc96\",\"#ab63fa\",\"#FFA15A\",\"#19d3f3\",\"#FF6692\",\"#B6E880\",\"#FF97FF\",\"#FECB52\"],\"font\":{\"color\":\"#2a3f5f\"},\"hovermode\":\"closest\",\"hoverlabel\":{\"align\":\"left\"},\"paper_bgcolor\":\"white\",\"plot_bgcolor\":\"#E5ECF6\",\"polar\":{\"bgcolor\":\"#E5ECF6\",\"angularaxis\":{\"gridcolor\":\"white\",\"linecolor\":\"white\",\"ticks\":\"\"},\"radialaxis\":{\"gridcolor\":\"white\",\"linecolor\":\"white\",\"ticks\":\"\"}},\"ternary\":{\"bgcolor\":\"#E5ECF6\",\"aaxis\":{\"gridcolor\":\"white\",\"linecolor\":\"white\",\"ticks\":\"\"},\"baxis\":{\"gridcolor\":\"white\",\"linecolor\":\"white\",\"ticks\":\"\"},\"caxis\":{\"gridcolor\":\"white\",\"linecolor\":\"white\",\"ticks\":\"\"}},\"coloraxis\":{\"colorbar\":{\"outlinewidth\":0,\"ticks\":\"\"}},\"colorscale\":{\"sequential\":[[0.0,\"#0d0887\"],[0.1111111111111111,\"#46039f\"],[0.2222222222222222,\"#7201a8\"],[0.3333333333333333,\"#9c179e\"],[0.4444444444444444,\"#bd3786\"],[0.5555555555555556,\"#d8576b\"],[0.6666666666666666,\"#ed7953\"],[0.7777777777777778,\"#fb9f3a\"],[0.8888888888888888,\"#fdca26\"],[1.0,\"#f0f921\"]],\"sequentialminus\":[[0.0,\"#0d0887\"],[0.1111111111111111,\"#46039f\"],[0.2222222222222222,\"#7201a8\"],[0.3333333333333333,\"#9c179e\"],[0.4444444444444444,\"#bd3786\"],[0.5555555555555556,\"#d8576b\"],[0.6666666666666666,\"#ed7953\"],[0.7777777777777778,\"#fb9f3a\"],[0.8888888888888888,\"#fdca26\"],[1.0,\"#f0f921\"]],\"diverging\":[[0,\"#8e0152\"],[0.1,\"#c51b7d\"],[0.2,\"#de77ae\"],[0.3,\"#f1b6da\"],[0.4,\"#fde0ef\"],[0.5,\"#f7f7f7\"],[0.6,\"#e6f5d0\"],[0.7,\"#b8e186\"],[0.8,\"#7fbc41\"],[0.9,\"#4d9221\"],[1,\"#276419\"]]},\"xaxis\":{\"gridcolor\":\"white\",\"linecolor\":\"white\",\"ticks\":\"\",\"title\":{\"standoff\":15},\"zerolinecolor\":\"white\",\"automargin\":true,\"zerolinewidth\":2},\"yaxis\":{\"gridcolor\":\"white\",\"linecolor\":\"white\",\"ticks\":\"\",\"title\":{\"standoff\":15},\"zerolinecolor\":\"white\",\"automargin\":true,\"zerolinewidth\":2},\"scene\":{\"xaxis\":{\"backgroundcolor\":\"#E5ECF6\",\"gridcolor\":\"white\",\"linecolor\":\"white\",\"showbackground\":true,\"ticks\":\"\",\"zerolinecolor\":\"white\",\"gridwidth\":2},\"yaxis\":{\"backgroundcolor\":\"#E5ECF6\",\"gridcolor\":\"white\",\"linecolor\":\"white\",\"showbackground\":true,\"ticks\":\"\",\"zerolinecolor\":\"white\",\"gridwidth\":2},\"zaxis\":{\"backgroundcolor\":\"#E5ECF6\",\"gridcolor\":\"white\",\"linecolor\":\"white\",\"showbackground\":true,\"ticks\":\"\",\"zerolinecolor\":\"white\",\"gridwidth\":2}},\"shapedefaults\":{\"line\":{\"color\":\"#2a3f5f\"}},\"annotationdefaults\":{\"arrowcolor\":\"#2a3f5f\",\"arrowhead\":0,\"arrowwidth\":1},\"geo\":{\"bgcolor\":\"white\",\"landcolor\":\"#E5ECF6\",\"subunitcolor\":\"white\",\"showland\":true,\"showlakes\":true,\"lakecolor\":\"white\"},\"title\":{\"x\":0.05},\"mapbox\":{\"style\":\"light\"}}},\"geo\":{\"domain\":{\"x\":[0.0,1.0],\"y\":[0.0,1.0]},\"center\":{}},\"legend\":{\"title\":{\"text\":\"Vaccine scheme\"},\"tracegroupgap\":0,\"orientation\":\"v\"},\"title\":{\"text\":\"Countries using each vaccine (different colors for each vaccine)\"},\"height\":800},                        {\"responsive\": true}                    ).then(function(){\n",
       "                            \n",
       "var gd = document.getElementById('617c5ccc-285e-4e36-b0f2-3b47d20e871a');\n",
       "var x = new MutationObserver(function (mutations, observer) {{\n",
       "        var display = window.getComputedStyle(gd).display;\n",
       "        if (!display || display === 'none') {{\n",
       "            console.log([gd, 'removed!']);\n",
       "            Plotly.purge(gd);\n",
       "            observer.disconnect();\n",
       "        }}\n",
       "}});\n",
       "\n",
       "// Listen for the removal of the full notebook cells\n",
       "var notebookContainer = gd.closest('#notebook-container');\n",
       "if (notebookContainer) {{\n",
       "    x.observe(notebookContainer, {childList: true});\n",
       "}}\n",
       "\n",
       "// Listen for the clearing of the current output cell\n",
       "var outputEl = gd.closest('.output');\n",
       "if (outputEl) {{\n",
       "    x.observe(outputEl, {childList: true});\n",
       "}}\n",
       "\n",
       "                        })                };                });            </script>        </div>"
      ]
     },
     "metadata": {},
     "output_type": "display_data"
    }
   ],
   "source": [
    "fig = px.choropleth(locations=country_vaccine['Country'], \n",
    "                    locationmode=\"country names\",\n",
    "                    color=country_vaccine['Vaccines'],\n",
    "                    title=\"Countries using each vaccine (different colors for each vaccine)\",\n",
    "                    height = 800\n",
    "                   )\n",
    "fig.update_layout({'legend_orientation':'v'})\n",
    "fig.update_layout({'legend_title':'Vaccine scheme'})\n",
    "fig.show()\n",
    "\n"
   ]
  },
  {
   "cell_type": "code",
   "execution_count": 16,
   "metadata": {},
   "outputs": [],
   "source": [
    "vaccine = data_df.groupby([\"vaccines\"])['total_vaccinations','total_vaccinations_per_hundred',\n",
    "                                       'daily_vaccinations','daily_vaccinations_per_million'].max().reset_index()\n",
    "vaccine.columns = [\"Vaccines\", \"Total vaccinations\", \"Percent\", \"Daily vaccinations\", \n",
    "                           \"Daily vaccinations per million\"]\n",
    "def draw_trace_bar_vaccine(data, feature, title, xlab, ylab,color='Blue'):\n",
    "    data = data.sort_values(feature, ascending=False)\n",
    "    trace = go.Bar(\n",
    "            x = data['Vaccines'],\n",
    "            y = data[feature],\n",
    "            marker=dict(color=color),\n",
    "            text=data['Vaccines']\n",
    "        )\n",
    "    data = [trace]\n",
    "\n",
    "    layout = dict(title = title,\n",
    "              xaxis = dict(title = xlab, showticklabels=True, tickangle=45, \n",
    "                           zeroline=True, zerolinewidth=1, zerolinecolor='grey',\n",
    "                           showline=True, linewidth=2, linecolor='black', mirror=True,\n",
    "                          tickfont=dict(\n",
    "                            size=10,\n",
    "                            color='black'),), \n",
    "              yaxis = dict(title = ylab, gridcolor='lightgrey', zeroline=True, zerolinewidth=1, zerolinecolor='grey',\n",
    "                          showline=True, linewidth=2, linecolor='black', mirror=True),\n",
    "              plot_bgcolor = 'rgba(0, 0, 0, 0)', paper_bgcolor = 'rgba(0, 0, 0, 0)',\n",
    "              hovermode = 'closest',\n",
    "              height = 800\n",
    "             )\n",
    "    fig = dict(data = data, layout = layout)\n",
    "    iplot(fig, filename='draw_trace')"
   ]
  },
  {
   "cell_type": "code",
   "execution_count": 17,
   "metadata": {},
   "outputs": [
    {
     "data": {
      "application/vnd.plotly.v1+json": {
       "config": {
        "linkText": "Export to plot.ly",
        "plotlyServerURL": "https://plot.ly",
        "showLink": false
       },
       "data": [
        {
         "marker": {
          "color": "darkmagenta"
         },
         "text": [
          "CanSino, Sinopharm/Beijing, Sinopharm/Wuhan, Sinovac",
          "Covaxin, Oxford/AstraZeneca, Sputnik V",
          "Johnson&Johnson, Moderna, Pfizer/BioNTech",
          "Johnson&Johnson, Oxford/AstraZeneca, Pfizer/BioNTech, Sinovac",
          "Johnson&Johnson, Moderna, Oxford/AstraZeneca, Pfizer/BioNTech",
          "Moderna, Oxford/AstraZeneca, Pfizer/BioNTech",
          "Moderna, Pfizer/BioNTech",
          "Pfizer/BioNTech, Sinovac",
          "Oxford/AstraZeneca, Sinovac",
          "CanSino, Oxford/AstraZeneca, Pfizer/BioNTech, Sinovac, Sputnik V",
          "EpiVacCorona, Sputnik V",
          "Oxford/AstraZeneca, Sinopharm/Beijing, Sputnik V",
          "CanSino, Oxford/AstraZeneca, Pfizer/BioNTech, Sinovac",
          "Oxford/AstraZeneca, Pfizer/BioNTech, Sinovac",
          "CanSino, Oxford/AstraZeneca, Sinopharm/Beijing, Sinovac, Sputnik V",
          "Oxford/AstraZeneca, Pfizer/BioNTech",
          "Oxford/AstraZeneca, Sinopharm/Beijing",
          "Oxford/AstraZeneca, Pfizer/BioNTech, Sinopharm/Beijing, Sinopharm/Wuhan, Sputnik V",
          "Moderna, Oxford/AstraZeneca, Pfizer/BioNTech, Sinovac, Sputnik V",
          "Johnson&Johnson, Moderna, Oxford/AstraZeneca, Pfizer/BioNTech, Sinopharm/Beijing, Sputnik V",
          "Oxford/AstraZeneca, Pfizer/BioNTech, Sinopharm/Beijing",
          "Oxford/AstraZeneca, Sinopharm/Beijing, Sinovac",
          "Oxford/AstraZeneca, Pfizer/BioNTech, Sinopharm/Beijing, Sinovac",
          "Abdala, Soberana02",
          "QazVac, Sinopharm/HayatVax, Sputnik V",
          "Covaxin, Oxford/AstraZeneca, Sinopharm/Beijing, Sputnik V",
          "Moderna, Pfizer/BioNTech, Sinovac",
          "Oxford/AstraZeneca, Pfizer/BioNTech, Sinopharm/Beijing, Sputnik V",
          "Johnson&Johnson, Pfizer/BioNTech",
          "Oxford/AstraZeneca, Sinopharm/Beijing, Sinovac, Sputnik V",
          "Moderna, Oxford/AstraZeneca",
          "Oxford/AstraZeneca, Sinovac, Sputnik V",
          "Sinopharm/Beijing, Sputnik V",
          "Oxford/AstraZeneca",
          "Oxford/AstraZeneca, RBD-Dimer, Sputnik V",
          "Oxford/AstraZeneca, Sputnik V",
          "Pfizer/BioNTech",
          "Oxford/AstraZeneca, Pfizer/BioNTech, Sinovac, Sputnik V",
          "Sinopharm/Beijing",
          "Johnson&Johnson, Moderna, Oxford/AstraZeneca, Pfizer/BioNTech, Sputnik V",
          "Johnson&Johnson, Oxford/AstraZeneca, Pfizer/BioNTech, Sinopharm/Beijing",
          "Moderna, Oxford/AstraZeneca, Pfizer/BioNTech, Sputnik V",
          "Covaxin, Oxford/AstraZeneca, Sinopharm/Beijing",
          "Covaxin, Oxford/AstraZeneca, Sinopharm/Beijing, Sinovac, Sputnik V",
          "Sputnik V",
          "Oxford/AstraZeneca, Pfizer/BioNTech, Sinopharm/Beijing, Sinovac, Sputnik V",
          "Pfizer/BioNTech, Sinopharm/Beijing",
          "Johnson&Johnson, Moderna, Oxford/AstraZeneca, Pfizer/BioNTech, Sinovac, Sputnik V",
          "Moderna, Oxford/AstraZeneca, Sinopharm/Beijing, Sputnik V",
          "Covaxin, Oxford/AstraZeneca",
          "Moderna",
          "Pfizer/BioNTech, Sputnik V",
          "EpiVacCorona, Oxford/AstraZeneca, Sinopharm/Beijing, Sputnik V"
         ],
         "type": "bar",
         "x": [
          "CanSino, Sinopharm/Beijing, Sinopharm/Wuhan, Sinovac",
          "Covaxin, Oxford/AstraZeneca, Sputnik V",
          "Johnson&Johnson, Moderna, Pfizer/BioNTech",
          "Johnson&Johnson, Oxford/AstraZeneca, Pfizer/BioNTech, Sinovac",
          "Johnson&Johnson, Moderna, Oxford/AstraZeneca, Pfizer/BioNTech",
          "Moderna, Oxford/AstraZeneca, Pfizer/BioNTech",
          "Moderna, Pfizer/BioNTech",
          "Pfizer/BioNTech, Sinovac",
          "Oxford/AstraZeneca, Sinovac",
          "CanSino, Oxford/AstraZeneca, Pfizer/BioNTech, Sinovac, Sputnik V",
          "EpiVacCorona, Sputnik V",
          "Oxford/AstraZeneca, Sinopharm/Beijing, Sputnik V",
          "CanSino, Oxford/AstraZeneca, Pfizer/BioNTech, Sinovac",
          "Oxford/AstraZeneca, Pfizer/BioNTech, Sinovac",
          "CanSino, Oxford/AstraZeneca, Sinopharm/Beijing, Sinovac, Sputnik V",
          "Oxford/AstraZeneca, Pfizer/BioNTech",
          "Oxford/AstraZeneca, Sinopharm/Beijing",
          "Oxford/AstraZeneca, Pfizer/BioNTech, Sinopharm/Beijing, Sinopharm/Wuhan, Sputnik V",
          "Moderna, Oxford/AstraZeneca, Pfizer/BioNTech, Sinovac, Sputnik V",
          "Johnson&Johnson, Moderna, Oxford/AstraZeneca, Pfizer/BioNTech, Sinopharm/Beijing, Sputnik V",
          "Oxford/AstraZeneca, Pfizer/BioNTech, Sinopharm/Beijing",
          "Oxford/AstraZeneca, Sinopharm/Beijing, Sinovac",
          "Oxford/AstraZeneca, Pfizer/BioNTech, Sinopharm/Beijing, Sinovac",
          "Abdala, Soberana02",
          "QazVac, Sinopharm/HayatVax, Sputnik V",
          "Covaxin, Oxford/AstraZeneca, Sinopharm/Beijing, Sputnik V",
          "Moderna, Pfizer/BioNTech, Sinovac",
          "Oxford/AstraZeneca, Pfizer/BioNTech, Sinopharm/Beijing, Sputnik V",
          "Johnson&Johnson, Pfizer/BioNTech",
          "Oxford/AstraZeneca, Sinopharm/Beijing, Sinovac, Sputnik V",
          "Moderna, Oxford/AstraZeneca",
          "Oxford/AstraZeneca, Sinovac, Sputnik V",
          "Sinopharm/Beijing, Sputnik V",
          "Oxford/AstraZeneca",
          "Oxford/AstraZeneca, RBD-Dimer, Sputnik V",
          "Oxford/AstraZeneca, Sputnik V",
          "Pfizer/BioNTech",
          "Oxford/AstraZeneca, Pfizer/BioNTech, Sinovac, Sputnik V",
          "Sinopharm/Beijing",
          "Johnson&Johnson, Moderna, Oxford/AstraZeneca, Pfizer/BioNTech, Sputnik V",
          "Johnson&Johnson, Oxford/AstraZeneca, Pfizer/BioNTech, Sinopharm/Beijing",
          "Moderna, Oxford/AstraZeneca, Pfizer/BioNTech, Sputnik V",
          "Covaxin, Oxford/AstraZeneca, Sinopharm/Beijing",
          "Covaxin, Oxford/AstraZeneca, Sinopharm/Beijing, Sinovac, Sputnik V",
          "Sputnik V",
          "Oxford/AstraZeneca, Pfizer/BioNTech, Sinopharm/Beijing, Sinovac, Sputnik V",
          "Pfizer/BioNTech, Sinopharm/Beijing",
          "Johnson&Johnson, Moderna, Oxford/AstraZeneca, Pfizer/BioNTech, Sinovac, Sputnik V",
          "Moderna, Oxford/AstraZeneca, Sinopharm/Beijing, Sputnik V",
          "Covaxin, Oxford/AstraZeneca",
          "Moderna",
          "Pfizer/BioNTech, Sputnik V",
          "EpiVacCorona, Oxford/AstraZeneca, Sinopharm/Beijing, Sputnik V"
         ],
         "y": [
          1426347000,
          391340491,
          336054953,
          120873006,
          84989850,
          81702466,
          66714528,
          62378829,
          55819781,
          52704960,
          50383638,
          26134815,
          24248545,
          22942717,
          21660650,
          21556314,
          20794848,
          16194526,
          14074514,
          10155466,
          10108224,
          9453858,
          9132857,
          7900105,
          7303180,
          6530124,
          6440735,
          5409274,
          5046267,
          4851349,
          4603639,
          4242727,
          4000000,
          3938945,
          3541442,
          2500000,
          2375455,
          2269301,
          1666862,
          1172830,
          1024168,
          958519,
          901530,
          826642,
          780522,
          713114,
          434726,
          425119,
          163742,
          78685,
          50826,
          45050,
          41993
         ]
        }
       ],
       "layout": {
        "height": 800,
        "hovermode": "closest",
        "paper_bgcolor": "rgba(0, 0, 0, 0)",
        "plot_bgcolor": "rgba(0, 0, 0, 0)",
        "template": {
         "data": {
          "bar": [
           {
            "error_x": {
             "color": "#2a3f5f"
            },
            "error_y": {
             "color": "#2a3f5f"
            },
            "marker": {
             "line": {
              "color": "#E5ECF6",
              "width": 0.5
             },
             "pattern": {
              "fillmode": "overlay",
              "size": 10,
              "solidity": 0.2
             }
            },
            "type": "bar"
           }
          ],
          "barpolar": [
           {
            "marker": {
             "line": {
              "color": "#E5ECF6",
              "width": 0.5
             },
             "pattern": {
              "fillmode": "overlay",
              "size": 10,
              "solidity": 0.2
             }
            },
            "type": "barpolar"
           }
          ],
          "carpet": [
           {
            "aaxis": {
             "endlinecolor": "#2a3f5f",
             "gridcolor": "white",
             "linecolor": "white",
             "minorgridcolor": "white",
             "startlinecolor": "#2a3f5f"
            },
            "baxis": {
             "endlinecolor": "#2a3f5f",
             "gridcolor": "white",
             "linecolor": "white",
             "minorgridcolor": "white",
             "startlinecolor": "#2a3f5f"
            },
            "type": "carpet"
           }
          ],
          "choropleth": [
           {
            "colorbar": {
             "outlinewidth": 0,
             "ticks": ""
            },
            "type": "choropleth"
           }
          ],
          "contour": [
           {
            "colorbar": {
             "outlinewidth": 0,
             "ticks": ""
            },
            "colorscale": [
             [
              0,
              "#0d0887"
             ],
             [
              0.1111111111111111,
              "#46039f"
             ],
             [
              0.2222222222222222,
              "#7201a8"
             ],
             [
              0.3333333333333333,
              "#9c179e"
             ],
             [
              0.4444444444444444,
              "#bd3786"
             ],
             [
              0.5555555555555556,
              "#d8576b"
             ],
             [
              0.6666666666666666,
              "#ed7953"
             ],
             [
              0.7777777777777778,
              "#fb9f3a"
             ],
             [
              0.8888888888888888,
              "#fdca26"
             ],
             [
              1,
              "#f0f921"
             ]
            ],
            "type": "contour"
           }
          ],
          "contourcarpet": [
           {
            "colorbar": {
             "outlinewidth": 0,
             "ticks": ""
            },
            "type": "contourcarpet"
           }
          ],
          "heatmap": [
           {
            "colorbar": {
             "outlinewidth": 0,
             "ticks": ""
            },
            "colorscale": [
             [
              0,
              "#0d0887"
             ],
             [
              0.1111111111111111,
              "#46039f"
             ],
             [
              0.2222222222222222,
              "#7201a8"
             ],
             [
              0.3333333333333333,
              "#9c179e"
             ],
             [
              0.4444444444444444,
              "#bd3786"
             ],
             [
              0.5555555555555556,
              "#d8576b"
             ],
             [
              0.6666666666666666,
              "#ed7953"
             ],
             [
              0.7777777777777778,
              "#fb9f3a"
             ],
             [
              0.8888888888888888,
              "#fdca26"
             ],
             [
              1,
              "#f0f921"
             ]
            ],
            "type": "heatmap"
           }
          ],
          "heatmapgl": [
           {
            "colorbar": {
             "outlinewidth": 0,
             "ticks": ""
            },
            "colorscale": [
             [
              0,
              "#0d0887"
             ],
             [
              0.1111111111111111,
              "#46039f"
             ],
             [
              0.2222222222222222,
              "#7201a8"
             ],
             [
              0.3333333333333333,
              "#9c179e"
             ],
             [
              0.4444444444444444,
              "#bd3786"
             ],
             [
              0.5555555555555556,
              "#d8576b"
             ],
             [
              0.6666666666666666,
              "#ed7953"
             ],
             [
              0.7777777777777778,
              "#fb9f3a"
             ],
             [
              0.8888888888888888,
              "#fdca26"
             ],
             [
              1,
              "#f0f921"
             ]
            ],
            "type": "heatmapgl"
           }
          ],
          "histogram": [
           {
            "marker": {
             "pattern": {
              "fillmode": "overlay",
              "size": 10,
              "solidity": 0.2
             }
            },
            "type": "histogram"
           }
          ],
          "histogram2d": [
           {
            "colorbar": {
             "outlinewidth": 0,
             "ticks": ""
            },
            "colorscale": [
             [
              0,
              "#0d0887"
             ],
             [
              0.1111111111111111,
              "#46039f"
             ],
             [
              0.2222222222222222,
              "#7201a8"
             ],
             [
              0.3333333333333333,
              "#9c179e"
             ],
             [
              0.4444444444444444,
              "#bd3786"
             ],
             [
              0.5555555555555556,
              "#d8576b"
             ],
             [
              0.6666666666666666,
              "#ed7953"
             ],
             [
              0.7777777777777778,
              "#fb9f3a"
             ],
             [
              0.8888888888888888,
              "#fdca26"
             ],
             [
              1,
              "#f0f921"
             ]
            ],
            "type": "histogram2d"
           }
          ],
          "histogram2dcontour": [
           {
            "colorbar": {
             "outlinewidth": 0,
             "ticks": ""
            },
            "colorscale": [
             [
              0,
              "#0d0887"
             ],
             [
              0.1111111111111111,
              "#46039f"
             ],
             [
              0.2222222222222222,
              "#7201a8"
             ],
             [
              0.3333333333333333,
              "#9c179e"
             ],
             [
              0.4444444444444444,
              "#bd3786"
             ],
             [
              0.5555555555555556,
              "#d8576b"
             ],
             [
              0.6666666666666666,
              "#ed7953"
             ],
             [
              0.7777777777777778,
              "#fb9f3a"
             ],
             [
              0.8888888888888888,
              "#fdca26"
             ],
             [
              1,
              "#f0f921"
             ]
            ],
            "type": "histogram2dcontour"
           }
          ],
          "mesh3d": [
           {
            "colorbar": {
             "outlinewidth": 0,
             "ticks": ""
            },
            "type": "mesh3d"
           }
          ],
          "parcoords": [
           {
            "line": {
             "colorbar": {
              "outlinewidth": 0,
              "ticks": ""
             }
            },
            "type": "parcoords"
           }
          ],
          "pie": [
           {
            "automargin": true,
            "type": "pie"
           }
          ],
          "scatter": [
           {
            "fillpattern": {
             "fillmode": "overlay",
             "size": 10,
             "solidity": 0.2
            },
            "type": "scatter"
           }
          ],
          "scatter3d": [
           {
            "line": {
             "colorbar": {
              "outlinewidth": 0,
              "ticks": ""
             }
            },
            "marker": {
             "colorbar": {
              "outlinewidth": 0,
              "ticks": ""
             }
            },
            "type": "scatter3d"
           }
          ],
          "scattercarpet": [
           {
            "marker": {
             "colorbar": {
              "outlinewidth": 0,
              "ticks": ""
             }
            },
            "type": "scattercarpet"
           }
          ],
          "scattergeo": [
           {
            "marker": {
             "colorbar": {
              "outlinewidth": 0,
              "ticks": ""
             }
            },
            "type": "scattergeo"
           }
          ],
          "scattergl": [
           {
            "marker": {
             "colorbar": {
              "outlinewidth": 0,
              "ticks": ""
             }
            },
            "type": "scattergl"
           }
          ],
          "scattermapbox": [
           {
            "marker": {
             "colorbar": {
              "outlinewidth": 0,
              "ticks": ""
             }
            },
            "type": "scattermapbox"
           }
          ],
          "scatterpolar": [
           {
            "marker": {
             "colorbar": {
              "outlinewidth": 0,
              "ticks": ""
             }
            },
            "type": "scatterpolar"
           }
          ],
          "scatterpolargl": [
           {
            "marker": {
             "colorbar": {
              "outlinewidth": 0,
              "ticks": ""
             }
            },
            "type": "scatterpolargl"
           }
          ],
          "scatterternary": [
           {
            "marker": {
             "colorbar": {
              "outlinewidth": 0,
              "ticks": ""
             }
            },
            "type": "scatterternary"
           }
          ],
          "surface": [
           {
            "colorbar": {
             "outlinewidth": 0,
             "ticks": ""
            },
            "colorscale": [
             [
              0,
              "#0d0887"
             ],
             [
              0.1111111111111111,
              "#46039f"
             ],
             [
              0.2222222222222222,
              "#7201a8"
             ],
             [
              0.3333333333333333,
              "#9c179e"
             ],
             [
              0.4444444444444444,
              "#bd3786"
             ],
             [
              0.5555555555555556,
              "#d8576b"
             ],
             [
              0.6666666666666666,
              "#ed7953"
             ],
             [
              0.7777777777777778,
              "#fb9f3a"
             ],
             [
              0.8888888888888888,
              "#fdca26"
             ],
             [
              1,
              "#f0f921"
             ]
            ],
            "type": "surface"
           }
          ],
          "table": [
           {
            "cells": {
             "fill": {
              "color": "#EBF0F8"
             },
             "line": {
              "color": "white"
             }
            },
            "header": {
             "fill": {
              "color": "#C8D4E3"
             },
             "line": {
              "color": "white"
             }
            },
            "type": "table"
           }
          ]
         },
         "layout": {
          "annotationdefaults": {
           "arrowcolor": "#2a3f5f",
           "arrowhead": 0,
           "arrowwidth": 1
          },
          "autotypenumbers": "strict",
          "coloraxis": {
           "colorbar": {
            "outlinewidth": 0,
            "ticks": ""
           }
          },
          "colorscale": {
           "diverging": [
            [
             0,
             "#8e0152"
            ],
            [
             0.1,
             "#c51b7d"
            ],
            [
             0.2,
             "#de77ae"
            ],
            [
             0.3,
             "#f1b6da"
            ],
            [
             0.4,
             "#fde0ef"
            ],
            [
             0.5,
             "#f7f7f7"
            ],
            [
             0.6,
             "#e6f5d0"
            ],
            [
             0.7,
             "#b8e186"
            ],
            [
             0.8,
             "#7fbc41"
            ],
            [
             0.9,
             "#4d9221"
            ],
            [
             1,
             "#276419"
            ]
           ],
           "sequential": [
            [
             0,
             "#0d0887"
            ],
            [
             0.1111111111111111,
             "#46039f"
            ],
            [
             0.2222222222222222,
             "#7201a8"
            ],
            [
             0.3333333333333333,
             "#9c179e"
            ],
            [
             0.4444444444444444,
             "#bd3786"
            ],
            [
             0.5555555555555556,
             "#d8576b"
            ],
            [
             0.6666666666666666,
             "#ed7953"
            ],
            [
             0.7777777777777778,
             "#fb9f3a"
            ],
            [
             0.8888888888888888,
             "#fdca26"
            ],
            [
             1,
             "#f0f921"
            ]
           ],
           "sequentialminus": [
            [
             0,
             "#0d0887"
            ],
            [
             0.1111111111111111,
             "#46039f"
            ],
            [
             0.2222222222222222,
             "#7201a8"
            ],
            [
             0.3333333333333333,
             "#9c179e"
            ],
            [
             0.4444444444444444,
             "#bd3786"
            ],
            [
             0.5555555555555556,
             "#d8576b"
            ],
            [
             0.6666666666666666,
             "#ed7953"
            ],
            [
             0.7777777777777778,
             "#fb9f3a"
            ],
            [
             0.8888888888888888,
             "#fdca26"
            ],
            [
             1,
             "#f0f921"
            ]
           ]
          },
          "colorway": [
           "#636efa",
           "#EF553B",
           "#00cc96",
           "#ab63fa",
           "#FFA15A",
           "#19d3f3",
           "#FF6692",
           "#B6E880",
           "#FF97FF",
           "#FECB52"
          ],
          "font": {
           "color": "#2a3f5f"
          },
          "geo": {
           "bgcolor": "white",
           "lakecolor": "white",
           "landcolor": "#E5ECF6",
           "showlakes": true,
           "showland": true,
           "subunitcolor": "white"
          },
          "hoverlabel": {
           "align": "left"
          },
          "hovermode": "closest",
          "mapbox": {
           "style": "light"
          },
          "paper_bgcolor": "white",
          "plot_bgcolor": "#E5ECF6",
          "polar": {
           "angularaxis": {
            "gridcolor": "white",
            "linecolor": "white",
            "ticks": ""
           },
           "bgcolor": "#E5ECF6",
           "radialaxis": {
            "gridcolor": "white",
            "linecolor": "white",
            "ticks": ""
           }
          },
          "scene": {
           "xaxis": {
            "backgroundcolor": "#E5ECF6",
            "gridcolor": "white",
            "gridwidth": 2,
            "linecolor": "white",
            "showbackground": true,
            "ticks": "",
            "zerolinecolor": "white"
           },
           "yaxis": {
            "backgroundcolor": "#E5ECF6",
            "gridcolor": "white",
            "gridwidth": 2,
            "linecolor": "white",
            "showbackground": true,
            "ticks": "",
            "zerolinecolor": "white"
           },
           "zaxis": {
            "backgroundcolor": "#E5ECF6",
            "gridcolor": "white",
            "gridwidth": 2,
            "linecolor": "white",
            "showbackground": true,
            "ticks": "",
            "zerolinecolor": "white"
           }
          },
          "shapedefaults": {
           "line": {
            "color": "#2a3f5f"
           }
          },
          "ternary": {
           "aaxis": {
            "gridcolor": "white",
            "linecolor": "white",
            "ticks": ""
           },
           "baxis": {
            "gridcolor": "white",
            "linecolor": "white",
            "ticks": ""
           },
           "bgcolor": "#E5ECF6",
           "caxis": {
            "gridcolor": "white",
            "linecolor": "white",
            "ticks": ""
           }
          },
          "title": {
           "x": 0.05
          },
          "xaxis": {
           "automargin": true,
           "gridcolor": "white",
           "linecolor": "white",
           "ticks": "",
           "title": {
            "standoff": 15
           },
           "zerolinecolor": "white",
           "zerolinewidth": 2
          },
          "yaxis": {
           "automargin": true,
           "gridcolor": "white",
           "linecolor": "white",
           "ticks": "",
           "title": {
            "standoff": 15
           },
           "zerolinecolor": "white",
           "zerolinewidth": 2
          }
         }
        },
        "title": {
         "text": "Total per vaccine scheme"
        },
        "xaxis": {
         "linecolor": "black",
         "linewidth": 2,
         "mirror": true,
         "showline": true,
         "showticklabels": true,
         "tickangle": 45,
         "tickfont": {
          "color": "black",
          "size": 10
         },
         "title": {
          "text": "Vaccine"
         },
         "zeroline": true,
         "zerolinecolor": "grey",
         "zerolinewidth": 1
        },
        "yaxis": {
         "gridcolor": "lightgrey",
         "linecolor": "black",
         "linewidth": 2,
         "mirror": true,
         "showline": true,
         "title": {
          "text": "Vaccination total"
         },
         "zeroline": true,
         "zerolinecolor": "grey",
         "zerolinewidth": 1
        }
       }
      },
      "text/html": [
       "<div>                            <div id=\"4340c0f7-f27e-4d0a-a789-e8a875f6e1a8\" class=\"plotly-graph-div\" style=\"height:800px; width:100%;\"></div>            <script type=\"text/javascript\">                require([\"plotly\"], function(Plotly) {                    window.PLOTLYENV=window.PLOTLYENV || {};                                    if (document.getElementById(\"4340c0f7-f27e-4d0a-a789-e8a875f6e1a8\")) {                    Plotly.newPlot(                        \"4340c0f7-f27e-4d0a-a789-e8a875f6e1a8\",                        [{\"marker\":{\"color\":\"darkmagenta\"},\"text\":[\"CanSino, Sinopharm/Beijing, Sinopharm/Wuhan, Sinovac\",\"Covaxin, Oxford/AstraZeneca, Sputnik V\",\"Johnson&Johnson, Moderna, Pfizer/BioNTech\",\"Johnson&Johnson, Oxford/AstraZeneca, Pfizer/BioNTech, Sinovac\",\"Johnson&Johnson, Moderna, Oxford/AstraZeneca, Pfizer/BioNTech\",\"Moderna, Oxford/AstraZeneca, Pfizer/BioNTech\",\"Moderna, Pfizer/BioNTech\",\"Pfizer/BioNTech, Sinovac\",\"Oxford/AstraZeneca, Sinovac\",\"CanSino, Oxford/AstraZeneca, Pfizer/BioNTech, Sinovac, Sputnik V\",\"EpiVacCorona, Sputnik V\",\"Oxford/AstraZeneca, Sinopharm/Beijing, Sputnik V\",\"CanSino, Oxford/AstraZeneca, Pfizer/BioNTech, Sinovac\",\"Oxford/AstraZeneca, Pfizer/BioNTech, Sinovac\",\"CanSino, Oxford/AstraZeneca, Sinopharm/Beijing, Sinovac, Sputnik V\",\"Oxford/AstraZeneca, Pfizer/BioNTech\",\"Oxford/AstraZeneca, Sinopharm/Beijing\",\"Oxford/AstraZeneca, Pfizer/BioNTech, Sinopharm/Beijing, Sinopharm/Wuhan, Sputnik V\",\"Moderna, Oxford/AstraZeneca, Pfizer/BioNTech, Sinovac, Sputnik V\",\"Johnson&Johnson, Moderna, Oxford/AstraZeneca, Pfizer/BioNTech, Sinopharm/Beijing, Sputnik V\",\"Oxford/AstraZeneca, Pfizer/BioNTech, Sinopharm/Beijing\",\"Oxford/AstraZeneca, Sinopharm/Beijing, Sinovac\",\"Oxford/AstraZeneca, Pfizer/BioNTech, Sinopharm/Beijing, Sinovac\",\"Abdala, Soberana02\",\"QazVac, Sinopharm/HayatVax, Sputnik V\",\"Covaxin, Oxford/AstraZeneca, Sinopharm/Beijing, Sputnik V\",\"Moderna, Pfizer/BioNTech, Sinovac\",\"Oxford/AstraZeneca, Pfizer/BioNTech, Sinopharm/Beijing, Sputnik V\",\"Johnson&Johnson, Pfizer/BioNTech\",\"Oxford/AstraZeneca, Sinopharm/Beijing, Sinovac, Sputnik V\",\"Moderna, Oxford/AstraZeneca\",\"Oxford/AstraZeneca, Sinovac, Sputnik V\",\"Sinopharm/Beijing, Sputnik V\",\"Oxford/AstraZeneca\",\"Oxford/AstraZeneca, RBD-Dimer, Sputnik V\",\"Oxford/AstraZeneca, Sputnik V\",\"Pfizer/BioNTech\",\"Oxford/AstraZeneca, Pfizer/BioNTech, Sinovac, Sputnik V\",\"Sinopharm/Beijing\",\"Johnson&Johnson, Moderna, Oxford/AstraZeneca, Pfizer/BioNTech, Sputnik V\",\"Johnson&Johnson, Oxford/AstraZeneca, Pfizer/BioNTech, Sinopharm/Beijing\",\"Moderna, Oxford/AstraZeneca, Pfizer/BioNTech, Sputnik V\",\"Covaxin, Oxford/AstraZeneca, Sinopharm/Beijing\",\"Covaxin, Oxford/AstraZeneca, Sinopharm/Beijing, Sinovac, Sputnik V\",\"Sputnik V\",\"Oxford/AstraZeneca, Pfizer/BioNTech, Sinopharm/Beijing, Sinovac, Sputnik V\",\"Pfizer/BioNTech, Sinopharm/Beijing\",\"Johnson&Johnson, Moderna, Oxford/AstraZeneca, Pfizer/BioNTech, Sinovac, Sputnik V\",\"Moderna, Oxford/AstraZeneca, Sinopharm/Beijing, Sputnik V\",\"Covaxin, Oxford/AstraZeneca\",\"Moderna\",\"Pfizer/BioNTech, Sputnik V\",\"EpiVacCorona, Oxford/AstraZeneca, Sinopharm/Beijing, Sputnik V\"],\"x\":[\"CanSino, Sinopharm/Beijing, Sinopharm/Wuhan, Sinovac\",\"Covaxin, Oxford/AstraZeneca, Sputnik V\",\"Johnson&Johnson, Moderna, Pfizer/BioNTech\",\"Johnson&Johnson, Oxford/AstraZeneca, Pfizer/BioNTech, Sinovac\",\"Johnson&Johnson, Moderna, Oxford/AstraZeneca, Pfizer/BioNTech\",\"Moderna, Oxford/AstraZeneca, Pfizer/BioNTech\",\"Moderna, Pfizer/BioNTech\",\"Pfizer/BioNTech, Sinovac\",\"Oxford/AstraZeneca, Sinovac\",\"CanSino, Oxford/AstraZeneca, Pfizer/BioNTech, Sinovac, Sputnik V\",\"EpiVacCorona, Sputnik V\",\"Oxford/AstraZeneca, Sinopharm/Beijing, Sputnik V\",\"CanSino, Oxford/AstraZeneca, Pfizer/BioNTech, Sinovac\",\"Oxford/AstraZeneca, Pfizer/BioNTech, Sinovac\",\"CanSino, Oxford/AstraZeneca, Sinopharm/Beijing, Sinovac, Sputnik V\",\"Oxford/AstraZeneca, Pfizer/BioNTech\",\"Oxford/AstraZeneca, Sinopharm/Beijing\",\"Oxford/AstraZeneca, Pfizer/BioNTech, Sinopharm/Beijing, Sinopharm/Wuhan, Sputnik V\",\"Moderna, Oxford/AstraZeneca, Pfizer/BioNTech, Sinovac, Sputnik V\",\"Johnson&Johnson, Moderna, Oxford/AstraZeneca, Pfizer/BioNTech, Sinopharm/Beijing, Sputnik V\",\"Oxford/AstraZeneca, Pfizer/BioNTech, Sinopharm/Beijing\",\"Oxford/AstraZeneca, Sinopharm/Beijing, Sinovac\",\"Oxford/AstraZeneca, Pfizer/BioNTech, Sinopharm/Beijing, Sinovac\",\"Abdala, Soberana02\",\"QazVac, Sinopharm/HayatVax, Sputnik V\",\"Covaxin, Oxford/AstraZeneca, Sinopharm/Beijing, Sputnik V\",\"Moderna, Pfizer/BioNTech, Sinovac\",\"Oxford/AstraZeneca, Pfizer/BioNTech, Sinopharm/Beijing, Sputnik V\",\"Johnson&Johnson, Pfizer/BioNTech\",\"Oxford/AstraZeneca, Sinopharm/Beijing, Sinovac, Sputnik V\",\"Moderna, Oxford/AstraZeneca\",\"Oxford/AstraZeneca, Sinovac, Sputnik V\",\"Sinopharm/Beijing, Sputnik V\",\"Oxford/AstraZeneca\",\"Oxford/AstraZeneca, RBD-Dimer, Sputnik V\",\"Oxford/AstraZeneca, Sputnik V\",\"Pfizer/BioNTech\",\"Oxford/AstraZeneca, Pfizer/BioNTech, Sinovac, Sputnik V\",\"Sinopharm/Beijing\",\"Johnson&Johnson, Moderna, Oxford/AstraZeneca, Pfizer/BioNTech, Sputnik V\",\"Johnson&Johnson, Oxford/AstraZeneca, Pfizer/BioNTech, Sinopharm/Beijing\",\"Moderna, Oxford/AstraZeneca, Pfizer/BioNTech, Sputnik V\",\"Covaxin, Oxford/AstraZeneca, Sinopharm/Beijing\",\"Covaxin, Oxford/AstraZeneca, Sinopharm/Beijing, Sinovac, Sputnik V\",\"Sputnik V\",\"Oxford/AstraZeneca, Pfizer/BioNTech, Sinopharm/Beijing, Sinovac, Sputnik V\",\"Pfizer/BioNTech, Sinopharm/Beijing\",\"Johnson&Johnson, Moderna, Oxford/AstraZeneca, Pfizer/BioNTech, Sinovac, Sputnik V\",\"Moderna, Oxford/AstraZeneca, Sinopharm/Beijing, Sputnik V\",\"Covaxin, Oxford/AstraZeneca\",\"Moderna\",\"Pfizer/BioNTech, Sputnik V\",\"EpiVacCorona, Oxford/AstraZeneca, Sinopharm/Beijing, Sputnik V\"],\"y\":[1426347000.0,391340491.0,336054953.0,120873006.0,84989850.0,81702466.0,66714528.0,62378829.0,55819781.0,52704960.0,50383638.0,26134815.0,24248545.0,22942717.0,21660650.0,21556314.0,20794848.0,16194526.0,14074514.0,10155466.0,10108224.0,9453858.0,9132857.0,7900105.0,7303180.0,6530124.0,6440735.0,5409274.0,5046267.0,4851349.0,4603639.0,4242727.0,4000000.0,3938945.0,3541442.0,2500000.0,2375455.0,2269301.0,1666862.0,1172830.0,1024168.0,958519.0,901530.0,826642.0,780522.0,713114.0,434726.0,425119.0,163742.0,78685.0,50826.0,45050.0,41993.0],\"type\":\"bar\"}],                        {\"height\":800,\"hovermode\":\"closest\",\"paper_bgcolor\":\"rgba(0, 0, 0, 0)\",\"plot_bgcolor\":\"rgba(0, 0, 0, 0)\",\"template\":{\"data\":{\"barpolar\":[{\"marker\":{\"line\":{\"color\":\"#E5ECF6\",\"width\":0.5},\"pattern\":{\"fillmode\":\"overlay\",\"size\":10,\"solidity\":0.2}},\"type\":\"barpolar\"}],\"bar\":[{\"error_x\":{\"color\":\"#2a3f5f\"},\"error_y\":{\"color\":\"#2a3f5f\"},\"marker\":{\"line\":{\"color\":\"#E5ECF6\",\"width\":0.5},\"pattern\":{\"fillmode\":\"overlay\",\"size\":10,\"solidity\":0.2}},\"type\":\"bar\"}],\"carpet\":[{\"aaxis\":{\"endlinecolor\":\"#2a3f5f\",\"gridcolor\":\"white\",\"linecolor\":\"white\",\"minorgridcolor\":\"white\",\"startlinecolor\":\"#2a3f5f\"},\"baxis\":{\"endlinecolor\":\"#2a3f5f\",\"gridcolor\":\"white\",\"linecolor\":\"white\",\"minorgridcolor\":\"white\",\"startlinecolor\":\"#2a3f5f\"},\"type\":\"carpet\"}],\"choropleth\":[{\"colorbar\":{\"outlinewidth\":0,\"ticks\":\"\"},\"type\":\"choropleth\"}],\"contourcarpet\":[{\"colorbar\":{\"outlinewidth\":0,\"ticks\":\"\"},\"type\":\"contourcarpet\"}],\"contour\":[{\"colorbar\":{\"outlinewidth\":0,\"ticks\":\"\"},\"colorscale\":[[0.0,\"#0d0887\"],[0.1111111111111111,\"#46039f\"],[0.2222222222222222,\"#7201a8\"],[0.3333333333333333,\"#9c179e\"],[0.4444444444444444,\"#bd3786\"],[0.5555555555555556,\"#d8576b\"],[0.6666666666666666,\"#ed7953\"],[0.7777777777777778,\"#fb9f3a\"],[0.8888888888888888,\"#fdca26\"],[1.0,\"#f0f921\"]],\"type\":\"contour\"}],\"heatmapgl\":[{\"colorbar\":{\"outlinewidth\":0,\"ticks\":\"\"},\"colorscale\":[[0.0,\"#0d0887\"],[0.1111111111111111,\"#46039f\"],[0.2222222222222222,\"#7201a8\"],[0.3333333333333333,\"#9c179e\"],[0.4444444444444444,\"#bd3786\"],[0.5555555555555556,\"#d8576b\"],[0.6666666666666666,\"#ed7953\"],[0.7777777777777778,\"#fb9f3a\"],[0.8888888888888888,\"#fdca26\"],[1.0,\"#f0f921\"]],\"type\":\"heatmapgl\"}],\"heatmap\":[{\"colorbar\":{\"outlinewidth\":0,\"ticks\":\"\"},\"colorscale\":[[0.0,\"#0d0887\"],[0.1111111111111111,\"#46039f\"],[0.2222222222222222,\"#7201a8\"],[0.3333333333333333,\"#9c179e\"],[0.4444444444444444,\"#bd3786\"],[0.5555555555555556,\"#d8576b\"],[0.6666666666666666,\"#ed7953\"],[0.7777777777777778,\"#fb9f3a\"],[0.8888888888888888,\"#fdca26\"],[1.0,\"#f0f921\"]],\"type\":\"heatmap\"}],\"histogram2dcontour\":[{\"colorbar\":{\"outlinewidth\":0,\"ticks\":\"\"},\"colorscale\":[[0.0,\"#0d0887\"],[0.1111111111111111,\"#46039f\"],[0.2222222222222222,\"#7201a8\"],[0.3333333333333333,\"#9c179e\"],[0.4444444444444444,\"#bd3786\"],[0.5555555555555556,\"#d8576b\"],[0.6666666666666666,\"#ed7953\"],[0.7777777777777778,\"#fb9f3a\"],[0.8888888888888888,\"#fdca26\"],[1.0,\"#f0f921\"]],\"type\":\"histogram2dcontour\"}],\"histogram2d\":[{\"colorbar\":{\"outlinewidth\":0,\"ticks\":\"\"},\"colorscale\":[[0.0,\"#0d0887\"],[0.1111111111111111,\"#46039f\"],[0.2222222222222222,\"#7201a8\"],[0.3333333333333333,\"#9c179e\"],[0.4444444444444444,\"#bd3786\"],[0.5555555555555556,\"#d8576b\"],[0.6666666666666666,\"#ed7953\"],[0.7777777777777778,\"#fb9f3a\"],[0.8888888888888888,\"#fdca26\"],[1.0,\"#f0f921\"]],\"type\":\"histogram2d\"}],\"histogram\":[{\"marker\":{\"pattern\":{\"fillmode\":\"overlay\",\"size\":10,\"solidity\":0.2}},\"type\":\"histogram\"}],\"mesh3d\":[{\"colorbar\":{\"outlinewidth\":0,\"ticks\":\"\"},\"type\":\"mesh3d\"}],\"parcoords\":[{\"line\":{\"colorbar\":{\"outlinewidth\":0,\"ticks\":\"\"}},\"type\":\"parcoords\"}],\"pie\":[{\"automargin\":true,\"type\":\"pie\"}],\"scatter3d\":[{\"line\":{\"colorbar\":{\"outlinewidth\":0,\"ticks\":\"\"}},\"marker\":{\"colorbar\":{\"outlinewidth\":0,\"ticks\":\"\"}},\"type\":\"scatter3d\"}],\"scattercarpet\":[{\"marker\":{\"colorbar\":{\"outlinewidth\":0,\"ticks\":\"\"}},\"type\":\"scattercarpet\"}],\"scattergeo\":[{\"marker\":{\"colorbar\":{\"outlinewidth\":0,\"ticks\":\"\"}},\"type\":\"scattergeo\"}],\"scattergl\":[{\"marker\":{\"colorbar\":{\"outlinewidth\":0,\"ticks\":\"\"}},\"type\":\"scattergl\"}],\"scattermapbox\":[{\"marker\":{\"colorbar\":{\"outlinewidth\":0,\"ticks\":\"\"}},\"type\":\"scattermapbox\"}],\"scatterpolargl\":[{\"marker\":{\"colorbar\":{\"outlinewidth\":0,\"ticks\":\"\"}},\"type\":\"scatterpolargl\"}],\"scatterpolar\":[{\"marker\":{\"colorbar\":{\"outlinewidth\":0,\"ticks\":\"\"}},\"type\":\"scatterpolar\"}],\"scatter\":[{\"fillpattern\":{\"fillmode\":\"overlay\",\"size\":10,\"solidity\":0.2},\"type\":\"scatter\"}],\"scatterternary\":[{\"marker\":{\"colorbar\":{\"outlinewidth\":0,\"ticks\":\"\"}},\"type\":\"scatterternary\"}],\"surface\":[{\"colorbar\":{\"outlinewidth\":0,\"ticks\":\"\"},\"colorscale\":[[0.0,\"#0d0887\"],[0.1111111111111111,\"#46039f\"],[0.2222222222222222,\"#7201a8\"],[0.3333333333333333,\"#9c179e\"],[0.4444444444444444,\"#bd3786\"],[0.5555555555555556,\"#d8576b\"],[0.6666666666666666,\"#ed7953\"],[0.7777777777777778,\"#fb9f3a\"],[0.8888888888888888,\"#fdca26\"],[1.0,\"#f0f921\"]],\"type\":\"surface\"}],\"table\":[{\"cells\":{\"fill\":{\"color\":\"#EBF0F8\"},\"line\":{\"color\":\"white\"}},\"header\":{\"fill\":{\"color\":\"#C8D4E3\"},\"line\":{\"color\":\"white\"}},\"type\":\"table\"}]},\"layout\":{\"annotationdefaults\":{\"arrowcolor\":\"#2a3f5f\",\"arrowhead\":0,\"arrowwidth\":1},\"autotypenumbers\":\"strict\",\"coloraxis\":{\"colorbar\":{\"outlinewidth\":0,\"ticks\":\"\"}},\"colorscale\":{\"diverging\":[[0,\"#8e0152\"],[0.1,\"#c51b7d\"],[0.2,\"#de77ae\"],[0.3,\"#f1b6da\"],[0.4,\"#fde0ef\"],[0.5,\"#f7f7f7\"],[0.6,\"#e6f5d0\"],[0.7,\"#b8e186\"],[0.8,\"#7fbc41\"],[0.9,\"#4d9221\"],[1,\"#276419\"]],\"sequential\":[[0.0,\"#0d0887\"],[0.1111111111111111,\"#46039f\"],[0.2222222222222222,\"#7201a8\"],[0.3333333333333333,\"#9c179e\"],[0.4444444444444444,\"#bd3786\"],[0.5555555555555556,\"#d8576b\"],[0.6666666666666666,\"#ed7953\"],[0.7777777777777778,\"#fb9f3a\"],[0.8888888888888888,\"#fdca26\"],[1.0,\"#f0f921\"]],\"sequentialminus\":[[0.0,\"#0d0887\"],[0.1111111111111111,\"#46039f\"],[0.2222222222222222,\"#7201a8\"],[0.3333333333333333,\"#9c179e\"],[0.4444444444444444,\"#bd3786\"],[0.5555555555555556,\"#d8576b\"],[0.6666666666666666,\"#ed7953\"],[0.7777777777777778,\"#fb9f3a\"],[0.8888888888888888,\"#fdca26\"],[1.0,\"#f0f921\"]]},\"colorway\":[\"#636efa\",\"#EF553B\",\"#00cc96\",\"#ab63fa\",\"#FFA15A\",\"#19d3f3\",\"#FF6692\",\"#B6E880\",\"#FF97FF\",\"#FECB52\"],\"font\":{\"color\":\"#2a3f5f\"},\"geo\":{\"bgcolor\":\"white\",\"lakecolor\":\"white\",\"landcolor\":\"#E5ECF6\",\"showlakes\":true,\"showland\":true,\"subunitcolor\":\"white\"},\"hoverlabel\":{\"align\":\"left\"},\"hovermode\":\"closest\",\"mapbox\":{\"style\":\"light\"},\"paper_bgcolor\":\"white\",\"plot_bgcolor\":\"#E5ECF6\",\"polar\":{\"angularaxis\":{\"gridcolor\":\"white\",\"linecolor\":\"white\",\"ticks\":\"\"},\"bgcolor\":\"#E5ECF6\",\"radialaxis\":{\"gridcolor\":\"white\",\"linecolor\":\"white\",\"ticks\":\"\"}},\"scene\":{\"xaxis\":{\"backgroundcolor\":\"#E5ECF6\",\"gridcolor\":\"white\",\"gridwidth\":2,\"linecolor\":\"white\",\"showbackground\":true,\"ticks\":\"\",\"zerolinecolor\":\"white\"},\"yaxis\":{\"backgroundcolor\":\"#E5ECF6\",\"gridcolor\":\"white\",\"gridwidth\":2,\"linecolor\":\"white\",\"showbackground\":true,\"ticks\":\"\",\"zerolinecolor\":\"white\"},\"zaxis\":{\"backgroundcolor\":\"#E5ECF6\",\"gridcolor\":\"white\",\"gridwidth\":2,\"linecolor\":\"white\",\"showbackground\":true,\"ticks\":\"\",\"zerolinecolor\":\"white\"}},\"shapedefaults\":{\"line\":{\"color\":\"#2a3f5f\"}},\"ternary\":{\"aaxis\":{\"gridcolor\":\"white\",\"linecolor\":\"white\",\"ticks\":\"\"},\"baxis\":{\"gridcolor\":\"white\",\"linecolor\":\"white\",\"ticks\":\"\"},\"bgcolor\":\"#E5ECF6\",\"caxis\":{\"gridcolor\":\"white\",\"linecolor\":\"white\",\"ticks\":\"\"}},\"title\":{\"x\":0.05},\"xaxis\":{\"automargin\":true,\"gridcolor\":\"white\",\"linecolor\":\"white\",\"ticks\":\"\",\"title\":{\"standoff\":15},\"zerolinecolor\":\"white\",\"zerolinewidth\":2},\"yaxis\":{\"automargin\":true,\"gridcolor\":\"white\",\"linecolor\":\"white\",\"ticks\":\"\",\"title\":{\"standoff\":15},\"zerolinecolor\":\"white\",\"zerolinewidth\":2}}},\"title\":{\"text\":\"Total per vaccine scheme\"},\"xaxis\":{\"linecolor\":\"black\",\"linewidth\":2,\"mirror\":true,\"showline\":true,\"showticklabels\":true,\"tickangle\":45,\"tickfont\":{\"color\":\"black\",\"size\":10},\"title\":{\"text\":\"Vaccine\"},\"zeroline\":true,\"zerolinecolor\":\"grey\",\"zerolinewidth\":1},\"yaxis\":{\"gridcolor\":\"lightgrey\",\"linecolor\":\"black\",\"linewidth\":2,\"mirror\":true,\"showline\":true,\"title\":{\"text\":\"Vaccination total\"},\"zeroline\":true,\"zerolinecolor\":\"grey\",\"zerolinewidth\":1}},                        {\"responsive\": true}                    ).then(function(){\n",
       "                            \n",
       "var gd = document.getElementById('4340c0f7-f27e-4d0a-a789-e8a875f6e1a8');\n",
       "var x = new MutationObserver(function (mutations, observer) {{\n",
       "        var display = window.getComputedStyle(gd).display;\n",
       "        if (!display || display === 'none') {{\n",
       "            console.log([gd, 'removed!']);\n",
       "            Plotly.purge(gd);\n",
       "            observer.disconnect();\n",
       "        }}\n",
       "}});\n",
       "\n",
       "// Listen for the removal of the full notebook cells\n",
       "var notebookContainer = gd.closest('#notebook-container');\n",
       "if (notebookContainer) {{\n",
       "    x.observe(notebookContainer, {childList: true});\n",
       "}}\n",
       "\n",
       "// Listen for the clearing of the current output cell\n",
       "var outputEl = gd.closest('.output');\n",
       "if (outputEl) {{\n",
       "    x.observe(outputEl, {childList: true});\n",
       "}}\n",
       "\n",
       "                        })                };                });            </script>        </div>"
      ]
     },
     "metadata": {},
     "output_type": "display_data"
    }
   ],
   "source": [
    "draw_trace_bar_vaccine(vaccine, 'Total vaccinations', 'Total per vaccine scheme', 'Vaccine', 'Vaccination total', \"darkmagenta\" )"
   ]
  },
  {
   "cell_type": "code",
   "execution_count": 18,
   "metadata": {},
   "outputs": [
    {
     "data": {
      "application/vnd.plotly.v1+json": {
       "config": {
        "plotlyServerURL": "https://plot.ly"
       },
       "data": [
        {
         "branchvalues": "total",
         "domain": {
          "x": [
           0,
           1
          ],
          "y": [
           0,
           1
          ]
         },
         "hovertemplate": "labels=%{label}<br>Total vaccinations=%{value}<br>parent=%{parent}<br>id=%{id}<extra></extra>",
         "ids": [
          "Johnson&Johnson, Oxford/AstraZeneca, Pfizer/BioNTech, Sinopharm/Beijing/Afghanistan",
          "Oxford/AstraZeneca, Pfizer/BioNTech, Sinovac, Sputnik V/Albania",
          "Oxford/AstraZeneca, Sputnik V/Algeria",
          "Oxford/AstraZeneca, Pfizer/BioNTech/Andorra",
          "Oxford/AstraZeneca/Angola",
          "Oxford/AstraZeneca/Anguilla",
          "Oxford/AstraZeneca/Antigua and Barbuda",
          "Oxford/AstraZeneca, Sinopharm/Beijing, Sputnik V/Argentina",
          "Oxford/AstraZeneca, Sinovac, Sputnik V/Armenia",
          "Pfizer/BioNTech/Aruba",
          "Oxford/AstraZeneca, Pfizer/BioNTech/Australia",
          "Johnson&Johnson, Moderna, Oxford/AstraZeneca, Pfizer/BioNTech/Austria",
          "Oxford/AstraZeneca, Sinovac, Sputnik V/Azerbaijan",
          "Oxford/AstraZeneca/Bahamas",
          "Oxford/AstraZeneca, Pfizer/BioNTech, Sinopharm/Beijing, Sputnik V/Bahrain",
          "Oxford/AstraZeneca, Pfizer/BioNTech, Sinopharm/Beijing/Bangladesh",
          "Oxford/AstraZeneca/Barbados",
          "Sinopharm/Beijing, Sputnik V/Belarus",
          "Johnson&Johnson, Moderna, Oxford/AstraZeneca, Pfizer/BioNTech/Belgium",
          "Oxford/AstraZeneca, Sinopharm/Beijing/Belize",
          "Oxford/AstraZeneca, Sinovac/Benin",
          "Oxford/AstraZeneca, Pfizer/BioNTech/Bermuda",
          "Oxford/AstraZeneca, Pfizer/BioNTech/Bhutan",
          "Oxford/AstraZeneca, Pfizer/BioNTech, Sinopharm/Beijing, Sputnik V/Bolivia",
          "Moderna, Pfizer/BioNTech/Bonaire Sint Eustatius and Saba",
          "Oxford/AstraZeneca, Pfizer/BioNTech, Sinovac, Sputnik V/Bosnia and Herzegovina",
          "Oxford/AstraZeneca/Botswana",
          "Johnson&Johnson, Oxford/AstraZeneca, Pfizer/BioNTech, Sinovac/Brazil",
          "Oxford/AstraZeneca/British Virgin Islands",
          "Oxford/AstraZeneca, Sinopharm/Beijing/Brunei",
          "Johnson&Johnson, Moderna, Oxford/AstraZeneca, Pfizer/BioNTech/Bulgaria",
          "Oxford/AstraZeneca/Burkina Faso",
          "Oxford/AstraZeneca, Sinopharm/Beijing, Sinovac/Cambodia",
          "Oxford/AstraZeneca, Sinopharm/Beijing/Cameroon",
          "Moderna, Oxford/AstraZeneca, Pfizer/BioNTech/Canada",
          "Oxford/AstraZeneca, Pfizer/BioNTech/Cape Verde",
          "Oxford/AstraZeneca, Pfizer/BioNTech/Cayman Islands",
          "Covaxin, Oxford/AstraZeneca/Central African Republic",
          "Sinopharm/Beijing/Chad",
          "CanSino, Oxford/AstraZeneca, Pfizer/BioNTech, Sinovac/Chile",
          "CanSino, Sinopharm/Beijing, Sinopharm/Wuhan, Sinovac/China",
          "Oxford/AstraZeneca, Pfizer/BioNTech, Sinovac/Colombia",
          "Covaxin, Oxford/AstraZeneca, Sinopharm/Beijing/Comoros",
          "Moderna, Oxford/AstraZeneca, Sinopharm/Beijing, Sputnik V/Congo",
          "Oxford/AstraZeneca/Cook Islands",
          "Oxford/AstraZeneca, Pfizer/BioNTech/Costa Rica",
          "Oxford/AstraZeneca/Cote d'Ivoire",
          "Moderna, Oxford/AstraZeneca, Pfizer/BioNTech/Croatia",
          "Abdala, Soberana02/Cuba",
          "Moderna, Pfizer/BioNTech/Curacao",
          "Johnson&Johnson, Moderna, Oxford/AstraZeneca, Pfizer/BioNTech/Cyprus",
          "Johnson&Johnson, Moderna, Oxford/AstraZeneca, Pfizer/BioNTech/Czechia",
          "Oxford/AstraZeneca/Democratic Republic of Congo",
          "Johnson&Johnson, Moderna, Pfizer/BioNTech/Denmark",
          "Oxford/AstraZeneca, Sinopharm/Beijing, Sinovac, Sputnik V/Djibouti",
          "Oxford/AstraZeneca, Sinopharm/Beijing/Dominica",
          "Oxford/AstraZeneca, Pfizer/BioNTech, Sinopharm/Beijing, Sinovac/Dominican Republic",
          "Oxford/AstraZeneca, Pfizer/BioNTech, Sinovac/Ecuador",
          "Oxford/AstraZeneca, Sinopharm/Beijing, Sinovac, Sputnik V/Egypt",
          "Oxford/AstraZeneca, Pfizer/BioNTech, Sinovac/El Salvador",
          "Moderna, Oxford/AstraZeneca, Pfizer/BioNTech/England",
          "Sinopharm/Beijing/Equatorial Guinea",
          "Johnson&Johnson, Moderna, Oxford/AstraZeneca, Pfizer/BioNTech/Estonia",
          "Oxford/AstraZeneca/Eswatini",
          "Oxford/AstraZeneca/Ethiopia",
          "Moderna, Pfizer/BioNTech/Faeroe Islands",
          "Oxford/AstraZeneca/Falkland Islands",
          "Oxford/AstraZeneca/Fiji",
          "Moderna, Oxford/AstraZeneca, Pfizer/BioNTech/Finland",
          "Johnson&Johnson, Moderna, Oxford/AstraZeneca, Pfizer/BioNTech/France",
          "Oxford/AstraZeneca/French Polynesia",
          "Sinopharm/Beijing/Gabon",
          "Oxford/AstraZeneca, Sinopharm/Beijing/Gambia",
          "Oxford/AstraZeneca/Georgia",
          "Johnson&Johnson, Moderna, Oxford/AstraZeneca, Pfizer/BioNTech/Germany",
          "Oxford/AstraZeneca, Sputnik V/Ghana",
          "Pfizer/BioNTech/Gibraltar",
          "Johnson&Johnson, Moderna, Oxford/AstraZeneca, Pfizer/BioNTech/Greece",
          "Moderna/Greenland",
          "Oxford/AstraZeneca/Grenada",
          "Moderna, Oxford/AstraZeneca/Guatemala",
          "Moderna, Oxford/AstraZeneca, Pfizer/BioNTech/Guernsey",
          "Sputnik V/Guinea",
          "Oxford/AstraZeneca, Sinopharm/Beijing/Guinea-Bissau",
          "Oxford/AstraZeneca, Sputnik V/Guyana",
          "Johnson&Johnson, Moderna, Oxford/AstraZeneca, Pfizer/BioNTech, Sputnik V/Honduras",
          "Pfizer/BioNTech, Sinovac/Hong Kong",
          "Johnson&Johnson, Moderna, Oxford/AstraZeneca, Pfizer/BioNTech, Sinopharm/Beijing, Sputnik V/Hungary",
          "Johnson&Johnson, Moderna, Oxford/AstraZeneca, Pfizer/BioNTech/Iceland",
          "Covaxin, Oxford/AstraZeneca, Sputnik V/India",
          "Oxford/AstraZeneca, Sinovac/Indonesia",
          "Covaxin, Oxford/AstraZeneca, Sinopharm/Beijing, Sputnik V/Iran",
          "Oxford/AstraZeneca, Pfizer/BioNTech, Sinopharm/Beijing, Sputnik V/Iraq",
          "Johnson&Johnson, Moderna, Oxford/AstraZeneca, Pfizer/BioNTech/Ireland",
          "Oxford/AstraZeneca, Pfizer/BioNTech/Isle of Man",
          "Moderna, Pfizer/BioNTech/Israel",
          "Johnson&Johnson, Moderna, Oxford/AstraZeneca, Pfizer/BioNTech/Italy",
          "Oxford/AstraZeneca/Jamaica",
          "Moderna, Pfizer/BioNTech/Japan",
          "Moderna, Oxford/AstraZeneca, Pfizer/BioNTech/Jersey",
          "Oxford/AstraZeneca, Pfizer/BioNTech, Sinopharm/Beijing, Sputnik V/Jordan",
          "QazVac, Sinopharm/HayatVax, Sputnik V/Kazakhstan",
          "Oxford/AstraZeneca, Sputnik V/Kenya",
          "Oxford/AstraZeneca/Kosovo",
          "Pfizer/BioNTech/Kuwait",
          "Sinopharm/Beijing, Sputnik V/Kyrgyzstan",
          "Sinopharm/Beijing, Sputnik V/Laos",
          "Johnson&Johnson, Moderna, Oxford/AstraZeneca, Pfizer/BioNTech/Latvia",
          "Oxford/AstraZeneca, Pfizer/BioNTech, Sinopharm/Beijing, Sputnik V/Lebanon",
          "Oxford/AstraZeneca/Lesotho",
          "Oxford/AstraZeneca/Liberia",
          "Johnson&Johnson, Moderna, Oxford/AstraZeneca, Pfizer/BioNTech, Sinovac, Sputnik V/Libya",
          "Moderna, Pfizer/BioNTech/Liechtenstein",
          "Johnson&Johnson, Moderna, Oxford/AstraZeneca, Pfizer/BioNTech/Lithuania",
          "Moderna, Oxford/AstraZeneca, Pfizer/BioNTech/Luxembourg",
          "Pfizer/BioNTech, Sinopharm/Beijing/Macao",
          "Oxford/AstraZeneca/Madagascar",
          "Oxford/AstraZeneca/Malawi",
          "Oxford/AstraZeneca, Pfizer/BioNTech, Sinovac/Malaysia",
          "Oxford/AstraZeneca, Pfizer/BioNTech, Sinopharm/Beijing/Maldives",
          "Oxford/AstraZeneca/Mali",
          "Johnson&Johnson, Moderna, Oxford/AstraZeneca, Pfizer/BioNTech/Malta",
          "Oxford/AstraZeneca, Sinopharm/Beijing/Mauritania",
          "Covaxin, Oxford/AstraZeneca, Sinopharm/Beijing/Mauritius",
          "CanSino, Oxford/AstraZeneca, Pfizer/BioNTech, Sinovac, Sputnik V/Mexico",
          "Oxford/AstraZeneca, Pfizer/BioNTech, Sinopharm/Beijing, Sputnik V/Moldova",
          "Pfizer/BioNTech/Monaco",
          "Oxford/AstraZeneca, Pfizer/BioNTech, Sinopharm/Beijing, Sputnik V/Mongolia",
          "Oxford/AstraZeneca, Pfizer/BioNTech, Sinopharm/Beijing, Sputnik V/Montenegro",
          "Oxford/AstraZeneca/Montserrat",
          "Oxford/AstraZeneca, Sinopharm/Beijing/Morocco",
          "Oxford/AstraZeneca, Sinopharm/Beijing/Mozambique",
          "Oxford/AstraZeneca, Sinopharm/Beijing/Myanmar",
          "Oxford/AstraZeneca, Sinopharm/Beijing/Namibia",
          "Oxford/AstraZeneca/Nauru",
          "Oxford/AstraZeneca, Sinopharm/Beijing/Nepal",
          "Johnson&Johnson, Moderna, Oxford/AstraZeneca, Pfizer/BioNTech/Netherlands",
          "Pfizer/BioNTech/New Caledonia",
          "Pfizer/BioNTech/New Zealand",
          "Oxford/AstraZeneca, Sputnik V/Nicaragua",
          "Oxford/AstraZeneca, Sinopharm/Beijing/Niger",
          "Oxford/AstraZeneca/Nigeria",
          "Oxford/AstraZeneca/Niue",
          "Oxford/AstraZeneca, Pfizer/BioNTech, Sinopharm/Beijing, Sinovac, Sputnik V/North Macedonia",
          "Oxford/AstraZeneca, Pfizer/BioNTech, Sinovac/Northern Cyprus",
          "Moderna, Oxford/AstraZeneca, Pfizer/BioNTech/Northern Ireland",
          "Moderna, Pfizer/BioNTech/Norway",
          "Oxford/AstraZeneca, Pfizer/BioNTech, Sinovac, Sputnik V/Oman",
          "CanSino, Oxford/AstraZeneca, Sinopharm/Beijing, Sinovac, Sputnik V/Pakistan",
          "Moderna, Oxford/AstraZeneca, Pfizer/BioNTech, Sputnik V/Palestine",
          "Oxford/AstraZeneca, Pfizer/BioNTech/Panama",
          "Oxford/AstraZeneca, Sinopharm/Beijing/Papua New Guinea",
          "Covaxin, Oxford/AstraZeneca, Sinopharm/Beijing, Sinovac, Sputnik V/Paraguay",
          "Oxford/AstraZeneca, Pfizer/BioNTech, Sinopharm/Beijing/Peru",
          "Moderna, Oxford/AstraZeneca, Pfizer/BioNTech, Sinovac, Sputnik V/Philippines",
          "Oxford/AstraZeneca/Pitcairn",
          "Johnson&Johnson, Moderna, Oxford/AstraZeneca, Pfizer/BioNTech/Poland",
          "Johnson&Johnson, Moderna, Oxford/AstraZeneca, Pfizer/BioNTech/Portugal",
          "Moderna, Pfizer/BioNTech/Qatar",
          "Johnson&Johnson, Moderna, Oxford/AstraZeneca, Pfizer/BioNTech/Romania",
          "EpiVacCorona, Sputnik V/Russia",
          "Moderna, Oxford/AstraZeneca, Pfizer/BioNTech/Rwanda",
          "Oxford/AstraZeneca/Saint Helena",
          "Oxford/AstraZeneca/Saint Kitts and Nevis",
          "Oxford/AstraZeneca/Saint Lucia",
          "Oxford/AstraZeneca/Saint Vincent and the Grenadines",
          "Oxford/AstraZeneca/Samoa",
          "Pfizer/BioNTech, Sputnik V/San Marino",
          "Oxford/AstraZeneca/Sao Tome and Principe",
          "Oxford/AstraZeneca, Pfizer/BioNTech/Saudi Arabia",
          "Moderna, Oxford/AstraZeneca, Pfizer/BioNTech/Scotland",
          "Oxford/AstraZeneca, Sinopharm/Beijing/Senegal",
          "Oxford/AstraZeneca, Pfizer/BioNTech, Sinopharm/Beijing, Sputnik V/Serbia",
          "Oxford/AstraZeneca, Sinopharm/Beijing/Seychelles",
          "Oxford/AstraZeneca, Sinopharm/Beijing/Sierra Leone",
          "Moderna, Pfizer/BioNTech, Sinovac/Singapore",
          "Moderna, Oxford/AstraZeneca, Pfizer/BioNTech/Sint Maarten (Dutch part)",
          "Moderna, Oxford/AstraZeneca, Pfizer/BioNTech/Slovakia",
          "Oxford/AstraZeneca, Pfizer/BioNTech/Slovenia",
          "Oxford/AstraZeneca/Solomon Islands",
          "Oxford/AstraZeneca, Sinopharm/Beijing, Sinovac/Somalia",
          "Johnson&Johnson, Pfizer/BioNTech/South Africa",
          "Johnson&Johnson, Moderna, Oxford/AstraZeneca, Pfizer/BioNTech/South Korea",
          "Oxford/AstraZeneca/South Sudan",
          "Johnson&Johnson, Moderna, Oxford/AstraZeneca, Pfizer/BioNTech/Spain",
          "Oxford/AstraZeneca, Sinopharm/Beijing, Sputnik V/Sri Lanka",
          "Oxford/AstraZeneca, Pfizer/BioNTech, Sinopharm/Beijing, Sinovac/Sudan",
          "Oxford/AstraZeneca/Suriname",
          "Oxford/AstraZeneca, Pfizer/BioNTech/Sweden",
          "Moderna, Pfizer/BioNTech/Switzerland",
          "Oxford/AstraZeneca, Sinopharm/Beijing, Sputnik V/Syria",
          "Moderna, Oxford/AstraZeneca/Taiwan",
          "Oxford/AstraZeneca, Sinovac/Tajikistan",
          "Oxford/AstraZeneca, Sinovac/Thailand",
          "Oxford/AstraZeneca, Sinovac/Timor",
          "Oxford/AstraZeneca/Togo",
          "Oxford/AstraZeneca/Tonga",
          "Oxford/AstraZeneca/Trinidad and Tobago",
          "Oxford/AstraZeneca, Pfizer/BioNTech, Sinovac, Sputnik V/Tunisia",
          "Pfizer/BioNTech, Sinovac/Turkey",
          "EpiVacCorona, Oxford/AstraZeneca, Sinopharm/Beijing, Sputnik V/Turkmenistan",
          "Pfizer/BioNTech/Turks and Caicos Islands",
          "Oxford/AstraZeneca/Tuvalu",
          "Oxford/AstraZeneca/Uganda",
          "Oxford/AstraZeneca, Pfizer/BioNTech, Sinovac/Ukraine",
          "Oxford/AstraZeneca, Pfizer/BioNTech, Sinopharm/Beijing, Sinopharm/Wuhan, Sputnik V/United Arab Emirates",
          "Moderna, Oxford/AstraZeneca, Pfizer/BioNTech/United Kingdom",
          "Johnson&Johnson, Moderna, Pfizer/BioNTech/United States",
          "Oxford/AstraZeneca, Pfizer/BioNTech, Sinovac/Uruguay",
          "Oxford/AstraZeneca, RBD-Dimer, Sputnik V/Uzbekistan",
          "Oxford/AstraZeneca/Vanuatu",
          "Sinopharm/Beijing, Sputnik V/Venezuela",
          "Oxford/AstraZeneca, Sinopharm/Beijing/Vietnam",
          "Moderna, Oxford/AstraZeneca, Pfizer/BioNTech/Wales",
          "Oxford/AstraZeneca/Wallis and Futuna",
          "Oxford/AstraZeneca/Yemen",
          "Oxford/AstraZeneca, Sinopharm/Beijing/Zambia",
          "Sinopharm/Beijing/Zimbabwe",
          "Abdala, Soberana02",
          "CanSino, Oxford/AstraZeneca, Pfizer/BioNTech, Sinovac",
          "CanSino, Oxford/AstraZeneca, Pfizer/BioNTech, Sinovac, Sputnik V",
          "CanSino, Oxford/AstraZeneca, Sinopharm/Beijing, Sinovac, Sputnik V",
          "CanSino, Sinopharm/Beijing, Sinopharm/Wuhan, Sinovac",
          "Covaxin, Oxford/AstraZeneca",
          "Covaxin, Oxford/AstraZeneca, Sinopharm/Beijing",
          "Covaxin, Oxford/AstraZeneca, Sinopharm/Beijing, Sinovac, Sputnik V",
          "Covaxin, Oxford/AstraZeneca, Sinopharm/Beijing, Sputnik V",
          "Covaxin, Oxford/AstraZeneca, Sputnik V",
          "EpiVacCorona, Oxford/AstraZeneca, Sinopharm/Beijing, Sputnik V",
          "EpiVacCorona, Sputnik V",
          "Johnson&Johnson, Moderna, Oxford/AstraZeneca, Pfizer/BioNTech",
          "Johnson&Johnson, Moderna, Oxford/AstraZeneca, Pfizer/BioNTech, Sinopharm/Beijing, Sputnik V",
          "Johnson&Johnson, Moderna, Oxford/AstraZeneca, Pfizer/BioNTech, Sinovac, Sputnik V",
          "Johnson&Johnson, Moderna, Oxford/AstraZeneca, Pfizer/BioNTech, Sputnik V",
          "Johnson&Johnson, Moderna, Pfizer/BioNTech",
          "Johnson&Johnson, Oxford/AstraZeneca, Pfizer/BioNTech, Sinopharm/Beijing",
          "Johnson&Johnson, Oxford/AstraZeneca, Pfizer/BioNTech, Sinovac",
          "Johnson&Johnson, Pfizer/BioNTech",
          "Moderna",
          "Moderna, Oxford/AstraZeneca",
          "Moderna, Oxford/AstraZeneca, Pfizer/BioNTech",
          "Moderna, Oxford/AstraZeneca, Pfizer/BioNTech, Sinovac, Sputnik V",
          "Moderna, Oxford/AstraZeneca, Pfizer/BioNTech, Sputnik V",
          "Moderna, Oxford/AstraZeneca, Sinopharm/Beijing, Sputnik V",
          "Moderna, Pfizer/BioNTech",
          "Moderna, Pfizer/BioNTech, Sinovac",
          "Oxford/AstraZeneca",
          "Oxford/AstraZeneca, Pfizer/BioNTech",
          "Oxford/AstraZeneca, Pfizer/BioNTech, Sinopharm/Beijing",
          "Oxford/AstraZeneca, Pfizer/BioNTech, Sinopharm/Beijing, Sinopharm/Wuhan, Sputnik V",
          "Oxford/AstraZeneca, Pfizer/BioNTech, Sinopharm/Beijing, Sinovac",
          "Oxford/AstraZeneca, Pfizer/BioNTech, Sinopharm/Beijing, Sinovac, Sputnik V",
          "Oxford/AstraZeneca, Pfizer/BioNTech, Sinopharm/Beijing, Sputnik V",
          "Oxford/AstraZeneca, Pfizer/BioNTech, Sinovac",
          "Oxford/AstraZeneca, Pfizer/BioNTech, Sinovac, Sputnik V",
          "Oxford/AstraZeneca, RBD-Dimer, Sputnik V",
          "Oxford/AstraZeneca, Sinopharm/Beijing",
          "Oxford/AstraZeneca, Sinopharm/Beijing, Sinovac",
          "Oxford/AstraZeneca, Sinopharm/Beijing, Sinovac, Sputnik V",
          "Oxford/AstraZeneca, Sinopharm/Beijing, Sputnik V",
          "Oxford/AstraZeneca, Sinovac",
          "Oxford/AstraZeneca, Sinovac, Sputnik V",
          "Oxford/AstraZeneca, Sputnik V",
          "Pfizer/BioNTech",
          "Pfizer/BioNTech, Sinopharm/Beijing",
          "Pfizer/BioNTech, Sinovac",
          "Pfizer/BioNTech, Sputnik V",
          "QazVac, Sinopharm/HayatVax, Sputnik V",
          "Sinopharm/Beijing",
          "Sinopharm/Beijing, Sputnik V",
          "Sputnik V"
         ],
         "labels": [
          "Afghanistan",
          "Albania",
          "Algeria",
          "Andorra",
          "Angola",
          "Anguilla",
          "Antigua and Barbuda",
          "Argentina",
          "Armenia",
          "Aruba",
          "Australia",
          "Austria",
          "Azerbaijan",
          "Bahamas",
          "Bahrain",
          "Bangladesh",
          "Barbados",
          "Belarus",
          "Belgium",
          "Belize",
          "Benin",
          "Bermuda",
          "Bhutan",
          "Bolivia",
          "Bonaire Sint Eustatius and Saba",
          "Bosnia and Herzegovina",
          "Botswana",
          "Brazil",
          "British Virgin Islands",
          "Brunei",
          "Bulgaria",
          "Burkina Faso",
          "Cambodia",
          "Cameroon",
          "Canada",
          "Cape Verde",
          "Cayman Islands",
          "Central African Republic",
          "Chad",
          "Chile",
          "China",
          "Colombia",
          "Comoros",
          "Congo",
          "Cook Islands",
          "Costa Rica",
          "Cote d'Ivoire",
          "Croatia",
          "Cuba",
          "Curacao",
          "Cyprus",
          "Czechia",
          "Democratic Republic of Congo",
          "Denmark",
          "Djibouti",
          "Dominica",
          "Dominican Republic",
          "Ecuador",
          "Egypt",
          "El Salvador",
          "England",
          "Equatorial Guinea",
          "Estonia",
          "Eswatini",
          "Ethiopia",
          "Faeroe Islands",
          "Falkland Islands",
          "Fiji",
          "Finland",
          "France",
          "French Polynesia",
          "Gabon",
          "Gambia",
          "Georgia",
          "Germany",
          "Ghana",
          "Gibraltar",
          "Greece",
          "Greenland",
          "Grenada",
          "Guatemala",
          "Guernsey",
          "Guinea",
          "Guinea-Bissau",
          "Guyana",
          "Honduras",
          "Hong Kong",
          "Hungary",
          "Iceland",
          "India",
          "Indonesia",
          "Iran",
          "Iraq",
          "Ireland",
          "Isle of Man",
          "Israel",
          "Italy",
          "Jamaica",
          "Japan",
          "Jersey",
          "Jordan",
          "Kazakhstan",
          "Kenya",
          "Kosovo",
          "Kuwait",
          "Kyrgyzstan",
          "Laos",
          "Latvia",
          "Lebanon",
          "Lesotho",
          "Liberia",
          "Libya",
          "Liechtenstein",
          "Lithuania",
          "Luxembourg",
          "Macao",
          "Madagascar",
          "Malawi",
          "Malaysia",
          "Maldives",
          "Mali",
          "Malta",
          "Mauritania",
          "Mauritius",
          "Mexico",
          "Moldova",
          "Monaco",
          "Mongolia",
          "Montenegro",
          "Montserrat",
          "Morocco",
          "Mozambique",
          "Myanmar",
          "Namibia",
          "Nauru",
          "Nepal",
          "Netherlands",
          "New Caledonia",
          "New Zealand",
          "Nicaragua",
          "Niger",
          "Nigeria",
          "Niue",
          "North Macedonia",
          "Northern Cyprus",
          "Northern Ireland",
          "Norway",
          "Oman",
          "Pakistan",
          "Palestine",
          "Panama",
          "Papua New Guinea",
          "Paraguay",
          "Peru",
          "Philippines",
          "Pitcairn",
          "Poland",
          "Portugal",
          "Qatar",
          "Romania",
          "Russia",
          "Rwanda",
          "Saint Helena",
          "Saint Kitts and Nevis",
          "Saint Lucia",
          "Saint Vincent and the Grenadines",
          "Samoa",
          "San Marino",
          "Sao Tome and Principe",
          "Saudi Arabia",
          "Scotland",
          "Senegal",
          "Serbia",
          "Seychelles",
          "Sierra Leone",
          "Singapore",
          "Sint Maarten (Dutch part)",
          "Slovakia",
          "Slovenia",
          "Solomon Islands",
          "Somalia",
          "South Africa",
          "South Korea",
          "South Sudan",
          "Spain",
          "Sri Lanka",
          "Sudan",
          "Suriname",
          "Sweden",
          "Switzerland",
          "Syria",
          "Taiwan",
          "Tajikistan",
          "Thailand",
          "Timor",
          "Togo",
          "Tonga",
          "Trinidad and Tobago",
          "Tunisia",
          "Turkey",
          "Turkmenistan",
          "Turks and Caicos Islands",
          "Tuvalu",
          "Uganda",
          "Ukraine",
          "United Arab Emirates",
          "United Kingdom",
          "United States",
          "Uruguay",
          "Uzbekistan",
          "Vanuatu",
          "Venezuela",
          "Vietnam",
          "Wales",
          "Wallis and Futuna",
          "Yemen",
          "Zambia",
          "Zimbabwe",
          "Abdala, Soberana02",
          "CanSino, Oxford/AstraZeneca, Pfizer/BioNTech, Sinovac",
          "CanSino, Oxford/AstraZeneca, Pfizer/BioNTech, Sinovac, Sputnik V",
          "CanSino, Oxford/AstraZeneca, Sinopharm/Beijing, Sinovac, Sputnik V",
          "CanSino, Sinopharm/Beijing, Sinopharm/Wuhan, Sinovac",
          "Covaxin, Oxford/AstraZeneca",
          "Covaxin, Oxford/AstraZeneca, Sinopharm/Beijing",
          "Covaxin, Oxford/AstraZeneca, Sinopharm/Beijing, Sinovac, Sputnik V",
          "Covaxin, Oxford/AstraZeneca, Sinopharm/Beijing, Sputnik V",
          "Covaxin, Oxford/AstraZeneca, Sputnik V",
          "EpiVacCorona, Oxford/AstraZeneca, Sinopharm/Beijing, Sputnik V",
          "EpiVacCorona, Sputnik V",
          "Johnson&Johnson, Moderna, Oxford/AstraZeneca, Pfizer/BioNTech",
          "Johnson&Johnson, Moderna, Oxford/AstraZeneca, Pfizer/BioNTech, Sinopharm/Beijing, Sputnik V",
          "Johnson&Johnson, Moderna, Oxford/AstraZeneca, Pfizer/BioNTech, Sinovac, Sputnik V",
          "Johnson&Johnson, Moderna, Oxford/AstraZeneca, Pfizer/BioNTech, Sputnik V",
          "Johnson&Johnson, Moderna, Pfizer/BioNTech",
          "Johnson&Johnson, Oxford/AstraZeneca, Pfizer/BioNTech, Sinopharm/Beijing",
          "Johnson&Johnson, Oxford/AstraZeneca, Pfizer/BioNTech, Sinovac",
          "Johnson&Johnson, Pfizer/BioNTech",
          "Moderna",
          "Moderna, Oxford/AstraZeneca",
          "Moderna, Oxford/AstraZeneca, Pfizer/BioNTech",
          "Moderna, Oxford/AstraZeneca, Pfizer/BioNTech, Sinovac, Sputnik V",
          "Moderna, Oxford/AstraZeneca, Pfizer/BioNTech, Sputnik V",
          "Moderna, Oxford/AstraZeneca, Sinopharm/Beijing, Sputnik V",
          "Moderna, Pfizer/BioNTech",
          "Moderna, Pfizer/BioNTech, Sinovac",
          "Oxford/AstraZeneca",
          "Oxford/AstraZeneca, Pfizer/BioNTech",
          "Oxford/AstraZeneca, Pfizer/BioNTech, Sinopharm/Beijing",
          "Oxford/AstraZeneca, Pfizer/BioNTech, Sinopharm/Beijing, Sinopharm/Wuhan, Sputnik V",
          "Oxford/AstraZeneca, Pfizer/BioNTech, Sinopharm/Beijing, Sinovac",
          "Oxford/AstraZeneca, Pfizer/BioNTech, Sinopharm/Beijing, Sinovac, Sputnik V",
          "Oxford/AstraZeneca, Pfizer/BioNTech, Sinopharm/Beijing, Sputnik V",
          "Oxford/AstraZeneca, Pfizer/BioNTech, Sinovac",
          "Oxford/AstraZeneca, Pfizer/BioNTech, Sinovac, Sputnik V",
          "Oxford/AstraZeneca, RBD-Dimer, Sputnik V",
          "Oxford/AstraZeneca, Sinopharm/Beijing",
          "Oxford/AstraZeneca, Sinopharm/Beijing, Sinovac",
          "Oxford/AstraZeneca, Sinopharm/Beijing, Sinovac, Sputnik V",
          "Oxford/AstraZeneca, Sinopharm/Beijing, Sputnik V",
          "Oxford/AstraZeneca, Sinovac",
          "Oxford/AstraZeneca, Sinovac, Sputnik V",
          "Oxford/AstraZeneca, Sputnik V",
          "Pfizer/BioNTech",
          "Pfizer/BioNTech, Sinopharm/Beijing",
          "Pfizer/BioNTech, Sinovac",
          "Pfizer/BioNTech, Sputnik V",
          "QazVac, Sinopharm/HayatVax, Sputnik V",
          "Sinopharm/Beijing",
          "Sinopharm/Beijing, Sputnik V",
          "Sputnik V"
         ],
         "name": "",
         "parents": [
          "Johnson&Johnson, Oxford/AstraZeneca, Pfizer/BioNTech, Sinopharm/Beijing",
          "Oxford/AstraZeneca, Pfizer/BioNTech, Sinovac, Sputnik V",
          "Oxford/AstraZeneca, Sputnik V",
          "Oxford/AstraZeneca, Pfizer/BioNTech",
          "Oxford/AstraZeneca",
          "Oxford/AstraZeneca",
          "Oxford/AstraZeneca",
          "Oxford/AstraZeneca, Sinopharm/Beijing, Sputnik V",
          "Oxford/AstraZeneca, Sinovac, Sputnik V",
          "Pfizer/BioNTech",
          "Oxford/AstraZeneca, Pfizer/BioNTech",
          "Johnson&Johnson, Moderna, Oxford/AstraZeneca, Pfizer/BioNTech",
          "Oxford/AstraZeneca, Sinovac, Sputnik V",
          "Oxford/AstraZeneca",
          "Oxford/AstraZeneca, Pfizer/BioNTech, Sinopharm/Beijing, Sputnik V",
          "Oxford/AstraZeneca, Pfizer/BioNTech, Sinopharm/Beijing",
          "Oxford/AstraZeneca",
          "Sinopharm/Beijing, Sputnik V",
          "Johnson&Johnson, Moderna, Oxford/AstraZeneca, Pfizer/BioNTech",
          "Oxford/AstraZeneca, Sinopharm/Beijing",
          "Oxford/AstraZeneca, Sinovac",
          "Oxford/AstraZeneca, Pfizer/BioNTech",
          "Oxford/AstraZeneca, Pfizer/BioNTech",
          "Oxford/AstraZeneca, Pfizer/BioNTech, Sinopharm/Beijing, Sputnik V",
          "Moderna, Pfizer/BioNTech",
          "Oxford/AstraZeneca, Pfizer/BioNTech, Sinovac, Sputnik V",
          "Oxford/AstraZeneca",
          "Johnson&Johnson, Oxford/AstraZeneca, Pfizer/BioNTech, Sinovac",
          "Oxford/AstraZeneca",
          "Oxford/AstraZeneca, Sinopharm/Beijing",
          "Johnson&Johnson, Moderna, Oxford/AstraZeneca, Pfizer/BioNTech",
          "Oxford/AstraZeneca",
          "Oxford/AstraZeneca, Sinopharm/Beijing, Sinovac",
          "Oxford/AstraZeneca, Sinopharm/Beijing",
          "Moderna, Oxford/AstraZeneca, Pfizer/BioNTech",
          "Oxford/AstraZeneca, Pfizer/BioNTech",
          "Oxford/AstraZeneca, Pfizer/BioNTech",
          "Covaxin, Oxford/AstraZeneca",
          "Sinopharm/Beijing",
          "CanSino, Oxford/AstraZeneca, Pfizer/BioNTech, Sinovac",
          "CanSino, Sinopharm/Beijing, Sinopharm/Wuhan, Sinovac",
          "Oxford/AstraZeneca, Pfizer/BioNTech, Sinovac",
          "Covaxin, Oxford/AstraZeneca, Sinopharm/Beijing",
          "Moderna, Oxford/AstraZeneca, Sinopharm/Beijing, Sputnik V",
          "Oxford/AstraZeneca",
          "Oxford/AstraZeneca, Pfizer/BioNTech",
          "Oxford/AstraZeneca",
          "Moderna, Oxford/AstraZeneca, Pfizer/BioNTech",
          "Abdala, Soberana02",
          "Moderna, Pfizer/BioNTech",
          "Johnson&Johnson, Moderna, Oxford/AstraZeneca, Pfizer/BioNTech",
          "Johnson&Johnson, Moderna, Oxford/AstraZeneca, Pfizer/BioNTech",
          "Oxford/AstraZeneca",
          "Johnson&Johnson, Moderna, Pfizer/BioNTech",
          "Oxford/AstraZeneca, Sinopharm/Beijing, Sinovac, Sputnik V",
          "Oxford/AstraZeneca, Sinopharm/Beijing",
          "Oxford/AstraZeneca, Pfizer/BioNTech, Sinopharm/Beijing, Sinovac",
          "Oxford/AstraZeneca, Pfizer/BioNTech, Sinovac",
          "Oxford/AstraZeneca, Sinopharm/Beijing, Sinovac, Sputnik V",
          "Oxford/AstraZeneca, Pfizer/BioNTech, Sinovac",
          "Moderna, Oxford/AstraZeneca, Pfizer/BioNTech",
          "Sinopharm/Beijing",
          "Johnson&Johnson, Moderna, Oxford/AstraZeneca, Pfizer/BioNTech",
          "Oxford/AstraZeneca",
          "Oxford/AstraZeneca",
          "Moderna, Pfizer/BioNTech",
          "Oxford/AstraZeneca",
          "Oxford/AstraZeneca",
          "Moderna, Oxford/AstraZeneca, Pfizer/BioNTech",
          "Johnson&Johnson, Moderna, Oxford/AstraZeneca, Pfizer/BioNTech",
          "Oxford/AstraZeneca",
          "Sinopharm/Beijing",
          "Oxford/AstraZeneca, Sinopharm/Beijing",
          "Oxford/AstraZeneca",
          "Johnson&Johnson, Moderna, Oxford/AstraZeneca, Pfizer/BioNTech",
          "Oxford/AstraZeneca, Sputnik V",
          "Pfizer/BioNTech",
          "Johnson&Johnson, Moderna, Oxford/AstraZeneca, Pfizer/BioNTech",
          "Moderna",
          "Oxford/AstraZeneca",
          "Moderna, Oxford/AstraZeneca",
          "Moderna, Oxford/AstraZeneca, Pfizer/BioNTech",
          "Sputnik V",
          "Oxford/AstraZeneca, Sinopharm/Beijing",
          "Oxford/AstraZeneca, Sputnik V",
          "Johnson&Johnson, Moderna, Oxford/AstraZeneca, Pfizer/BioNTech, Sputnik V",
          "Pfizer/BioNTech, Sinovac",
          "Johnson&Johnson, Moderna, Oxford/AstraZeneca, Pfizer/BioNTech, Sinopharm/Beijing, Sputnik V",
          "Johnson&Johnson, Moderna, Oxford/AstraZeneca, Pfizer/BioNTech",
          "Covaxin, Oxford/AstraZeneca, Sputnik V",
          "Oxford/AstraZeneca, Sinovac",
          "Covaxin, Oxford/AstraZeneca, Sinopharm/Beijing, Sputnik V",
          "Oxford/AstraZeneca, Pfizer/BioNTech, Sinopharm/Beijing, Sputnik V",
          "Johnson&Johnson, Moderna, Oxford/AstraZeneca, Pfizer/BioNTech",
          "Oxford/AstraZeneca, Pfizer/BioNTech",
          "Moderna, Pfizer/BioNTech",
          "Johnson&Johnson, Moderna, Oxford/AstraZeneca, Pfizer/BioNTech",
          "Oxford/AstraZeneca",
          "Moderna, Pfizer/BioNTech",
          "Moderna, Oxford/AstraZeneca, Pfizer/BioNTech",
          "Oxford/AstraZeneca, Pfizer/BioNTech, Sinopharm/Beijing, Sputnik V",
          "QazVac, Sinopharm/HayatVax, Sputnik V",
          "Oxford/AstraZeneca, Sputnik V",
          "Oxford/AstraZeneca",
          "Pfizer/BioNTech",
          "Sinopharm/Beijing, Sputnik V",
          "Sinopharm/Beijing, Sputnik V",
          "Johnson&Johnson, Moderna, Oxford/AstraZeneca, Pfizer/BioNTech",
          "Oxford/AstraZeneca, Pfizer/BioNTech, Sinopharm/Beijing, Sputnik V",
          "Oxford/AstraZeneca",
          "Oxford/AstraZeneca",
          "Johnson&Johnson, Moderna, Oxford/AstraZeneca, Pfizer/BioNTech, Sinovac, Sputnik V",
          "Moderna, Pfizer/BioNTech",
          "Johnson&Johnson, Moderna, Oxford/AstraZeneca, Pfizer/BioNTech",
          "Moderna, Oxford/AstraZeneca, Pfizer/BioNTech",
          "Pfizer/BioNTech, Sinopharm/Beijing",
          "Oxford/AstraZeneca",
          "Oxford/AstraZeneca",
          "Oxford/AstraZeneca, Pfizer/BioNTech, Sinovac",
          "Oxford/AstraZeneca, Pfizer/BioNTech, Sinopharm/Beijing",
          "Oxford/AstraZeneca",
          "Johnson&Johnson, Moderna, Oxford/AstraZeneca, Pfizer/BioNTech",
          "Oxford/AstraZeneca, Sinopharm/Beijing",
          "Covaxin, Oxford/AstraZeneca, Sinopharm/Beijing",
          "CanSino, Oxford/AstraZeneca, Pfizer/BioNTech, Sinovac, Sputnik V",
          "Oxford/AstraZeneca, Pfizer/BioNTech, Sinopharm/Beijing, Sputnik V",
          "Pfizer/BioNTech",
          "Oxford/AstraZeneca, Pfizer/BioNTech, Sinopharm/Beijing, Sputnik V",
          "Oxford/AstraZeneca, Pfizer/BioNTech, Sinopharm/Beijing, Sputnik V",
          "Oxford/AstraZeneca",
          "Oxford/AstraZeneca, Sinopharm/Beijing",
          "Oxford/AstraZeneca, Sinopharm/Beijing",
          "Oxford/AstraZeneca, Sinopharm/Beijing",
          "Oxford/AstraZeneca, Sinopharm/Beijing",
          "Oxford/AstraZeneca",
          "Oxford/AstraZeneca, Sinopharm/Beijing",
          "Johnson&Johnson, Moderna, Oxford/AstraZeneca, Pfizer/BioNTech",
          "Pfizer/BioNTech",
          "Pfizer/BioNTech",
          "Oxford/AstraZeneca, Sputnik V",
          "Oxford/AstraZeneca, Sinopharm/Beijing",
          "Oxford/AstraZeneca",
          "Oxford/AstraZeneca",
          "Oxford/AstraZeneca, Pfizer/BioNTech, Sinopharm/Beijing, Sinovac, Sputnik V",
          "Oxford/AstraZeneca, Pfizer/BioNTech, Sinovac",
          "Moderna, Oxford/AstraZeneca, Pfizer/BioNTech",
          "Moderna, Pfizer/BioNTech",
          "Oxford/AstraZeneca, Pfizer/BioNTech, Sinovac, Sputnik V",
          "CanSino, Oxford/AstraZeneca, Sinopharm/Beijing, Sinovac, Sputnik V",
          "Moderna, Oxford/AstraZeneca, Pfizer/BioNTech, Sputnik V",
          "Oxford/AstraZeneca, Pfizer/BioNTech",
          "Oxford/AstraZeneca, Sinopharm/Beijing",
          "Covaxin, Oxford/AstraZeneca, Sinopharm/Beijing, Sinovac, Sputnik V",
          "Oxford/AstraZeneca, Pfizer/BioNTech, Sinopharm/Beijing",
          "Moderna, Oxford/AstraZeneca, Pfizer/BioNTech, Sinovac, Sputnik V",
          "Oxford/AstraZeneca",
          "Johnson&Johnson, Moderna, Oxford/AstraZeneca, Pfizer/BioNTech",
          "Johnson&Johnson, Moderna, Oxford/AstraZeneca, Pfizer/BioNTech",
          "Moderna, Pfizer/BioNTech",
          "Johnson&Johnson, Moderna, Oxford/AstraZeneca, Pfizer/BioNTech",
          "EpiVacCorona, Sputnik V",
          "Moderna, Oxford/AstraZeneca, Pfizer/BioNTech",
          "Oxford/AstraZeneca",
          "Oxford/AstraZeneca",
          "Oxford/AstraZeneca",
          "Oxford/AstraZeneca",
          "Oxford/AstraZeneca",
          "Pfizer/BioNTech, Sputnik V",
          "Oxford/AstraZeneca",
          "Oxford/AstraZeneca, Pfizer/BioNTech",
          "Moderna, Oxford/AstraZeneca, Pfizer/BioNTech",
          "Oxford/AstraZeneca, Sinopharm/Beijing",
          "Oxford/AstraZeneca, Pfizer/BioNTech, Sinopharm/Beijing, Sputnik V",
          "Oxford/AstraZeneca, Sinopharm/Beijing",
          "Oxford/AstraZeneca, Sinopharm/Beijing",
          "Moderna, Pfizer/BioNTech, Sinovac",
          "Moderna, Oxford/AstraZeneca, Pfizer/BioNTech",
          "Moderna, Oxford/AstraZeneca, Pfizer/BioNTech",
          "Oxford/AstraZeneca, Pfizer/BioNTech",
          "Oxford/AstraZeneca",
          "Oxford/AstraZeneca, Sinopharm/Beijing, Sinovac",
          "Johnson&Johnson, Pfizer/BioNTech",
          "Johnson&Johnson, Moderna, Oxford/AstraZeneca, Pfizer/BioNTech",
          "Oxford/AstraZeneca",
          "Johnson&Johnson, Moderna, Oxford/AstraZeneca, Pfizer/BioNTech",
          "Oxford/AstraZeneca, Sinopharm/Beijing, Sputnik V",
          "Oxford/AstraZeneca, Pfizer/BioNTech, Sinopharm/Beijing, Sinovac",
          "Oxford/AstraZeneca",
          "Oxford/AstraZeneca, Pfizer/BioNTech",
          "Moderna, Pfizer/BioNTech",
          "Oxford/AstraZeneca, Sinopharm/Beijing, Sputnik V",
          "Moderna, Oxford/AstraZeneca",
          "Oxford/AstraZeneca, Sinovac",
          "Oxford/AstraZeneca, Sinovac",
          "Oxford/AstraZeneca, Sinovac",
          "Oxford/AstraZeneca",
          "Oxford/AstraZeneca",
          "Oxford/AstraZeneca",
          "Oxford/AstraZeneca, Pfizer/BioNTech, Sinovac, Sputnik V",
          "Pfizer/BioNTech, Sinovac",
          "EpiVacCorona, Oxford/AstraZeneca, Sinopharm/Beijing, Sputnik V",
          "Pfizer/BioNTech",
          "Oxford/AstraZeneca",
          "Oxford/AstraZeneca",
          "Oxford/AstraZeneca, Pfizer/BioNTech, Sinovac",
          "Oxford/AstraZeneca, Pfizer/BioNTech, Sinopharm/Beijing, Sinopharm/Wuhan, Sputnik V",
          "Moderna, Oxford/AstraZeneca, Pfizer/BioNTech",
          "Johnson&Johnson, Moderna, Pfizer/BioNTech",
          "Oxford/AstraZeneca, Pfizer/BioNTech, Sinovac",
          "Oxford/AstraZeneca, RBD-Dimer, Sputnik V",
          "Oxford/AstraZeneca",
          "Sinopharm/Beijing, Sputnik V",
          "Oxford/AstraZeneca, Sinopharm/Beijing",
          "Moderna, Oxford/AstraZeneca, Pfizer/BioNTech",
          "Oxford/AstraZeneca",
          "Oxford/AstraZeneca",
          "Oxford/AstraZeneca, Sinopharm/Beijing",
          "Sinopharm/Beijing",
          "",
          "",
          "",
          "",
          "",
          "",
          "",
          "",
          "",
          "",
          "",
          "",
          "",
          "",
          "",
          "",
          "",
          "",
          "",
          "",
          "",
          "",
          "",
          "",
          "",
          "",
          "",
          "",
          "",
          "",
          "",
          "",
          "",
          "",
          "",
          "",
          "",
          "",
          "",
          "",
          "",
          "",
          "",
          "",
          "",
          "",
          "",
          "",
          "",
          "",
          "",
          "",
          ""
         ],
         "type": "treemap",
         "values": [
          1024168,
          1052108,
          2500000,
          68329,
          1558201,
          16951,
          65757,
          26134815,
          260813,
          133727,
          9631807,
          8866474,
          4242727,
          97992,
          2224916,
          10108224,
          169884,
          1073282,
          12700513,
          152857,
          52563,
          81845,
          487060,
          3117521,
          7391,
          470218,
          284676,
          120873006,
          22837,
          121241,
          1896574,
          33960,
          9453858,
          163921,
          44293659,
          124958,
          95270,
          78685,
          24459,
          24248545,
          1426347000,
          22942717,
          90880,
          163742,
          18942,
          2606791,
          874736,
          2870866,
          7900105,
          171241,
          916819,
          9346397,
          73764,
          3196674,
          26796,
          40004,
          9132857,
          6890876,
          4851349,
          3422214,
          68474146,
          279112,
          1049416,
          60069,
          2090997,
          58843,
          4407,
          419998,
          5009576,
          63174862,
          141523,
          72351,
          43557,
          289399,
          84989850,
          1265306,
          78281,
          9560592,
          50826,
          35072,
          1146477,
          88656,
          780522,
          25012,
          363442,
          1172830,
          4639053,
          10155466,
          466434,
          391340491,
          55819781,
          6530124,
          1087866,
          4995719,
          117677,
          10959646,
          59985343,
          290382,
          66714528,
          130793,
          4524542,
          7303180,
          1607982,
          243428,
          2375455,
          173700,
          1708981,
          1264433,
          1696233,
          56322,
          95423,
          425119,
          38254,
          2459605,
          640604,
          434726,
          197001,
          428407,
          13215121,
          575737,
          196862,
          718418,
          182642,
          901530,
          52704960,
          848306,
          39790,
          3912996,
          304655,
          2695,
          20794848,
          508184,
          3500000,
          166616,
          10556,
          3730344,
          18273238,
          115218,
          1404343,
          167500,
          423335,
          3938945,
          1216,
          713114,
          129743,
          2153395,
          4856669,
          1728618,
          21660650,
          958519,
          1810019,
          51170,
          826642,
          9954429,
          14074514,
          47,
          32413199,
          10579259,
          3474944,
          9185754,
          50383638,
          646909,
          7892,
          42432,
          54361,
          25509,
          62161,
          45050,
          37716,
          21556314,
          6903704,
          823610,
          5409274,
          139625,
          225380,
          6440735,
          41593,
          4030302,
          1626072,
          25628,
          249790,
          5046267,
          21157612,
          55915,
          50239048,
          6431100,
          677957,
          222377,
          9536164,
          8387504,
          131221,
          4603639,
          397694,
          13533717,
          281283,
          347246,
          28667,
          375924,
          2269301,
          62378829,
          41993,
          45342,
          4772,
          1087152,
          3899890,
          16194526,
          81702466,
          336054953,
          4458461,
          3541442,
          14026,
          4000000,
          4185623,
          4171221,
          9112,
          297405,
          243818,
          1666862,
          7900105,
          24248545,
          52704960,
          21660650,
          1426347000,
          78685,
          992410,
          826642,
          6530124,
          391340491,
          41993,
          50383638,
          404239559,
          10155466,
          425119,
          1172830,
          339251627,
          1024168,
          120873006,
          5046267,
          50826,
          5750116,
          221157890,
          14074514,
          958519,
          163742,
          94669020,
          6440735,
          14418744,
          47742306,
          20638390,
          16194526,
          9810814,
          713114,
          23126309,
          54959022,
          5520245,
          3541442,
          35521787,
          9703648,
          4878145,
          32697136,
          70085038,
          4503540,
          5904230,
          4192156,
          434726,
          67017882,
          45050,
          7303180,
          2042784,
          6955963,
          780522
         ]
        }
       ],
       "layout": {
        "legend": {
         "tracegroupgap": 0
        },
        "template": {
         "data": {
          "bar": [
           {
            "error_x": {
             "color": "#2a3f5f"
            },
            "error_y": {
             "color": "#2a3f5f"
            },
            "marker": {
             "line": {
              "color": "#E5ECF6",
              "width": 0.5
             },
             "pattern": {
              "fillmode": "overlay",
              "size": 10,
              "solidity": 0.2
             }
            },
            "type": "bar"
           }
          ],
          "barpolar": [
           {
            "marker": {
             "line": {
              "color": "#E5ECF6",
              "width": 0.5
             },
             "pattern": {
              "fillmode": "overlay",
              "size": 10,
              "solidity": 0.2
             }
            },
            "type": "barpolar"
           }
          ],
          "carpet": [
           {
            "aaxis": {
             "endlinecolor": "#2a3f5f",
             "gridcolor": "white",
             "linecolor": "white",
             "minorgridcolor": "white",
             "startlinecolor": "#2a3f5f"
            },
            "baxis": {
             "endlinecolor": "#2a3f5f",
             "gridcolor": "white",
             "linecolor": "white",
             "minorgridcolor": "white",
             "startlinecolor": "#2a3f5f"
            },
            "type": "carpet"
           }
          ],
          "choropleth": [
           {
            "colorbar": {
             "outlinewidth": 0,
             "ticks": ""
            },
            "type": "choropleth"
           }
          ],
          "contour": [
           {
            "colorbar": {
             "outlinewidth": 0,
             "ticks": ""
            },
            "colorscale": [
             [
              0,
              "#0d0887"
             ],
             [
              0.1111111111111111,
              "#46039f"
             ],
             [
              0.2222222222222222,
              "#7201a8"
             ],
             [
              0.3333333333333333,
              "#9c179e"
             ],
             [
              0.4444444444444444,
              "#bd3786"
             ],
             [
              0.5555555555555556,
              "#d8576b"
             ],
             [
              0.6666666666666666,
              "#ed7953"
             ],
             [
              0.7777777777777778,
              "#fb9f3a"
             ],
             [
              0.8888888888888888,
              "#fdca26"
             ],
             [
              1,
              "#f0f921"
             ]
            ],
            "type": "contour"
           }
          ],
          "contourcarpet": [
           {
            "colorbar": {
             "outlinewidth": 0,
             "ticks": ""
            },
            "type": "contourcarpet"
           }
          ],
          "heatmap": [
           {
            "colorbar": {
             "outlinewidth": 0,
             "ticks": ""
            },
            "colorscale": [
             [
              0,
              "#0d0887"
             ],
             [
              0.1111111111111111,
              "#46039f"
             ],
             [
              0.2222222222222222,
              "#7201a8"
             ],
             [
              0.3333333333333333,
              "#9c179e"
             ],
             [
              0.4444444444444444,
              "#bd3786"
             ],
             [
              0.5555555555555556,
              "#d8576b"
             ],
             [
              0.6666666666666666,
              "#ed7953"
             ],
             [
              0.7777777777777778,
              "#fb9f3a"
             ],
             [
              0.8888888888888888,
              "#fdca26"
             ],
             [
              1,
              "#f0f921"
             ]
            ],
            "type": "heatmap"
           }
          ],
          "heatmapgl": [
           {
            "colorbar": {
             "outlinewidth": 0,
             "ticks": ""
            },
            "colorscale": [
             [
              0,
              "#0d0887"
             ],
             [
              0.1111111111111111,
              "#46039f"
             ],
             [
              0.2222222222222222,
              "#7201a8"
             ],
             [
              0.3333333333333333,
              "#9c179e"
             ],
             [
              0.4444444444444444,
              "#bd3786"
             ],
             [
              0.5555555555555556,
              "#d8576b"
             ],
             [
              0.6666666666666666,
              "#ed7953"
             ],
             [
              0.7777777777777778,
              "#fb9f3a"
             ],
             [
              0.8888888888888888,
              "#fdca26"
             ],
             [
              1,
              "#f0f921"
             ]
            ],
            "type": "heatmapgl"
           }
          ],
          "histogram": [
           {
            "marker": {
             "pattern": {
              "fillmode": "overlay",
              "size": 10,
              "solidity": 0.2
             }
            },
            "type": "histogram"
           }
          ],
          "histogram2d": [
           {
            "colorbar": {
             "outlinewidth": 0,
             "ticks": ""
            },
            "colorscale": [
             [
              0,
              "#0d0887"
             ],
             [
              0.1111111111111111,
              "#46039f"
             ],
             [
              0.2222222222222222,
              "#7201a8"
             ],
             [
              0.3333333333333333,
              "#9c179e"
             ],
             [
              0.4444444444444444,
              "#bd3786"
             ],
             [
              0.5555555555555556,
              "#d8576b"
             ],
             [
              0.6666666666666666,
              "#ed7953"
             ],
             [
              0.7777777777777778,
              "#fb9f3a"
             ],
             [
              0.8888888888888888,
              "#fdca26"
             ],
             [
              1,
              "#f0f921"
             ]
            ],
            "type": "histogram2d"
           }
          ],
          "histogram2dcontour": [
           {
            "colorbar": {
             "outlinewidth": 0,
             "ticks": ""
            },
            "colorscale": [
             [
              0,
              "#0d0887"
             ],
             [
              0.1111111111111111,
              "#46039f"
             ],
             [
              0.2222222222222222,
              "#7201a8"
             ],
             [
              0.3333333333333333,
              "#9c179e"
             ],
             [
              0.4444444444444444,
              "#bd3786"
             ],
             [
              0.5555555555555556,
              "#d8576b"
             ],
             [
              0.6666666666666666,
              "#ed7953"
             ],
             [
              0.7777777777777778,
              "#fb9f3a"
             ],
             [
              0.8888888888888888,
              "#fdca26"
             ],
             [
              1,
              "#f0f921"
             ]
            ],
            "type": "histogram2dcontour"
           }
          ],
          "mesh3d": [
           {
            "colorbar": {
             "outlinewidth": 0,
             "ticks": ""
            },
            "type": "mesh3d"
           }
          ],
          "parcoords": [
           {
            "line": {
             "colorbar": {
              "outlinewidth": 0,
              "ticks": ""
             }
            },
            "type": "parcoords"
           }
          ],
          "pie": [
           {
            "automargin": true,
            "type": "pie"
           }
          ],
          "scatter": [
           {
            "fillpattern": {
             "fillmode": "overlay",
             "size": 10,
             "solidity": 0.2
            },
            "type": "scatter"
           }
          ],
          "scatter3d": [
           {
            "line": {
             "colorbar": {
              "outlinewidth": 0,
              "ticks": ""
             }
            },
            "marker": {
             "colorbar": {
              "outlinewidth": 0,
              "ticks": ""
             }
            },
            "type": "scatter3d"
           }
          ],
          "scattercarpet": [
           {
            "marker": {
             "colorbar": {
              "outlinewidth": 0,
              "ticks": ""
             }
            },
            "type": "scattercarpet"
           }
          ],
          "scattergeo": [
           {
            "marker": {
             "colorbar": {
              "outlinewidth": 0,
              "ticks": ""
             }
            },
            "type": "scattergeo"
           }
          ],
          "scattergl": [
           {
            "marker": {
             "colorbar": {
              "outlinewidth": 0,
              "ticks": ""
             }
            },
            "type": "scattergl"
           }
          ],
          "scattermapbox": [
           {
            "marker": {
             "colorbar": {
              "outlinewidth": 0,
              "ticks": ""
             }
            },
            "type": "scattermapbox"
           }
          ],
          "scatterpolar": [
           {
            "marker": {
             "colorbar": {
              "outlinewidth": 0,
              "ticks": ""
             }
            },
            "type": "scatterpolar"
           }
          ],
          "scatterpolargl": [
           {
            "marker": {
             "colorbar": {
              "outlinewidth": 0,
              "ticks": ""
             }
            },
            "type": "scatterpolargl"
           }
          ],
          "scatterternary": [
           {
            "marker": {
             "colorbar": {
              "outlinewidth": 0,
              "ticks": ""
             }
            },
            "type": "scatterternary"
           }
          ],
          "surface": [
           {
            "colorbar": {
             "outlinewidth": 0,
             "ticks": ""
            },
            "colorscale": [
             [
              0,
              "#0d0887"
             ],
             [
              0.1111111111111111,
              "#46039f"
             ],
             [
              0.2222222222222222,
              "#7201a8"
             ],
             [
              0.3333333333333333,
              "#9c179e"
             ],
             [
              0.4444444444444444,
              "#bd3786"
             ],
             [
              0.5555555555555556,
              "#d8576b"
             ],
             [
              0.6666666666666666,
              "#ed7953"
             ],
             [
              0.7777777777777778,
              "#fb9f3a"
             ],
             [
              0.8888888888888888,
              "#fdca26"
             ],
             [
              1,
              "#f0f921"
             ]
            ],
            "type": "surface"
           }
          ],
          "table": [
           {
            "cells": {
             "fill": {
              "color": "#EBF0F8"
             },
             "line": {
              "color": "white"
             }
            },
            "header": {
             "fill": {
              "color": "#C8D4E3"
             },
             "line": {
              "color": "white"
             }
            },
            "type": "table"
           }
          ]
         },
         "layout": {
          "annotationdefaults": {
           "arrowcolor": "#2a3f5f",
           "arrowhead": 0,
           "arrowwidth": 1
          },
          "autotypenumbers": "strict",
          "coloraxis": {
           "colorbar": {
            "outlinewidth": 0,
            "ticks": ""
           }
          },
          "colorscale": {
           "diverging": [
            [
             0,
             "#8e0152"
            ],
            [
             0.1,
             "#c51b7d"
            ],
            [
             0.2,
             "#de77ae"
            ],
            [
             0.3,
             "#f1b6da"
            ],
            [
             0.4,
             "#fde0ef"
            ],
            [
             0.5,
             "#f7f7f7"
            ],
            [
             0.6,
             "#e6f5d0"
            ],
            [
             0.7,
             "#b8e186"
            ],
            [
             0.8,
             "#7fbc41"
            ],
            [
             0.9,
             "#4d9221"
            ],
            [
             1,
             "#276419"
            ]
           ],
           "sequential": [
            [
             0,
             "#0d0887"
            ],
            [
             0.1111111111111111,
             "#46039f"
            ],
            [
             0.2222222222222222,
             "#7201a8"
            ],
            [
             0.3333333333333333,
             "#9c179e"
            ],
            [
             0.4444444444444444,
             "#bd3786"
            ],
            [
             0.5555555555555556,
             "#d8576b"
            ],
            [
             0.6666666666666666,
             "#ed7953"
            ],
            [
             0.7777777777777778,
             "#fb9f3a"
            ],
            [
             0.8888888888888888,
             "#fdca26"
            ],
            [
             1,
             "#f0f921"
            ]
           ],
           "sequentialminus": [
            [
             0,
             "#0d0887"
            ],
            [
             0.1111111111111111,
             "#46039f"
            ],
            [
             0.2222222222222222,
             "#7201a8"
            ],
            [
             0.3333333333333333,
             "#9c179e"
            ],
            [
             0.4444444444444444,
             "#bd3786"
            ],
            [
             0.5555555555555556,
             "#d8576b"
            ],
            [
             0.6666666666666666,
             "#ed7953"
            ],
            [
             0.7777777777777778,
             "#fb9f3a"
            ],
            [
             0.8888888888888888,
             "#fdca26"
            ],
            [
             1,
             "#f0f921"
            ]
           ]
          },
          "colorway": [
           "#636efa",
           "#EF553B",
           "#00cc96",
           "#ab63fa",
           "#FFA15A",
           "#19d3f3",
           "#FF6692",
           "#B6E880",
           "#FF97FF",
           "#FECB52"
          ],
          "font": {
           "color": "#2a3f5f"
          },
          "geo": {
           "bgcolor": "white",
           "lakecolor": "white",
           "landcolor": "#E5ECF6",
           "showlakes": true,
           "showland": true,
           "subunitcolor": "white"
          },
          "hoverlabel": {
           "align": "left"
          },
          "hovermode": "closest",
          "mapbox": {
           "style": "light"
          },
          "paper_bgcolor": "white",
          "plot_bgcolor": "#E5ECF6",
          "polar": {
           "angularaxis": {
            "gridcolor": "white",
            "linecolor": "white",
            "ticks": ""
           },
           "bgcolor": "#E5ECF6",
           "radialaxis": {
            "gridcolor": "white",
            "linecolor": "white",
            "ticks": ""
           }
          },
          "scene": {
           "xaxis": {
            "backgroundcolor": "#E5ECF6",
            "gridcolor": "white",
            "gridwidth": 2,
            "linecolor": "white",
            "showbackground": true,
            "ticks": "",
            "zerolinecolor": "white"
           },
           "yaxis": {
            "backgroundcolor": "#E5ECF6",
            "gridcolor": "white",
            "gridwidth": 2,
            "linecolor": "white",
            "showbackground": true,
            "ticks": "",
            "zerolinecolor": "white"
           },
           "zaxis": {
            "backgroundcolor": "#E5ECF6",
            "gridcolor": "white",
            "gridwidth": 2,
            "linecolor": "white",
            "showbackground": true,
            "ticks": "",
            "zerolinecolor": "white"
           }
          },
          "shapedefaults": {
           "line": {
            "color": "#2a3f5f"
           }
          },
          "ternary": {
           "aaxis": {
            "gridcolor": "white",
            "linecolor": "white",
            "ticks": ""
           },
           "baxis": {
            "gridcolor": "white",
            "linecolor": "white",
            "ticks": ""
           },
           "bgcolor": "#E5ECF6",
           "caxis": {
            "gridcolor": "white",
            "linecolor": "white",
            "ticks": ""
           }
          },
          "title": {
           "x": 0.05
          },
          "xaxis": {
           "automargin": true,
           "gridcolor": "white",
           "linecolor": "white",
           "ticks": "",
           "title": {
            "standoff": 15
           },
           "zerolinecolor": "white",
           "zerolinewidth": 2
          },
          "yaxis": {
           "automargin": true,
           "gridcolor": "white",
           "linecolor": "white",
           "ticks": "",
           "title": {
            "standoff": 15
           },
           "zerolinecolor": "white",
           "zerolinewidth": 2
          }
         }
        },
        "title": {
         "text": "Total vaccinations per country, grouped by vaccine scheme"
        }
       }
      },
      "text/html": [
       "<div>                            <div id=\"917667cf-ebf9-4308-8110-cf1b41f68a46\" class=\"plotly-graph-div\" style=\"height:525px; width:100%;\"></div>            <script type=\"text/javascript\">                require([\"plotly\"], function(Plotly) {                    window.PLOTLYENV=window.PLOTLYENV || {};                                    if (document.getElementById(\"917667cf-ebf9-4308-8110-cf1b41f68a46\")) {                    Plotly.newPlot(                        \"917667cf-ebf9-4308-8110-cf1b41f68a46\",                        [{\"branchvalues\":\"total\",\"domain\":{\"x\":[0.0,1.0],\"y\":[0.0,1.0]},\"hovertemplate\":\"labels=%{label}<br>Total vaccinations=%{value}<br>parent=%{parent}<br>id=%{id}<extra></extra>\",\"ids\":[\"Johnson&Johnson, Oxford/AstraZeneca, Pfizer/BioNTech, Sinopharm/Beijing/Afghanistan\",\"Oxford/AstraZeneca, Pfizer/BioNTech, Sinovac, Sputnik V/Albania\",\"Oxford/AstraZeneca, Sputnik V/Algeria\",\"Oxford/AstraZeneca, Pfizer/BioNTech/Andorra\",\"Oxford/AstraZeneca/Angola\",\"Oxford/AstraZeneca/Anguilla\",\"Oxford/AstraZeneca/Antigua and Barbuda\",\"Oxford/AstraZeneca, Sinopharm/Beijing, Sputnik V/Argentina\",\"Oxford/AstraZeneca, Sinovac, Sputnik V/Armenia\",\"Pfizer/BioNTech/Aruba\",\"Oxford/AstraZeneca, Pfizer/BioNTech/Australia\",\"Johnson&Johnson, Moderna, Oxford/AstraZeneca, Pfizer/BioNTech/Austria\",\"Oxford/AstraZeneca, Sinovac, Sputnik V/Azerbaijan\",\"Oxford/AstraZeneca/Bahamas\",\"Oxford/AstraZeneca, Pfizer/BioNTech, Sinopharm/Beijing, Sputnik V/Bahrain\",\"Oxford/AstraZeneca, Pfizer/BioNTech, Sinopharm/Beijing/Bangladesh\",\"Oxford/AstraZeneca/Barbados\",\"Sinopharm/Beijing, Sputnik V/Belarus\",\"Johnson&Johnson, Moderna, Oxford/AstraZeneca, Pfizer/BioNTech/Belgium\",\"Oxford/AstraZeneca, Sinopharm/Beijing/Belize\",\"Oxford/AstraZeneca, Sinovac/Benin\",\"Oxford/AstraZeneca, Pfizer/BioNTech/Bermuda\",\"Oxford/AstraZeneca, Pfizer/BioNTech/Bhutan\",\"Oxford/AstraZeneca, Pfizer/BioNTech, Sinopharm/Beijing, Sputnik V/Bolivia\",\"Moderna, Pfizer/BioNTech/Bonaire Sint Eustatius and Saba\",\"Oxford/AstraZeneca, Pfizer/BioNTech, Sinovac, Sputnik V/Bosnia and Herzegovina\",\"Oxford/AstraZeneca/Botswana\",\"Johnson&Johnson, Oxford/AstraZeneca, Pfizer/BioNTech, Sinovac/Brazil\",\"Oxford/AstraZeneca/British Virgin Islands\",\"Oxford/AstraZeneca, Sinopharm/Beijing/Brunei\",\"Johnson&Johnson, Moderna, Oxford/AstraZeneca, Pfizer/BioNTech/Bulgaria\",\"Oxford/AstraZeneca/Burkina Faso\",\"Oxford/AstraZeneca, Sinopharm/Beijing, Sinovac/Cambodia\",\"Oxford/AstraZeneca, Sinopharm/Beijing/Cameroon\",\"Moderna, Oxford/AstraZeneca, Pfizer/BioNTech/Canada\",\"Oxford/AstraZeneca, Pfizer/BioNTech/Cape Verde\",\"Oxford/AstraZeneca, Pfizer/BioNTech/Cayman Islands\",\"Covaxin, Oxford/AstraZeneca/Central African Republic\",\"Sinopharm/Beijing/Chad\",\"CanSino, Oxford/AstraZeneca, Pfizer/BioNTech, Sinovac/Chile\",\"CanSino, Sinopharm/Beijing, Sinopharm/Wuhan, Sinovac/China\",\"Oxford/AstraZeneca, Pfizer/BioNTech, Sinovac/Colombia\",\"Covaxin, Oxford/AstraZeneca, Sinopharm/Beijing/Comoros\",\"Moderna, Oxford/AstraZeneca, Sinopharm/Beijing, Sputnik V/Congo\",\"Oxford/AstraZeneca/Cook Islands\",\"Oxford/AstraZeneca, Pfizer/BioNTech/Costa Rica\",\"Oxford/AstraZeneca/Cote d'Ivoire\",\"Moderna, Oxford/AstraZeneca, Pfizer/BioNTech/Croatia\",\"Abdala, Soberana02/Cuba\",\"Moderna, Pfizer/BioNTech/Curacao\",\"Johnson&Johnson, Moderna, Oxford/AstraZeneca, Pfizer/BioNTech/Cyprus\",\"Johnson&Johnson, Moderna, Oxford/AstraZeneca, Pfizer/BioNTech/Czechia\",\"Oxford/AstraZeneca/Democratic Republic of Congo\",\"Johnson&Johnson, Moderna, Pfizer/BioNTech/Denmark\",\"Oxford/AstraZeneca, Sinopharm/Beijing, Sinovac, Sputnik V/Djibouti\",\"Oxford/AstraZeneca, Sinopharm/Beijing/Dominica\",\"Oxford/AstraZeneca, Pfizer/BioNTech, Sinopharm/Beijing, Sinovac/Dominican Republic\",\"Oxford/AstraZeneca, Pfizer/BioNTech, Sinovac/Ecuador\",\"Oxford/AstraZeneca, Sinopharm/Beijing, Sinovac, Sputnik V/Egypt\",\"Oxford/AstraZeneca, Pfizer/BioNTech, Sinovac/El Salvador\",\"Moderna, Oxford/AstraZeneca, Pfizer/BioNTech/England\",\"Sinopharm/Beijing/Equatorial Guinea\",\"Johnson&Johnson, Moderna, Oxford/AstraZeneca, Pfizer/BioNTech/Estonia\",\"Oxford/AstraZeneca/Eswatini\",\"Oxford/AstraZeneca/Ethiopia\",\"Moderna, Pfizer/BioNTech/Faeroe Islands\",\"Oxford/AstraZeneca/Falkland Islands\",\"Oxford/AstraZeneca/Fiji\",\"Moderna, Oxford/AstraZeneca, Pfizer/BioNTech/Finland\",\"Johnson&Johnson, Moderna, Oxford/AstraZeneca, Pfizer/BioNTech/France\",\"Oxford/AstraZeneca/French Polynesia\",\"Sinopharm/Beijing/Gabon\",\"Oxford/AstraZeneca, Sinopharm/Beijing/Gambia\",\"Oxford/AstraZeneca/Georgia\",\"Johnson&Johnson, Moderna, Oxford/AstraZeneca, Pfizer/BioNTech/Germany\",\"Oxford/AstraZeneca, Sputnik V/Ghana\",\"Pfizer/BioNTech/Gibraltar\",\"Johnson&Johnson, Moderna, Oxford/AstraZeneca, Pfizer/BioNTech/Greece\",\"Moderna/Greenland\",\"Oxford/AstraZeneca/Grenada\",\"Moderna, Oxford/AstraZeneca/Guatemala\",\"Moderna, Oxford/AstraZeneca, Pfizer/BioNTech/Guernsey\",\"Sputnik V/Guinea\",\"Oxford/AstraZeneca, Sinopharm/Beijing/Guinea-Bissau\",\"Oxford/AstraZeneca, Sputnik V/Guyana\",\"Johnson&Johnson, Moderna, Oxford/AstraZeneca, Pfizer/BioNTech, Sputnik V/Honduras\",\"Pfizer/BioNTech, Sinovac/Hong Kong\",\"Johnson&Johnson, Moderna, Oxford/AstraZeneca, Pfizer/BioNTech, Sinopharm/Beijing, Sputnik V/Hungary\",\"Johnson&Johnson, Moderna, Oxford/AstraZeneca, Pfizer/BioNTech/Iceland\",\"Covaxin, Oxford/AstraZeneca, Sputnik V/India\",\"Oxford/AstraZeneca, Sinovac/Indonesia\",\"Covaxin, Oxford/AstraZeneca, Sinopharm/Beijing, Sputnik V/Iran\",\"Oxford/AstraZeneca, Pfizer/BioNTech, Sinopharm/Beijing, Sputnik V/Iraq\",\"Johnson&Johnson, Moderna, Oxford/AstraZeneca, Pfizer/BioNTech/Ireland\",\"Oxford/AstraZeneca, Pfizer/BioNTech/Isle of Man\",\"Moderna, Pfizer/BioNTech/Israel\",\"Johnson&Johnson, Moderna, Oxford/AstraZeneca, Pfizer/BioNTech/Italy\",\"Oxford/AstraZeneca/Jamaica\",\"Moderna, Pfizer/BioNTech/Japan\",\"Moderna, Oxford/AstraZeneca, Pfizer/BioNTech/Jersey\",\"Oxford/AstraZeneca, Pfizer/BioNTech, Sinopharm/Beijing, Sputnik V/Jordan\",\"QazVac, Sinopharm/HayatVax, Sputnik V/Kazakhstan\",\"Oxford/AstraZeneca, Sputnik V/Kenya\",\"Oxford/AstraZeneca/Kosovo\",\"Pfizer/BioNTech/Kuwait\",\"Sinopharm/Beijing, Sputnik V/Kyrgyzstan\",\"Sinopharm/Beijing, Sputnik V/Laos\",\"Johnson&Johnson, Moderna, Oxford/AstraZeneca, Pfizer/BioNTech/Latvia\",\"Oxford/AstraZeneca, Pfizer/BioNTech, Sinopharm/Beijing, Sputnik V/Lebanon\",\"Oxford/AstraZeneca/Lesotho\",\"Oxford/AstraZeneca/Liberia\",\"Johnson&Johnson, Moderna, Oxford/AstraZeneca, Pfizer/BioNTech, Sinovac, Sputnik V/Libya\",\"Moderna, Pfizer/BioNTech/Liechtenstein\",\"Johnson&Johnson, Moderna, Oxford/AstraZeneca, Pfizer/BioNTech/Lithuania\",\"Moderna, Oxford/AstraZeneca, Pfizer/BioNTech/Luxembourg\",\"Pfizer/BioNTech, Sinopharm/Beijing/Macao\",\"Oxford/AstraZeneca/Madagascar\",\"Oxford/AstraZeneca/Malawi\",\"Oxford/AstraZeneca, Pfizer/BioNTech, Sinovac/Malaysia\",\"Oxford/AstraZeneca, Pfizer/BioNTech, Sinopharm/Beijing/Maldives\",\"Oxford/AstraZeneca/Mali\",\"Johnson&Johnson, Moderna, Oxford/AstraZeneca, Pfizer/BioNTech/Malta\",\"Oxford/AstraZeneca, Sinopharm/Beijing/Mauritania\",\"Covaxin, Oxford/AstraZeneca, Sinopharm/Beijing/Mauritius\",\"CanSino, Oxford/AstraZeneca, Pfizer/BioNTech, Sinovac, Sputnik V/Mexico\",\"Oxford/AstraZeneca, Pfizer/BioNTech, Sinopharm/Beijing, Sputnik V/Moldova\",\"Pfizer/BioNTech/Monaco\",\"Oxford/AstraZeneca, Pfizer/BioNTech, Sinopharm/Beijing, Sputnik V/Mongolia\",\"Oxford/AstraZeneca, Pfizer/BioNTech, Sinopharm/Beijing, Sputnik V/Montenegro\",\"Oxford/AstraZeneca/Montserrat\",\"Oxford/AstraZeneca, Sinopharm/Beijing/Morocco\",\"Oxford/AstraZeneca, Sinopharm/Beijing/Mozambique\",\"Oxford/AstraZeneca, Sinopharm/Beijing/Myanmar\",\"Oxford/AstraZeneca, Sinopharm/Beijing/Namibia\",\"Oxford/AstraZeneca/Nauru\",\"Oxford/AstraZeneca, Sinopharm/Beijing/Nepal\",\"Johnson&Johnson, Moderna, Oxford/AstraZeneca, Pfizer/BioNTech/Netherlands\",\"Pfizer/BioNTech/New Caledonia\",\"Pfizer/BioNTech/New Zealand\",\"Oxford/AstraZeneca, Sputnik V/Nicaragua\",\"Oxford/AstraZeneca, Sinopharm/Beijing/Niger\",\"Oxford/AstraZeneca/Nigeria\",\"Oxford/AstraZeneca/Niue\",\"Oxford/AstraZeneca, Pfizer/BioNTech, Sinopharm/Beijing, Sinovac, Sputnik V/North Macedonia\",\"Oxford/AstraZeneca, Pfizer/BioNTech, Sinovac/Northern Cyprus\",\"Moderna, Oxford/AstraZeneca, Pfizer/BioNTech/Northern Ireland\",\"Moderna, Pfizer/BioNTech/Norway\",\"Oxford/AstraZeneca, Pfizer/BioNTech, Sinovac, Sputnik V/Oman\",\"CanSino, Oxford/AstraZeneca, Sinopharm/Beijing, Sinovac, Sputnik V/Pakistan\",\"Moderna, Oxford/AstraZeneca, Pfizer/BioNTech, Sputnik V/Palestine\",\"Oxford/AstraZeneca, Pfizer/BioNTech/Panama\",\"Oxford/AstraZeneca, Sinopharm/Beijing/Papua New Guinea\",\"Covaxin, Oxford/AstraZeneca, Sinopharm/Beijing, Sinovac, Sputnik V/Paraguay\",\"Oxford/AstraZeneca, Pfizer/BioNTech, Sinopharm/Beijing/Peru\",\"Moderna, Oxford/AstraZeneca, Pfizer/BioNTech, Sinovac, Sputnik V/Philippines\",\"Oxford/AstraZeneca/Pitcairn\",\"Johnson&Johnson, Moderna, Oxford/AstraZeneca, Pfizer/BioNTech/Poland\",\"Johnson&Johnson, Moderna, Oxford/AstraZeneca, Pfizer/BioNTech/Portugal\",\"Moderna, Pfizer/BioNTech/Qatar\",\"Johnson&Johnson, Moderna, Oxford/AstraZeneca, Pfizer/BioNTech/Romania\",\"EpiVacCorona, Sputnik V/Russia\",\"Moderna, Oxford/AstraZeneca, Pfizer/BioNTech/Rwanda\",\"Oxford/AstraZeneca/Saint Helena\",\"Oxford/AstraZeneca/Saint Kitts and Nevis\",\"Oxford/AstraZeneca/Saint Lucia\",\"Oxford/AstraZeneca/Saint Vincent and the Grenadines\",\"Oxford/AstraZeneca/Samoa\",\"Pfizer/BioNTech, Sputnik V/San Marino\",\"Oxford/AstraZeneca/Sao Tome and Principe\",\"Oxford/AstraZeneca, Pfizer/BioNTech/Saudi Arabia\",\"Moderna, Oxford/AstraZeneca, Pfizer/BioNTech/Scotland\",\"Oxford/AstraZeneca, Sinopharm/Beijing/Senegal\",\"Oxford/AstraZeneca, Pfizer/BioNTech, Sinopharm/Beijing, Sputnik V/Serbia\",\"Oxford/AstraZeneca, Sinopharm/Beijing/Seychelles\",\"Oxford/AstraZeneca, Sinopharm/Beijing/Sierra Leone\",\"Moderna, Pfizer/BioNTech, Sinovac/Singapore\",\"Moderna, Oxford/AstraZeneca, Pfizer/BioNTech/Sint Maarten (Dutch part)\",\"Moderna, Oxford/AstraZeneca, Pfizer/BioNTech/Slovakia\",\"Oxford/AstraZeneca, Pfizer/BioNTech/Slovenia\",\"Oxford/AstraZeneca/Solomon Islands\",\"Oxford/AstraZeneca, Sinopharm/Beijing, Sinovac/Somalia\",\"Johnson&Johnson, Pfizer/BioNTech/South Africa\",\"Johnson&Johnson, Moderna, Oxford/AstraZeneca, Pfizer/BioNTech/South Korea\",\"Oxford/AstraZeneca/South Sudan\",\"Johnson&Johnson, Moderna, Oxford/AstraZeneca, Pfizer/BioNTech/Spain\",\"Oxford/AstraZeneca, Sinopharm/Beijing, Sputnik V/Sri Lanka\",\"Oxford/AstraZeneca, Pfizer/BioNTech, Sinopharm/Beijing, Sinovac/Sudan\",\"Oxford/AstraZeneca/Suriname\",\"Oxford/AstraZeneca, Pfizer/BioNTech/Sweden\",\"Moderna, Pfizer/BioNTech/Switzerland\",\"Oxford/AstraZeneca, Sinopharm/Beijing, Sputnik V/Syria\",\"Moderna, Oxford/AstraZeneca/Taiwan\",\"Oxford/AstraZeneca, Sinovac/Tajikistan\",\"Oxford/AstraZeneca, Sinovac/Thailand\",\"Oxford/AstraZeneca, Sinovac/Timor\",\"Oxford/AstraZeneca/Togo\",\"Oxford/AstraZeneca/Tonga\",\"Oxford/AstraZeneca/Trinidad and Tobago\",\"Oxford/AstraZeneca, Pfizer/BioNTech, Sinovac, Sputnik V/Tunisia\",\"Pfizer/BioNTech, Sinovac/Turkey\",\"EpiVacCorona, Oxford/AstraZeneca, Sinopharm/Beijing, Sputnik V/Turkmenistan\",\"Pfizer/BioNTech/Turks and Caicos Islands\",\"Oxford/AstraZeneca/Tuvalu\",\"Oxford/AstraZeneca/Uganda\",\"Oxford/AstraZeneca, Pfizer/BioNTech, Sinovac/Ukraine\",\"Oxford/AstraZeneca, Pfizer/BioNTech, Sinopharm/Beijing, Sinopharm/Wuhan, Sputnik V/United Arab Emirates\",\"Moderna, Oxford/AstraZeneca, Pfizer/BioNTech/United Kingdom\",\"Johnson&Johnson, Moderna, Pfizer/BioNTech/United States\",\"Oxford/AstraZeneca, Pfizer/BioNTech, Sinovac/Uruguay\",\"Oxford/AstraZeneca, RBD-Dimer, Sputnik V/Uzbekistan\",\"Oxford/AstraZeneca/Vanuatu\",\"Sinopharm/Beijing, Sputnik V/Venezuela\",\"Oxford/AstraZeneca, Sinopharm/Beijing/Vietnam\",\"Moderna, Oxford/AstraZeneca, Pfizer/BioNTech/Wales\",\"Oxford/AstraZeneca/Wallis and Futuna\",\"Oxford/AstraZeneca/Yemen\",\"Oxford/AstraZeneca, Sinopharm/Beijing/Zambia\",\"Sinopharm/Beijing/Zimbabwe\",\"Abdala, Soberana02\",\"CanSino, Oxford/AstraZeneca, Pfizer/BioNTech, Sinovac\",\"CanSino, Oxford/AstraZeneca, Pfizer/BioNTech, Sinovac, Sputnik V\",\"CanSino, Oxford/AstraZeneca, Sinopharm/Beijing, Sinovac, Sputnik V\",\"CanSino, Sinopharm/Beijing, Sinopharm/Wuhan, Sinovac\",\"Covaxin, Oxford/AstraZeneca\",\"Covaxin, Oxford/AstraZeneca, Sinopharm/Beijing\",\"Covaxin, Oxford/AstraZeneca, Sinopharm/Beijing, Sinovac, Sputnik V\",\"Covaxin, Oxford/AstraZeneca, Sinopharm/Beijing, Sputnik V\",\"Covaxin, Oxford/AstraZeneca, Sputnik V\",\"EpiVacCorona, Oxford/AstraZeneca, Sinopharm/Beijing, Sputnik V\",\"EpiVacCorona, Sputnik V\",\"Johnson&Johnson, Moderna, Oxford/AstraZeneca, Pfizer/BioNTech\",\"Johnson&Johnson, Moderna, Oxford/AstraZeneca, Pfizer/BioNTech, Sinopharm/Beijing, Sputnik V\",\"Johnson&Johnson, Moderna, Oxford/AstraZeneca, Pfizer/BioNTech, Sinovac, Sputnik V\",\"Johnson&Johnson, Moderna, Oxford/AstraZeneca, Pfizer/BioNTech, Sputnik V\",\"Johnson&Johnson, Moderna, Pfizer/BioNTech\",\"Johnson&Johnson, Oxford/AstraZeneca, Pfizer/BioNTech, Sinopharm/Beijing\",\"Johnson&Johnson, Oxford/AstraZeneca, Pfizer/BioNTech, Sinovac\",\"Johnson&Johnson, Pfizer/BioNTech\",\"Moderna\",\"Moderna, Oxford/AstraZeneca\",\"Moderna, Oxford/AstraZeneca, Pfizer/BioNTech\",\"Moderna, Oxford/AstraZeneca, Pfizer/BioNTech, Sinovac, Sputnik V\",\"Moderna, Oxford/AstraZeneca, Pfizer/BioNTech, Sputnik V\",\"Moderna, Oxford/AstraZeneca, Sinopharm/Beijing, Sputnik V\",\"Moderna, Pfizer/BioNTech\",\"Moderna, Pfizer/BioNTech, Sinovac\",\"Oxford/AstraZeneca\",\"Oxford/AstraZeneca, Pfizer/BioNTech\",\"Oxford/AstraZeneca, Pfizer/BioNTech, Sinopharm/Beijing\",\"Oxford/AstraZeneca, Pfizer/BioNTech, Sinopharm/Beijing, Sinopharm/Wuhan, Sputnik V\",\"Oxford/AstraZeneca, Pfizer/BioNTech, Sinopharm/Beijing, Sinovac\",\"Oxford/AstraZeneca, Pfizer/BioNTech, Sinopharm/Beijing, Sinovac, Sputnik V\",\"Oxford/AstraZeneca, Pfizer/BioNTech, Sinopharm/Beijing, Sputnik V\",\"Oxford/AstraZeneca, Pfizer/BioNTech, Sinovac\",\"Oxford/AstraZeneca, Pfizer/BioNTech, Sinovac, Sputnik V\",\"Oxford/AstraZeneca, RBD-Dimer, Sputnik V\",\"Oxford/AstraZeneca, Sinopharm/Beijing\",\"Oxford/AstraZeneca, Sinopharm/Beijing, Sinovac\",\"Oxford/AstraZeneca, Sinopharm/Beijing, Sinovac, Sputnik V\",\"Oxford/AstraZeneca, Sinopharm/Beijing, Sputnik V\",\"Oxford/AstraZeneca, Sinovac\",\"Oxford/AstraZeneca, Sinovac, Sputnik V\",\"Oxford/AstraZeneca, Sputnik V\",\"Pfizer/BioNTech\",\"Pfizer/BioNTech, Sinopharm/Beijing\",\"Pfizer/BioNTech, Sinovac\",\"Pfizer/BioNTech, Sputnik V\",\"QazVac, Sinopharm/HayatVax, Sputnik V\",\"Sinopharm/Beijing\",\"Sinopharm/Beijing, Sputnik V\",\"Sputnik V\"],\"labels\":[\"Afghanistan\",\"Albania\",\"Algeria\",\"Andorra\",\"Angola\",\"Anguilla\",\"Antigua and Barbuda\",\"Argentina\",\"Armenia\",\"Aruba\",\"Australia\",\"Austria\",\"Azerbaijan\",\"Bahamas\",\"Bahrain\",\"Bangladesh\",\"Barbados\",\"Belarus\",\"Belgium\",\"Belize\",\"Benin\",\"Bermuda\",\"Bhutan\",\"Bolivia\",\"Bonaire Sint Eustatius and Saba\",\"Bosnia and Herzegovina\",\"Botswana\",\"Brazil\",\"British Virgin Islands\",\"Brunei\",\"Bulgaria\",\"Burkina Faso\",\"Cambodia\",\"Cameroon\",\"Canada\",\"Cape Verde\",\"Cayman Islands\",\"Central African Republic\",\"Chad\",\"Chile\",\"China\",\"Colombia\",\"Comoros\",\"Congo\",\"Cook Islands\",\"Costa Rica\",\"Cote d'Ivoire\",\"Croatia\",\"Cuba\",\"Curacao\",\"Cyprus\",\"Czechia\",\"Democratic Republic of Congo\",\"Denmark\",\"Djibouti\",\"Dominica\",\"Dominican Republic\",\"Ecuador\",\"Egypt\",\"El Salvador\",\"England\",\"Equatorial Guinea\",\"Estonia\",\"Eswatini\",\"Ethiopia\",\"Faeroe Islands\",\"Falkland Islands\",\"Fiji\",\"Finland\",\"France\",\"French Polynesia\",\"Gabon\",\"Gambia\",\"Georgia\",\"Germany\",\"Ghana\",\"Gibraltar\",\"Greece\",\"Greenland\",\"Grenada\",\"Guatemala\",\"Guernsey\",\"Guinea\",\"Guinea-Bissau\",\"Guyana\",\"Honduras\",\"Hong Kong\",\"Hungary\",\"Iceland\",\"India\",\"Indonesia\",\"Iran\",\"Iraq\",\"Ireland\",\"Isle of Man\",\"Israel\",\"Italy\",\"Jamaica\",\"Japan\",\"Jersey\",\"Jordan\",\"Kazakhstan\",\"Kenya\",\"Kosovo\",\"Kuwait\",\"Kyrgyzstan\",\"Laos\",\"Latvia\",\"Lebanon\",\"Lesotho\",\"Liberia\",\"Libya\",\"Liechtenstein\",\"Lithuania\",\"Luxembourg\",\"Macao\",\"Madagascar\",\"Malawi\",\"Malaysia\",\"Maldives\",\"Mali\",\"Malta\",\"Mauritania\",\"Mauritius\",\"Mexico\",\"Moldova\",\"Monaco\",\"Mongolia\",\"Montenegro\",\"Montserrat\",\"Morocco\",\"Mozambique\",\"Myanmar\",\"Namibia\",\"Nauru\",\"Nepal\",\"Netherlands\",\"New Caledonia\",\"New Zealand\",\"Nicaragua\",\"Niger\",\"Nigeria\",\"Niue\",\"North Macedonia\",\"Northern Cyprus\",\"Northern Ireland\",\"Norway\",\"Oman\",\"Pakistan\",\"Palestine\",\"Panama\",\"Papua New Guinea\",\"Paraguay\",\"Peru\",\"Philippines\",\"Pitcairn\",\"Poland\",\"Portugal\",\"Qatar\",\"Romania\",\"Russia\",\"Rwanda\",\"Saint Helena\",\"Saint Kitts and Nevis\",\"Saint Lucia\",\"Saint Vincent and the Grenadines\",\"Samoa\",\"San Marino\",\"Sao Tome and Principe\",\"Saudi Arabia\",\"Scotland\",\"Senegal\",\"Serbia\",\"Seychelles\",\"Sierra Leone\",\"Singapore\",\"Sint Maarten (Dutch part)\",\"Slovakia\",\"Slovenia\",\"Solomon Islands\",\"Somalia\",\"South Africa\",\"South Korea\",\"South Sudan\",\"Spain\",\"Sri Lanka\",\"Sudan\",\"Suriname\",\"Sweden\",\"Switzerland\",\"Syria\",\"Taiwan\",\"Tajikistan\",\"Thailand\",\"Timor\",\"Togo\",\"Tonga\",\"Trinidad and Tobago\",\"Tunisia\",\"Turkey\",\"Turkmenistan\",\"Turks and Caicos Islands\",\"Tuvalu\",\"Uganda\",\"Ukraine\",\"United Arab Emirates\",\"United Kingdom\",\"United States\",\"Uruguay\",\"Uzbekistan\",\"Vanuatu\",\"Venezuela\",\"Vietnam\",\"Wales\",\"Wallis and Futuna\",\"Yemen\",\"Zambia\",\"Zimbabwe\",\"Abdala, Soberana02\",\"CanSino, Oxford/AstraZeneca, Pfizer/BioNTech, Sinovac\",\"CanSino, Oxford/AstraZeneca, Pfizer/BioNTech, Sinovac, Sputnik V\",\"CanSino, Oxford/AstraZeneca, Sinopharm/Beijing, Sinovac, Sputnik V\",\"CanSino, Sinopharm/Beijing, Sinopharm/Wuhan, Sinovac\",\"Covaxin, Oxford/AstraZeneca\",\"Covaxin, Oxford/AstraZeneca, Sinopharm/Beijing\",\"Covaxin, Oxford/AstraZeneca, Sinopharm/Beijing, Sinovac, Sputnik V\",\"Covaxin, Oxford/AstraZeneca, Sinopharm/Beijing, Sputnik V\",\"Covaxin, Oxford/AstraZeneca, Sputnik V\",\"EpiVacCorona, Oxford/AstraZeneca, Sinopharm/Beijing, Sputnik V\",\"EpiVacCorona, Sputnik V\",\"Johnson&Johnson, Moderna, Oxford/AstraZeneca, Pfizer/BioNTech\",\"Johnson&Johnson, Moderna, Oxford/AstraZeneca, Pfizer/BioNTech, Sinopharm/Beijing, Sputnik V\",\"Johnson&Johnson, Moderna, Oxford/AstraZeneca, Pfizer/BioNTech, Sinovac, Sputnik V\",\"Johnson&Johnson, Moderna, Oxford/AstraZeneca, Pfizer/BioNTech, Sputnik V\",\"Johnson&Johnson, Moderna, Pfizer/BioNTech\",\"Johnson&Johnson, Oxford/AstraZeneca, Pfizer/BioNTech, Sinopharm/Beijing\",\"Johnson&Johnson, Oxford/AstraZeneca, Pfizer/BioNTech, Sinovac\",\"Johnson&Johnson, Pfizer/BioNTech\",\"Moderna\",\"Moderna, Oxford/AstraZeneca\",\"Moderna, Oxford/AstraZeneca, Pfizer/BioNTech\",\"Moderna, Oxford/AstraZeneca, Pfizer/BioNTech, Sinovac, Sputnik V\",\"Moderna, Oxford/AstraZeneca, Pfizer/BioNTech, Sputnik V\",\"Moderna, Oxford/AstraZeneca, Sinopharm/Beijing, Sputnik V\",\"Moderna, Pfizer/BioNTech\",\"Moderna, Pfizer/BioNTech, Sinovac\",\"Oxford/AstraZeneca\",\"Oxford/AstraZeneca, Pfizer/BioNTech\",\"Oxford/AstraZeneca, Pfizer/BioNTech, Sinopharm/Beijing\",\"Oxford/AstraZeneca, Pfizer/BioNTech, Sinopharm/Beijing, Sinopharm/Wuhan, Sputnik V\",\"Oxford/AstraZeneca, Pfizer/BioNTech, Sinopharm/Beijing, Sinovac\",\"Oxford/AstraZeneca, Pfizer/BioNTech, Sinopharm/Beijing, Sinovac, Sputnik V\",\"Oxford/AstraZeneca, Pfizer/BioNTech, Sinopharm/Beijing, Sputnik V\",\"Oxford/AstraZeneca, Pfizer/BioNTech, Sinovac\",\"Oxford/AstraZeneca, Pfizer/BioNTech, Sinovac, Sputnik V\",\"Oxford/AstraZeneca, RBD-Dimer, Sputnik V\",\"Oxford/AstraZeneca, Sinopharm/Beijing\",\"Oxford/AstraZeneca, Sinopharm/Beijing, Sinovac\",\"Oxford/AstraZeneca, Sinopharm/Beijing, Sinovac, Sputnik V\",\"Oxford/AstraZeneca, Sinopharm/Beijing, Sputnik V\",\"Oxford/AstraZeneca, Sinovac\",\"Oxford/AstraZeneca, Sinovac, Sputnik V\",\"Oxford/AstraZeneca, Sputnik V\",\"Pfizer/BioNTech\",\"Pfizer/BioNTech, Sinopharm/Beijing\",\"Pfizer/BioNTech, Sinovac\",\"Pfizer/BioNTech, Sputnik V\",\"QazVac, Sinopharm/HayatVax, Sputnik V\",\"Sinopharm/Beijing\",\"Sinopharm/Beijing, Sputnik V\",\"Sputnik V\"],\"name\":\"\",\"parents\":[\"Johnson&Johnson, Oxford/AstraZeneca, Pfizer/BioNTech, Sinopharm/Beijing\",\"Oxford/AstraZeneca, Pfizer/BioNTech, Sinovac, Sputnik V\",\"Oxford/AstraZeneca, Sputnik V\",\"Oxford/AstraZeneca, Pfizer/BioNTech\",\"Oxford/AstraZeneca\",\"Oxford/AstraZeneca\",\"Oxford/AstraZeneca\",\"Oxford/AstraZeneca, Sinopharm/Beijing, Sputnik V\",\"Oxford/AstraZeneca, Sinovac, Sputnik V\",\"Pfizer/BioNTech\",\"Oxford/AstraZeneca, Pfizer/BioNTech\",\"Johnson&Johnson, Moderna, Oxford/AstraZeneca, Pfizer/BioNTech\",\"Oxford/AstraZeneca, Sinovac, Sputnik V\",\"Oxford/AstraZeneca\",\"Oxford/AstraZeneca, Pfizer/BioNTech, Sinopharm/Beijing, Sputnik V\",\"Oxford/AstraZeneca, Pfizer/BioNTech, Sinopharm/Beijing\",\"Oxford/AstraZeneca\",\"Sinopharm/Beijing, Sputnik V\",\"Johnson&Johnson, Moderna, Oxford/AstraZeneca, Pfizer/BioNTech\",\"Oxford/AstraZeneca, Sinopharm/Beijing\",\"Oxford/AstraZeneca, Sinovac\",\"Oxford/AstraZeneca, Pfizer/BioNTech\",\"Oxford/AstraZeneca, Pfizer/BioNTech\",\"Oxford/AstraZeneca, Pfizer/BioNTech, Sinopharm/Beijing, Sputnik V\",\"Moderna, Pfizer/BioNTech\",\"Oxford/AstraZeneca, Pfizer/BioNTech, Sinovac, Sputnik V\",\"Oxford/AstraZeneca\",\"Johnson&Johnson, Oxford/AstraZeneca, Pfizer/BioNTech, Sinovac\",\"Oxford/AstraZeneca\",\"Oxford/AstraZeneca, Sinopharm/Beijing\",\"Johnson&Johnson, Moderna, Oxford/AstraZeneca, Pfizer/BioNTech\",\"Oxford/AstraZeneca\",\"Oxford/AstraZeneca, Sinopharm/Beijing, Sinovac\",\"Oxford/AstraZeneca, Sinopharm/Beijing\",\"Moderna, Oxford/AstraZeneca, Pfizer/BioNTech\",\"Oxford/AstraZeneca, Pfizer/BioNTech\",\"Oxford/AstraZeneca, Pfizer/BioNTech\",\"Covaxin, Oxford/AstraZeneca\",\"Sinopharm/Beijing\",\"CanSino, Oxford/AstraZeneca, Pfizer/BioNTech, Sinovac\",\"CanSino, Sinopharm/Beijing, Sinopharm/Wuhan, Sinovac\",\"Oxford/AstraZeneca, Pfizer/BioNTech, Sinovac\",\"Covaxin, Oxford/AstraZeneca, Sinopharm/Beijing\",\"Moderna, Oxford/AstraZeneca, Sinopharm/Beijing, Sputnik V\",\"Oxford/AstraZeneca\",\"Oxford/AstraZeneca, Pfizer/BioNTech\",\"Oxford/AstraZeneca\",\"Moderna, Oxford/AstraZeneca, Pfizer/BioNTech\",\"Abdala, Soberana02\",\"Moderna, Pfizer/BioNTech\",\"Johnson&Johnson, Moderna, Oxford/AstraZeneca, Pfizer/BioNTech\",\"Johnson&Johnson, Moderna, Oxford/AstraZeneca, Pfizer/BioNTech\",\"Oxford/AstraZeneca\",\"Johnson&Johnson, Moderna, Pfizer/BioNTech\",\"Oxford/AstraZeneca, Sinopharm/Beijing, Sinovac, Sputnik V\",\"Oxford/AstraZeneca, Sinopharm/Beijing\",\"Oxford/AstraZeneca, Pfizer/BioNTech, Sinopharm/Beijing, Sinovac\",\"Oxford/AstraZeneca, Pfizer/BioNTech, Sinovac\",\"Oxford/AstraZeneca, Sinopharm/Beijing, Sinovac, Sputnik V\",\"Oxford/AstraZeneca, Pfizer/BioNTech, Sinovac\",\"Moderna, Oxford/AstraZeneca, Pfizer/BioNTech\",\"Sinopharm/Beijing\",\"Johnson&Johnson, Moderna, Oxford/AstraZeneca, Pfizer/BioNTech\",\"Oxford/AstraZeneca\",\"Oxford/AstraZeneca\",\"Moderna, Pfizer/BioNTech\",\"Oxford/AstraZeneca\",\"Oxford/AstraZeneca\",\"Moderna, Oxford/AstraZeneca, Pfizer/BioNTech\",\"Johnson&Johnson, Moderna, Oxford/AstraZeneca, Pfizer/BioNTech\",\"Oxford/AstraZeneca\",\"Sinopharm/Beijing\",\"Oxford/AstraZeneca, Sinopharm/Beijing\",\"Oxford/AstraZeneca\",\"Johnson&Johnson, Moderna, Oxford/AstraZeneca, Pfizer/BioNTech\",\"Oxford/AstraZeneca, Sputnik V\",\"Pfizer/BioNTech\",\"Johnson&Johnson, Moderna, Oxford/AstraZeneca, Pfizer/BioNTech\",\"Moderna\",\"Oxford/AstraZeneca\",\"Moderna, Oxford/AstraZeneca\",\"Moderna, Oxford/AstraZeneca, Pfizer/BioNTech\",\"Sputnik V\",\"Oxford/AstraZeneca, Sinopharm/Beijing\",\"Oxford/AstraZeneca, Sputnik V\",\"Johnson&Johnson, Moderna, Oxford/AstraZeneca, Pfizer/BioNTech, Sputnik V\",\"Pfizer/BioNTech, Sinovac\",\"Johnson&Johnson, Moderna, Oxford/AstraZeneca, Pfizer/BioNTech, Sinopharm/Beijing, Sputnik V\",\"Johnson&Johnson, Moderna, Oxford/AstraZeneca, Pfizer/BioNTech\",\"Covaxin, Oxford/AstraZeneca, Sputnik V\",\"Oxford/AstraZeneca, Sinovac\",\"Covaxin, Oxford/AstraZeneca, Sinopharm/Beijing, Sputnik V\",\"Oxford/AstraZeneca, Pfizer/BioNTech, Sinopharm/Beijing, Sputnik V\",\"Johnson&Johnson, Moderna, Oxford/AstraZeneca, Pfizer/BioNTech\",\"Oxford/AstraZeneca, Pfizer/BioNTech\",\"Moderna, Pfizer/BioNTech\",\"Johnson&Johnson, Moderna, Oxford/AstraZeneca, Pfizer/BioNTech\",\"Oxford/AstraZeneca\",\"Moderna, Pfizer/BioNTech\",\"Moderna, Oxford/AstraZeneca, Pfizer/BioNTech\",\"Oxford/AstraZeneca, Pfizer/BioNTech, Sinopharm/Beijing, Sputnik V\",\"QazVac, Sinopharm/HayatVax, Sputnik V\",\"Oxford/AstraZeneca, Sputnik V\",\"Oxford/AstraZeneca\",\"Pfizer/BioNTech\",\"Sinopharm/Beijing, Sputnik V\",\"Sinopharm/Beijing, Sputnik V\",\"Johnson&Johnson, Moderna, Oxford/AstraZeneca, Pfizer/BioNTech\",\"Oxford/AstraZeneca, Pfizer/BioNTech, Sinopharm/Beijing, Sputnik V\",\"Oxford/AstraZeneca\",\"Oxford/AstraZeneca\",\"Johnson&Johnson, Moderna, Oxford/AstraZeneca, Pfizer/BioNTech, Sinovac, Sputnik V\",\"Moderna, Pfizer/BioNTech\",\"Johnson&Johnson, Moderna, Oxford/AstraZeneca, Pfizer/BioNTech\",\"Moderna, Oxford/AstraZeneca, Pfizer/BioNTech\",\"Pfizer/BioNTech, Sinopharm/Beijing\",\"Oxford/AstraZeneca\",\"Oxford/AstraZeneca\",\"Oxford/AstraZeneca, Pfizer/BioNTech, Sinovac\",\"Oxford/AstraZeneca, Pfizer/BioNTech, Sinopharm/Beijing\",\"Oxford/AstraZeneca\",\"Johnson&Johnson, Moderna, Oxford/AstraZeneca, Pfizer/BioNTech\",\"Oxford/AstraZeneca, Sinopharm/Beijing\",\"Covaxin, Oxford/AstraZeneca, Sinopharm/Beijing\",\"CanSino, Oxford/AstraZeneca, Pfizer/BioNTech, Sinovac, Sputnik V\",\"Oxford/AstraZeneca, Pfizer/BioNTech, Sinopharm/Beijing, Sputnik V\",\"Pfizer/BioNTech\",\"Oxford/AstraZeneca, Pfizer/BioNTech, Sinopharm/Beijing, Sputnik V\",\"Oxford/AstraZeneca, Pfizer/BioNTech, Sinopharm/Beijing, Sputnik V\",\"Oxford/AstraZeneca\",\"Oxford/AstraZeneca, Sinopharm/Beijing\",\"Oxford/AstraZeneca, Sinopharm/Beijing\",\"Oxford/AstraZeneca, Sinopharm/Beijing\",\"Oxford/AstraZeneca, Sinopharm/Beijing\",\"Oxford/AstraZeneca\",\"Oxford/AstraZeneca, Sinopharm/Beijing\",\"Johnson&Johnson, Moderna, Oxford/AstraZeneca, Pfizer/BioNTech\",\"Pfizer/BioNTech\",\"Pfizer/BioNTech\",\"Oxford/AstraZeneca, Sputnik V\",\"Oxford/AstraZeneca, Sinopharm/Beijing\",\"Oxford/AstraZeneca\",\"Oxford/AstraZeneca\",\"Oxford/AstraZeneca, Pfizer/BioNTech, Sinopharm/Beijing, Sinovac, Sputnik V\",\"Oxford/AstraZeneca, Pfizer/BioNTech, Sinovac\",\"Moderna, Oxford/AstraZeneca, Pfizer/BioNTech\",\"Moderna, Pfizer/BioNTech\",\"Oxford/AstraZeneca, Pfizer/BioNTech, Sinovac, Sputnik V\",\"CanSino, Oxford/AstraZeneca, Sinopharm/Beijing, Sinovac, Sputnik V\",\"Moderna, Oxford/AstraZeneca, Pfizer/BioNTech, Sputnik V\",\"Oxford/AstraZeneca, Pfizer/BioNTech\",\"Oxford/AstraZeneca, Sinopharm/Beijing\",\"Covaxin, Oxford/AstraZeneca, Sinopharm/Beijing, Sinovac, Sputnik V\",\"Oxford/AstraZeneca, Pfizer/BioNTech, Sinopharm/Beijing\",\"Moderna, Oxford/AstraZeneca, Pfizer/BioNTech, Sinovac, Sputnik V\",\"Oxford/AstraZeneca\",\"Johnson&Johnson, Moderna, Oxford/AstraZeneca, Pfizer/BioNTech\",\"Johnson&Johnson, Moderna, Oxford/AstraZeneca, Pfizer/BioNTech\",\"Moderna, Pfizer/BioNTech\",\"Johnson&Johnson, Moderna, Oxford/AstraZeneca, Pfizer/BioNTech\",\"EpiVacCorona, Sputnik V\",\"Moderna, Oxford/AstraZeneca, Pfizer/BioNTech\",\"Oxford/AstraZeneca\",\"Oxford/AstraZeneca\",\"Oxford/AstraZeneca\",\"Oxford/AstraZeneca\",\"Oxford/AstraZeneca\",\"Pfizer/BioNTech, Sputnik V\",\"Oxford/AstraZeneca\",\"Oxford/AstraZeneca, Pfizer/BioNTech\",\"Moderna, Oxford/AstraZeneca, Pfizer/BioNTech\",\"Oxford/AstraZeneca, Sinopharm/Beijing\",\"Oxford/AstraZeneca, Pfizer/BioNTech, Sinopharm/Beijing, Sputnik V\",\"Oxford/AstraZeneca, Sinopharm/Beijing\",\"Oxford/AstraZeneca, Sinopharm/Beijing\",\"Moderna, Pfizer/BioNTech, Sinovac\",\"Moderna, Oxford/AstraZeneca, Pfizer/BioNTech\",\"Moderna, Oxford/AstraZeneca, Pfizer/BioNTech\",\"Oxford/AstraZeneca, Pfizer/BioNTech\",\"Oxford/AstraZeneca\",\"Oxford/AstraZeneca, Sinopharm/Beijing, Sinovac\",\"Johnson&Johnson, Pfizer/BioNTech\",\"Johnson&Johnson, Moderna, Oxford/AstraZeneca, Pfizer/BioNTech\",\"Oxford/AstraZeneca\",\"Johnson&Johnson, Moderna, Oxford/AstraZeneca, Pfizer/BioNTech\",\"Oxford/AstraZeneca, Sinopharm/Beijing, Sputnik V\",\"Oxford/AstraZeneca, Pfizer/BioNTech, Sinopharm/Beijing, Sinovac\",\"Oxford/AstraZeneca\",\"Oxford/AstraZeneca, Pfizer/BioNTech\",\"Moderna, Pfizer/BioNTech\",\"Oxford/AstraZeneca, Sinopharm/Beijing, Sputnik V\",\"Moderna, Oxford/AstraZeneca\",\"Oxford/AstraZeneca, Sinovac\",\"Oxford/AstraZeneca, Sinovac\",\"Oxford/AstraZeneca, Sinovac\",\"Oxford/AstraZeneca\",\"Oxford/AstraZeneca\",\"Oxford/AstraZeneca\",\"Oxford/AstraZeneca, Pfizer/BioNTech, Sinovac, Sputnik V\",\"Pfizer/BioNTech, Sinovac\",\"EpiVacCorona, Oxford/AstraZeneca, Sinopharm/Beijing, Sputnik V\",\"Pfizer/BioNTech\",\"Oxford/AstraZeneca\",\"Oxford/AstraZeneca\",\"Oxford/AstraZeneca, Pfizer/BioNTech, Sinovac\",\"Oxford/AstraZeneca, Pfizer/BioNTech, Sinopharm/Beijing, Sinopharm/Wuhan, Sputnik V\",\"Moderna, Oxford/AstraZeneca, Pfizer/BioNTech\",\"Johnson&Johnson, Moderna, Pfizer/BioNTech\",\"Oxford/AstraZeneca, Pfizer/BioNTech, Sinovac\",\"Oxford/AstraZeneca, RBD-Dimer, Sputnik V\",\"Oxford/AstraZeneca\",\"Sinopharm/Beijing, Sputnik V\",\"Oxford/AstraZeneca, Sinopharm/Beijing\",\"Moderna, Oxford/AstraZeneca, Pfizer/BioNTech\",\"Oxford/AstraZeneca\",\"Oxford/AstraZeneca\",\"Oxford/AstraZeneca, Sinopharm/Beijing\",\"Sinopharm/Beijing\",\"\",\"\",\"\",\"\",\"\",\"\",\"\",\"\",\"\",\"\",\"\",\"\",\"\",\"\",\"\",\"\",\"\",\"\",\"\",\"\",\"\",\"\",\"\",\"\",\"\",\"\",\"\",\"\",\"\",\"\",\"\",\"\",\"\",\"\",\"\",\"\",\"\",\"\",\"\",\"\",\"\",\"\",\"\",\"\",\"\",\"\",\"\",\"\",\"\",\"\",\"\",\"\",\"\"],\"values\":[1024168.0,1052108.0,2500000.0,68329.0,1558201.0,16951.0,65757.0,26134815.0,260813.0,133727.0,9631807.0,8866474.0,4242727.0,97992.0,2224916.0,10108224.0,169884.0,1073282.0,12700513.0,152857.0,52563.0,81845.0,487060.0,3117521.0,7391.0,470218.0,284676.0,120873006.0,22837.0,121241.0,1896574.0,33960.0,9453858.0,163921.0,44293659.0,124958.0,95270.0,78685.0,24459.0,24248545.0,1426347000.0,22942717.0,90880.0,163742.0,18942.0,2606791.0,874736.0,2870866.0,7900105.0,171241.0,916819.0,9346397.0,73764.0,3196674.0,26796.0,40004.0,9132857.0,6890876.0,4851349.0,3422214.0,68474146.0,279112.0,1049416.0,60069.0,2090997.0,58843.0,4407.0,419998.0,5009576.0,63174862.0,141523.0,72351.0,43557.0,289399.0,84989850.0,1265306.0,78281.0,9560592.0,50826.0,35072.0,1146477.0,88656.0,780522.0,25012.0,363442.0,1172830.0,4639053.0,10155466.0,466434.0,391340491.0,55819781.0,6530124.0,1087866.0,4995719.0,117677.0,10959646.0,59985343.0,290382.0,66714528.0,130793.0,4524542.0,7303180.0,1607982.0,243428.0,2375455.0,173700.0,1708981.0,1264433.0,1696233.0,56322.0,95423.0,425119.0,38254.0,2459605.0,640604.0,434726.0,197001.0,428407.0,13215121.0,575737.0,196862.0,718418.0,182642.0,901530.0,52704960.0,848306.0,39790.0,3912996.0,304655.0,2695.0,20794848.0,508184.0,3500000.0,166616.0,10556.0,3730344.0,18273238.0,115218.0,1404343.0,167500.0,423335.0,3938945.0,1216.0,713114.0,129743.0,2153395.0,4856669.0,1728618.0,21660650.0,958519.0,1810019.0,51170.0,826642.0,9954429.0,14074514.0,47.0,32413199.0,10579259.0,3474944.0,9185754.0,50383638.0,646909.0,7892.0,42432.0,54361.0,25509.0,62161.0,45050.0,37716.0,21556314.0,6903704.0,823610.0,5409274.0,139625.0,225380.0,6440735.0,41593.0,4030302.0,1626072.0,25628.0,249790.0,5046267.0,21157612.0,55915.0,50239048.0,6431100.0,677957.0,222377.0,9536164.0,8387504.0,131221.0,4603639.0,397694.0,13533717.0,281283.0,347246.0,28667.0,375924.0,2269301.0,62378829.0,41993.0,45342.0,4772.0,1087152.0,3899890.0,16194526.0,81702466.0,336054953.0,4458461.0,3541442.0,14026.0,4000000.0,4185623.0,4171221.0,9112.0,297405.0,243818.0,1666862.0,7900105.0,24248545.0,52704960.0,21660650.0,1426347000.0,78685.0,992410.0,826642.0,6530124.0,391340491.0,41993.0,50383638.0,404239559.0,10155466.0,425119.0,1172830.0,339251627.0,1024168.0,120873006.0,5046267.0,50826.0,5750116.0,221157890.0,14074514.0,958519.0,163742.0,94669020.0,6440735.0,14418744.0,47742306.0,20638390.0,16194526.0,9810814.0,713114.0,23126309.0,54959022.0,5520245.0,3541442.0,35521787.0,9703648.0,4878145.0,32697136.0,70085038.0,4503540.0,5904230.0,4192156.0,434726.0,67017882.0,45050.0,7303180.0,2042784.0,6955963.0,780522.0],\"type\":\"treemap\"}],                        {\"template\":{\"data\":{\"histogram2dcontour\":[{\"type\":\"histogram2dcontour\",\"colorbar\":{\"outlinewidth\":0,\"ticks\":\"\"},\"colorscale\":[[0.0,\"#0d0887\"],[0.1111111111111111,\"#46039f\"],[0.2222222222222222,\"#7201a8\"],[0.3333333333333333,\"#9c179e\"],[0.4444444444444444,\"#bd3786\"],[0.5555555555555556,\"#d8576b\"],[0.6666666666666666,\"#ed7953\"],[0.7777777777777778,\"#fb9f3a\"],[0.8888888888888888,\"#fdca26\"],[1.0,\"#f0f921\"]]}],\"choropleth\":[{\"type\":\"choropleth\",\"colorbar\":{\"outlinewidth\":0,\"ticks\":\"\"}}],\"histogram2d\":[{\"type\":\"histogram2d\",\"colorbar\":{\"outlinewidth\":0,\"ticks\":\"\"},\"colorscale\":[[0.0,\"#0d0887\"],[0.1111111111111111,\"#46039f\"],[0.2222222222222222,\"#7201a8\"],[0.3333333333333333,\"#9c179e\"],[0.4444444444444444,\"#bd3786\"],[0.5555555555555556,\"#d8576b\"],[0.6666666666666666,\"#ed7953\"],[0.7777777777777778,\"#fb9f3a\"],[0.8888888888888888,\"#fdca26\"],[1.0,\"#f0f921\"]]}],\"heatmap\":[{\"type\":\"heatmap\",\"colorbar\":{\"outlinewidth\":0,\"ticks\":\"\"},\"colorscale\":[[0.0,\"#0d0887\"],[0.1111111111111111,\"#46039f\"],[0.2222222222222222,\"#7201a8\"],[0.3333333333333333,\"#9c179e\"],[0.4444444444444444,\"#bd3786\"],[0.5555555555555556,\"#d8576b\"],[0.6666666666666666,\"#ed7953\"],[0.7777777777777778,\"#fb9f3a\"],[0.8888888888888888,\"#fdca26\"],[1.0,\"#f0f921\"]]}],\"heatmapgl\":[{\"type\":\"heatmapgl\",\"colorbar\":{\"outlinewidth\":0,\"ticks\":\"\"},\"colorscale\":[[0.0,\"#0d0887\"],[0.1111111111111111,\"#46039f\"],[0.2222222222222222,\"#7201a8\"],[0.3333333333333333,\"#9c179e\"],[0.4444444444444444,\"#bd3786\"],[0.5555555555555556,\"#d8576b\"],[0.6666666666666666,\"#ed7953\"],[0.7777777777777778,\"#fb9f3a\"],[0.8888888888888888,\"#fdca26\"],[1.0,\"#f0f921\"]]}],\"contourcarpet\":[{\"type\":\"contourcarpet\",\"colorbar\":{\"outlinewidth\":0,\"ticks\":\"\"}}],\"contour\":[{\"type\":\"contour\",\"colorbar\":{\"outlinewidth\":0,\"ticks\":\"\"},\"colorscale\":[[0.0,\"#0d0887\"],[0.1111111111111111,\"#46039f\"],[0.2222222222222222,\"#7201a8\"],[0.3333333333333333,\"#9c179e\"],[0.4444444444444444,\"#bd3786\"],[0.5555555555555556,\"#d8576b\"],[0.6666666666666666,\"#ed7953\"],[0.7777777777777778,\"#fb9f3a\"],[0.8888888888888888,\"#fdca26\"],[1.0,\"#f0f921\"]]}],\"surface\":[{\"type\":\"surface\",\"colorbar\":{\"outlinewidth\":0,\"ticks\":\"\"},\"colorscale\":[[0.0,\"#0d0887\"],[0.1111111111111111,\"#46039f\"],[0.2222222222222222,\"#7201a8\"],[0.3333333333333333,\"#9c179e\"],[0.4444444444444444,\"#bd3786\"],[0.5555555555555556,\"#d8576b\"],[0.6666666666666666,\"#ed7953\"],[0.7777777777777778,\"#fb9f3a\"],[0.8888888888888888,\"#fdca26\"],[1.0,\"#f0f921\"]]}],\"mesh3d\":[{\"type\":\"mesh3d\",\"colorbar\":{\"outlinewidth\":0,\"ticks\":\"\"}}],\"scatter\":[{\"fillpattern\":{\"fillmode\":\"overlay\",\"size\":10,\"solidity\":0.2},\"type\":\"scatter\"}],\"parcoords\":[{\"type\":\"parcoords\",\"line\":{\"colorbar\":{\"outlinewidth\":0,\"ticks\":\"\"}}}],\"scatterpolargl\":[{\"type\":\"scatterpolargl\",\"marker\":{\"colorbar\":{\"outlinewidth\":0,\"ticks\":\"\"}}}],\"bar\":[{\"error_x\":{\"color\":\"#2a3f5f\"},\"error_y\":{\"color\":\"#2a3f5f\"},\"marker\":{\"line\":{\"color\":\"#E5ECF6\",\"width\":0.5},\"pattern\":{\"fillmode\":\"overlay\",\"size\":10,\"solidity\":0.2}},\"type\":\"bar\"}],\"scattergeo\":[{\"type\":\"scattergeo\",\"marker\":{\"colorbar\":{\"outlinewidth\":0,\"ticks\":\"\"}}}],\"scatterpolar\":[{\"type\":\"scatterpolar\",\"marker\":{\"colorbar\":{\"outlinewidth\":0,\"ticks\":\"\"}}}],\"histogram\":[{\"marker\":{\"pattern\":{\"fillmode\":\"overlay\",\"size\":10,\"solidity\":0.2}},\"type\":\"histogram\"}],\"scattergl\":[{\"type\":\"scattergl\",\"marker\":{\"colorbar\":{\"outlinewidth\":0,\"ticks\":\"\"}}}],\"scatter3d\":[{\"type\":\"scatter3d\",\"line\":{\"colorbar\":{\"outlinewidth\":0,\"ticks\":\"\"}},\"marker\":{\"colorbar\":{\"outlinewidth\":0,\"ticks\":\"\"}}}],\"scattermapbox\":[{\"type\":\"scattermapbox\",\"marker\":{\"colorbar\":{\"outlinewidth\":0,\"ticks\":\"\"}}}],\"scatterternary\":[{\"type\":\"scatterternary\",\"marker\":{\"colorbar\":{\"outlinewidth\":0,\"ticks\":\"\"}}}],\"scattercarpet\":[{\"type\":\"scattercarpet\",\"marker\":{\"colorbar\":{\"outlinewidth\":0,\"ticks\":\"\"}}}],\"carpet\":[{\"aaxis\":{\"endlinecolor\":\"#2a3f5f\",\"gridcolor\":\"white\",\"linecolor\":\"white\",\"minorgridcolor\":\"white\",\"startlinecolor\":\"#2a3f5f\"},\"baxis\":{\"endlinecolor\":\"#2a3f5f\",\"gridcolor\":\"white\",\"linecolor\":\"white\",\"minorgridcolor\":\"white\",\"startlinecolor\":\"#2a3f5f\"},\"type\":\"carpet\"}],\"table\":[{\"cells\":{\"fill\":{\"color\":\"#EBF0F8\"},\"line\":{\"color\":\"white\"}},\"header\":{\"fill\":{\"color\":\"#C8D4E3\"},\"line\":{\"color\":\"white\"}},\"type\":\"table\"}],\"barpolar\":[{\"marker\":{\"line\":{\"color\":\"#E5ECF6\",\"width\":0.5},\"pattern\":{\"fillmode\":\"overlay\",\"size\":10,\"solidity\":0.2}},\"type\":\"barpolar\"}],\"pie\":[{\"automargin\":true,\"type\":\"pie\"}]},\"layout\":{\"autotypenumbers\":\"strict\",\"colorway\":[\"#636efa\",\"#EF553B\",\"#00cc96\",\"#ab63fa\",\"#FFA15A\",\"#19d3f3\",\"#FF6692\",\"#B6E880\",\"#FF97FF\",\"#FECB52\"],\"font\":{\"color\":\"#2a3f5f\"},\"hovermode\":\"closest\",\"hoverlabel\":{\"align\":\"left\"},\"paper_bgcolor\":\"white\",\"plot_bgcolor\":\"#E5ECF6\",\"polar\":{\"bgcolor\":\"#E5ECF6\",\"angularaxis\":{\"gridcolor\":\"white\",\"linecolor\":\"white\",\"ticks\":\"\"},\"radialaxis\":{\"gridcolor\":\"white\",\"linecolor\":\"white\",\"ticks\":\"\"}},\"ternary\":{\"bgcolor\":\"#E5ECF6\",\"aaxis\":{\"gridcolor\":\"white\",\"linecolor\":\"white\",\"ticks\":\"\"},\"baxis\":{\"gridcolor\":\"white\",\"linecolor\":\"white\",\"ticks\":\"\"},\"caxis\":{\"gridcolor\":\"white\",\"linecolor\":\"white\",\"ticks\":\"\"}},\"coloraxis\":{\"colorbar\":{\"outlinewidth\":0,\"ticks\":\"\"}},\"colorscale\":{\"sequential\":[[0.0,\"#0d0887\"],[0.1111111111111111,\"#46039f\"],[0.2222222222222222,\"#7201a8\"],[0.3333333333333333,\"#9c179e\"],[0.4444444444444444,\"#bd3786\"],[0.5555555555555556,\"#d8576b\"],[0.6666666666666666,\"#ed7953\"],[0.7777777777777778,\"#fb9f3a\"],[0.8888888888888888,\"#fdca26\"],[1.0,\"#f0f921\"]],\"sequentialminus\":[[0.0,\"#0d0887\"],[0.1111111111111111,\"#46039f\"],[0.2222222222222222,\"#7201a8\"],[0.3333333333333333,\"#9c179e\"],[0.4444444444444444,\"#bd3786\"],[0.5555555555555556,\"#d8576b\"],[0.6666666666666666,\"#ed7953\"],[0.7777777777777778,\"#fb9f3a\"],[0.8888888888888888,\"#fdca26\"],[1.0,\"#f0f921\"]],\"diverging\":[[0,\"#8e0152\"],[0.1,\"#c51b7d\"],[0.2,\"#de77ae\"],[0.3,\"#f1b6da\"],[0.4,\"#fde0ef\"],[0.5,\"#f7f7f7\"],[0.6,\"#e6f5d0\"],[0.7,\"#b8e186\"],[0.8,\"#7fbc41\"],[0.9,\"#4d9221\"],[1,\"#276419\"]]},\"xaxis\":{\"gridcolor\":\"white\",\"linecolor\":\"white\",\"ticks\":\"\",\"title\":{\"standoff\":15},\"zerolinecolor\":\"white\",\"automargin\":true,\"zerolinewidth\":2},\"yaxis\":{\"gridcolor\":\"white\",\"linecolor\":\"white\",\"ticks\":\"\",\"title\":{\"standoff\":15},\"zerolinecolor\":\"white\",\"automargin\":true,\"zerolinewidth\":2},\"scene\":{\"xaxis\":{\"backgroundcolor\":\"#E5ECF6\",\"gridcolor\":\"white\",\"linecolor\":\"white\",\"showbackground\":true,\"ticks\":\"\",\"zerolinecolor\":\"white\",\"gridwidth\":2},\"yaxis\":{\"backgroundcolor\":\"#E5ECF6\",\"gridcolor\":\"white\",\"linecolor\":\"white\",\"showbackground\":true,\"ticks\":\"\",\"zerolinecolor\":\"white\",\"gridwidth\":2},\"zaxis\":{\"backgroundcolor\":\"#E5ECF6\",\"gridcolor\":\"white\",\"linecolor\":\"white\",\"showbackground\":true,\"ticks\":\"\",\"zerolinecolor\":\"white\",\"gridwidth\":2}},\"shapedefaults\":{\"line\":{\"color\":\"#2a3f5f\"}},\"annotationdefaults\":{\"arrowcolor\":\"#2a3f5f\",\"arrowhead\":0,\"arrowwidth\":1},\"geo\":{\"bgcolor\":\"white\",\"landcolor\":\"#E5ECF6\",\"subunitcolor\":\"white\",\"showland\":true,\"showlakes\":true,\"lakecolor\":\"white\"},\"title\":{\"x\":0.05},\"mapbox\":{\"style\":\"light\"}}},\"legend\":{\"tracegroupgap\":0},\"title\":{\"text\":\"Total vaccinations per country, grouped by vaccine scheme\"}},                        {\"responsive\": true}                    ).then(function(){\n",
       "                            \n",
       "var gd = document.getElementById('917667cf-ebf9-4308-8110-cf1b41f68a46');\n",
       "var x = new MutationObserver(function (mutations, observer) {{\n",
       "        var display = window.getComputedStyle(gd).display;\n",
       "        if (!display || display === 'none') {{\n",
       "            console.log([gd, 'removed!']);\n",
       "            Plotly.purge(gd);\n",
       "            observer.disconnect();\n",
       "        }}\n",
       "}});\n",
       "\n",
       "// Listen for the removal of the full notebook cells\n",
       "var notebookContainer = gd.closest('#notebook-container');\n",
       "if (notebookContainer) {{\n",
       "    x.observe(notebookContainer, {childList: true});\n",
       "}}\n",
       "\n",
       "// Listen for the clearing of the current output cell\n",
       "var outputEl = gd.closest('.output');\n",
       "if (outputEl) {{\n",
       "    x.observe(outputEl, {childList: true});\n",
       "}}\n",
       "\n",
       "                        })                };                });            </script>        </div>"
      ]
     },
     "metadata": {},
     "output_type": "display_data"
    }
   ],
   "source": [
    "\n",
    "\n",
    "fig = px.treemap(country_vaccine, path = ['Vaccines', 'Country'], values = 'Total vaccinations',\n",
    "                title=\"Total vaccinations per country, grouped by vaccine scheme\")\n",
    "fig.show()\n",
    "\n"
   ]
  },
  {
   "cell_type": "markdown",
   "metadata": {},
   "source": [
    "## Prepare Data for Machine learning"
   ]
  },
  {
   "cell_type": "code",
   "execution_count": 19,
   "metadata": {},
   "outputs": [],
   "source": [
    "df = df.drop(['source_name', 'source_website'],axis=1)"
   ]
  },
  {
   "cell_type": "code",
   "execution_count": 20,
   "metadata": {},
   "outputs": [
    {
     "data": {
      "text/plain": [
       "['country', 'iso_code', 'vaccines']"
      ]
     },
     "execution_count": 20,
     "metadata": {},
     "output_type": "execute_result"
    }
   ],
   "source": [
    "data_column_object = []\n",
    "for column in df.columns:\n",
    "    if df[column].dtype == 'object':\n",
    "        data_column_object.append(column)\n",
    "data_column_object"
   ]
  },
  {
   "cell_type": "code",
   "execution_count": 21,
   "metadata": {},
   "outputs": [],
   "source": [
    "for item in data_column_object:\n",
    "    df[item] = pd.factorize(df[item])[0]\n",
    "    df[item] = df[item].astype('category')"
   ]
  },
  {
   "cell_type": "code",
   "execution_count": 22,
   "metadata": {},
   "outputs": [
    {
     "name": "stdout",
     "output_type": "stream",
     "text": [
      "29939   2021-03-21\n",
      "Name: date, dtype: datetime64[ns]\n"
     ]
    },
    {
     "data": {
      "text/plain": [
       "1622505600000000000"
      ]
     },
     "execution_count": 22,
     "metadata": {},
     "output_type": "execute_result"
    }
   ],
   "source": [
    "\n",
    "a =df.date.sample()\n",
    "print(a)\n",
    "pd.to_datetime('2021-06-01').value\n"
   ]
  },
  {
   "cell_type": "code",
   "execution_count": 23,
   "metadata": {},
   "outputs": [],
   "source": [
    "df['date'] = df['date'].apply(lambda x: x.value)"
   ]
  },
  {
   "cell_type": "code",
   "execution_count": 25,
   "metadata": {},
   "outputs": [
    {
     "data": {
      "text/html": [
       "<div>\n",
       "<style scoped>\n",
       "    .dataframe tbody tr th:only-of-type {\n",
       "        vertical-align: middle;\n",
       "    }\n",
       "\n",
       "    .dataframe tbody tr th {\n",
       "        vertical-align: top;\n",
       "    }\n",
       "\n",
       "    .dataframe thead th {\n",
       "        text-align: right;\n",
       "    }\n",
       "</style>\n",
       "<table border=\"1\" class=\"dataframe\">\n",
       "  <thead>\n",
       "    <tr style=\"text-align: right;\">\n",
       "      <th></th>\n",
       "      <th>country</th>\n",
       "      <th>iso_code</th>\n",
       "      <th>date</th>\n",
       "      <th>total_vaccinations</th>\n",
       "      <th>people_vaccinated</th>\n",
       "      <th>people_fully_vaccinated</th>\n",
       "      <th>daily_vaccinations_raw</th>\n",
       "      <th>daily_vaccinations</th>\n",
       "      <th>total_vaccinations_per_hundred</th>\n",
       "      <th>people_vaccinated_per_hundred</th>\n",
       "      <th>people_fully_vaccinated_per_hundred</th>\n",
       "      <th>daily_vaccinations_per_million</th>\n",
       "      <th>vaccines</th>\n",
       "    </tr>\n",
       "  </thead>\n",
       "  <tbody>\n",
       "    <tr>\n",
       "      <th>0</th>\n",
       "      <td>0</td>\n",
       "      <td>0</td>\n",
       "      <td>1613952000000000000</td>\n",
       "      <td>0.000000e+00</td>\n",
       "      <td>0.000000e+00</td>\n",
       "      <td>3.293973e+06</td>\n",
       "      <td>227366.073989</td>\n",
       "      <td>114971.789486</td>\n",
       "      <td>0.000000</td>\n",
       "      <td>0.000000</td>\n",
       "      <td>12.340698</td>\n",
       "      <td>3426.365969</td>\n",
       "      <td>0</td>\n",
       "    </tr>\n",
       "    <tr>\n",
       "      <th>1</th>\n",
       "      <td>0</td>\n",
       "      <td>0</td>\n",
       "      <td>1614038400000000000</td>\n",
       "      <td>1.200444e+07</td>\n",
       "      <td>5.704551e+06</td>\n",
       "      <td>3.293973e+06</td>\n",
       "      <td>227366.073989</td>\n",
       "      <td>1367.000000</td>\n",
       "      <td>29.283554</td>\n",
       "      <td>19.181574</td>\n",
       "      <td>12.340698</td>\n",
       "      <td>35.000000</td>\n",
       "      <td>0</td>\n",
       "    </tr>\n",
       "    <tr>\n",
       "      <th>2</th>\n",
       "      <td>0</td>\n",
       "      <td>0</td>\n",
       "      <td>1614124800000000000</td>\n",
       "      <td>1.200444e+07</td>\n",
       "      <td>5.704551e+06</td>\n",
       "      <td>3.293973e+06</td>\n",
       "      <td>227366.073989</td>\n",
       "      <td>1367.000000</td>\n",
       "      <td>29.283554</td>\n",
       "      <td>19.181574</td>\n",
       "      <td>12.340698</td>\n",
       "      <td>35.000000</td>\n",
       "      <td>0</td>\n",
       "    </tr>\n",
       "    <tr>\n",
       "      <th>3</th>\n",
       "      <td>0</td>\n",
       "      <td>0</td>\n",
       "      <td>1614211200000000000</td>\n",
       "      <td>1.200444e+07</td>\n",
       "      <td>5.704551e+06</td>\n",
       "      <td>3.293973e+06</td>\n",
       "      <td>227366.073989</td>\n",
       "      <td>1367.000000</td>\n",
       "      <td>29.283554</td>\n",
       "      <td>19.181574</td>\n",
       "      <td>12.340698</td>\n",
       "      <td>35.000000</td>\n",
       "      <td>0</td>\n",
       "    </tr>\n",
       "    <tr>\n",
       "      <th>4</th>\n",
       "      <td>0</td>\n",
       "      <td>0</td>\n",
       "      <td>1614297600000000000</td>\n",
       "      <td>1.200444e+07</td>\n",
       "      <td>5.704551e+06</td>\n",
       "      <td>3.293973e+06</td>\n",
       "      <td>227366.073989</td>\n",
       "      <td>1367.000000</td>\n",
       "      <td>29.283554</td>\n",
       "      <td>19.181574</td>\n",
       "      <td>12.340698</td>\n",
       "      <td>35.000000</td>\n",
       "      <td>0</td>\n",
       "    </tr>\n",
       "    <tr>\n",
       "      <th>...</th>\n",
       "      <td>...</td>\n",
       "      <td>...</td>\n",
       "      <td>...</td>\n",
       "      <td>...</td>\n",
       "      <td>...</td>\n",
       "      <td>...</td>\n",
       "      <td>...</td>\n",
       "      <td>...</td>\n",
       "      <td>...</td>\n",
       "      <td>...</td>\n",
       "      <td>...</td>\n",
       "      <td>...</td>\n",
       "      <td>...</td>\n",
       "    </tr>\n",
       "    <tr>\n",
       "      <th>31235</th>\n",
       "      <td>217</td>\n",
       "      <td>217</td>\n",
       "      <td>1625961600000000000</td>\n",
       "      <td>1.491397e+06</td>\n",
       "      <td>8.959800e+05</td>\n",
       "      <td>5.954170e+05</td>\n",
       "      <td>227366.073989</td>\n",
       "      <td>18598.000000</td>\n",
       "      <td>10.030000</td>\n",
       "      <td>6.030000</td>\n",
       "      <td>4.010000</td>\n",
       "      <td>1251.000000</td>\n",
       "      <td>19</td>\n",
       "    </tr>\n",
       "    <tr>\n",
       "      <th>31236</th>\n",
       "      <td>217</td>\n",
       "      <td>217</td>\n",
       "      <td>1626048000000000000</td>\n",
       "      <td>1.531868e+06</td>\n",
       "      <td>9.263120e+05</td>\n",
       "      <td>6.055560e+05</td>\n",
       "      <td>40471.000000</td>\n",
       "      <td>23205.000000</td>\n",
       "      <td>10.310000</td>\n",
       "      <td>6.230000</td>\n",
       "      <td>4.070000</td>\n",
       "      <td>1561.000000</td>\n",
       "      <td>19</td>\n",
       "    </tr>\n",
       "    <tr>\n",
       "      <th>31237</th>\n",
       "      <td>217</td>\n",
       "      <td>217</td>\n",
       "      <td>1626134400000000000</td>\n",
       "      <td>1.575539e+06</td>\n",
       "      <td>9.556560e+05</td>\n",
       "      <td>6.198830e+05</td>\n",
       "      <td>43671.000000</td>\n",
       "      <td>27567.000000</td>\n",
       "      <td>10.600000</td>\n",
       "      <td>6.430000</td>\n",
       "      <td>4.170000</td>\n",
       "      <td>1855.000000</td>\n",
       "      <td>19</td>\n",
       "    </tr>\n",
       "    <tr>\n",
       "      <th>31238</th>\n",
       "      <td>217</td>\n",
       "      <td>217</td>\n",
       "      <td>1626220800000000000</td>\n",
       "      <td>1.613640e+06</td>\n",
       "      <td>9.887460e+05</td>\n",
       "      <td>6.248940e+05</td>\n",
       "      <td>38101.000000</td>\n",
       "      <td>30698.000000</td>\n",
       "      <td>10.860000</td>\n",
       "      <td>6.650000</td>\n",
       "      <td>4.200000</td>\n",
       "      <td>2065.000000</td>\n",
       "      <td>19</td>\n",
       "    </tr>\n",
       "    <tr>\n",
       "      <th>31239</th>\n",
       "      <td>217</td>\n",
       "      <td>217</td>\n",
       "      <td>1626307200000000000</td>\n",
       "      <td>1.666862e+06</td>\n",
       "      <td>1.036252e+06</td>\n",
       "      <td>6.306100e+05</td>\n",
       "      <td>53222.000000</td>\n",
       "      <td>33326.000000</td>\n",
       "      <td>11.210000</td>\n",
       "      <td>6.970000</td>\n",
       "      <td>4.240000</td>\n",
       "      <td>2242.000000</td>\n",
       "      <td>19</td>\n",
       "    </tr>\n",
       "  </tbody>\n",
       "</table>\n",
       "<p>31240 rows × 13 columns</p>\n",
       "</div>"
      ],
      "text/plain": [
       "      country iso_code                 date  total_vaccinations  \\\n",
       "0           0        0  1613952000000000000        0.000000e+00   \n",
       "1           0        0  1614038400000000000        1.200444e+07   \n",
       "2           0        0  1614124800000000000        1.200444e+07   \n",
       "3           0        0  1614211200000000000        1.200444e+07   \n",
       "4           0        0  1614297600000000000        1.200444e+07   \n",
       "...       ...      ...                  ...                 ...   \n",
       "31235     217      217  1625961600000000000        1.491397e+06   \n",
       "31236     217      217  1626048000000000000        1.531868e+06   \n",
       "31237     217      217  1626134400000000000        1.575539e+06   \n",
       "31238     217      217  1626220800000000000        1.613640e+06   \n",
       "31239     217      217  1626307200000000000        1.666862e+06   \n",
       "\n",
       "       people_vaccinated  people_fully_vaccinated  daily_vaccinations_raw  \\\n",
       "0           0.000000e+00             3.293973e+06           227366.073989   \n",
       "1           5.704551e+06             3.293973e+06           227366.073989   \n",
       "2           5.704551e+06             3.293973e+06           227366.073989   \n",
       "3           5.704551e+06             3.293973e+06           227366.073989   \n",
       "4           5.704551e+06             3.293973e+06           227366.073989   \n",
       "...                  ...                      ...                     ...   \n",
       "31235       8.959800e+05             5.954170e+05           227366.073989   \n",
       "31236       9.263120e+05             6.055560e+05            40471.000000   \n",
       "31237       9.556560e+05             6.198830e+05            43671.000000   \n",
       "31238       9.887460e+05             6.248940e+05            38101.000000   \n",
       "31239       1.036252e+06             6.306100e+05            53222.000000   \n",
       "\n",
       "       daily_vaccinations  total_vaccinations_per_hundred  \\\n",
       "0           114971.789486                        0.000000   \n",
       "1             1367.000000                       29.283554   \n",
       "2             1367.000000                       29.283554   \n",
       "3             1367.000000                       29.283554   \n",
       "4             1367.000000                       29.283554   \n",
       "...                   ...                             ...   \n",
       "31235        18598.000000                       10.030000   \n",
       "31236        23205.000000                       10.310000   \n",
       "31237        27567.000000                       10.600000   \n",
       "31238        30698.000000                       10.860000   \n",
       "31239        33326.000000                       11.210000   \n",
       "\n",
       "       people_vaccinated_per_hundred  people_fully_vaccinated_per_hundred  \\\n",
       "0                           0.000000                            12.340698   \n",
       "1                          19.181574                            12.340698   \n",
       "2                          19.181574                            12.340698   \n",
       "3                          19.181574                            12.340698   \n",
       "4                          19.181574                            12.340698   \n",
       "...                              ...                                  ...   \n",
       "31235                       6.030000                             4.010000   \n",
       "31236                       6.230000                             4.070000   \n",
       "31237                       6.430000                             4.170000   \n",
       "31238                       6.650000                             4.200000   \n",
       "31239                       6.970000                             4.240000   \n",
       "\n",
       "       daily_vaccinations_per_million vaccines  \n",
       "0                         3426.365969        0  \n",
       "1                           35.000000        0  \n",
       "2                           35.000000        0  \n",
       "3                           35.000000        0  \n",
       "4                           35.000000        0  \n",
       "...                               ...      ...  \n",
       "31235                     1251.000000       19  \n",
       "31236                     1561.000000       19  \n",
       "31237                     1855.000000       19  \n",
       "31238                     2065.000000       19  \n",
       "31239                     2242.000000       19  \n",
       "\n",
       "[31240 rows x 13 columns]"
      ]
     },
     "execution_count": 25,
     "metadata": {},
     "output_type": "execute_result"
    }
   ],
   "source": [
    "df"
   ]
  },
  {
   "cell_type": "code",
   "execution_count": 46,
   "metadata": {},
   "outputs": [],
   "source": [
    "x = df[['country', 'date',  'people_vaccinated', 'vaccines', 'daily_vaccinations', 'people_fully_vaccinated']]\n",
    "y = df['total_vaccinations']"
   ]
  },
  {
   "cell_type": "code",
   "execution_count": 47,
   "metadata": {},
   "outputs": [],
   "source": [
    "X = np.asanyarray(x)\n",
    "Y = np.asanyarray(y) "
   ]
  },
  {
   "cell_type": "code",
   "execution_count": 48,
   "metadata": {},
   "outputs": [],
   "source": [
    "from sklearn.model_selection import train_test_split\n",
    "\n",
    "x_train, x_test, y_train, y_test = train_test_split(X, Y, train_size=0.7, random_state=1 )"
   ]
  },
  {
   "cell_type": "code",
   "execution_count": 49,
   "metadata": {},
   "outputs": [],
   "source": [
    "from sklearn.preprocessing import StandardScaler\n",
    "std = StandardScaler()\n",
    "x_train = std.fit_transform(x_train)\n",
    "x_test = std.transform(x_test)"
   ]
  },
  {
   "cell_type": "markdown",
   "metadata": {},
   "source": [
    "## Train your model"
   ]
  },
  {
   "cell_type": "code",
   "execution_count": 50,
   "metadata": {},
   "outputs": [
    {
     "data": {
      "text/html": [
       "<style>#sk-container-id-3 {color: black;background-color: white;}#sk-container-id-3 pre{padding: 0;}#sk-container-id-3 div.sk-toggleable {background-color: white;}#sk-container-id-3 label.sk-toggleable__label {cursor: pointer;display: block;width: 100%;margin-bottom: 0;padding: 0.3em;box-sizing: border-box;text-align: center;}#sk-container-id-3 label.sk-toggleable__label-arrow:before {content: \"▸\";float: left;margin-right: 0.25em;color: #696969;}#sk-container-id-3 label.sk-toggleable__label-arrow:hover:before {color: black;}#sk-container-id-3 div.sk-estimator:hover label.sk-toggleable__label-arrow:before {color: black;}#sk-container-id-3 div.sk-toggleable__content {max-height: 0;max-width: 0;overflow: hidden;text-align: left;background-color: #f0f8ff;}#sk-container-id-3 div.sk-toggleable__content pre {margin: 0.2em;color: black;border-radius: 0.25em;background-color: #f0f8ff;}#sk-container-id-3 input.sk-toggleable__control:checked~div.sk-toggleable__content {max-height: 200px;max-width: 100%;overflow: auto;}#sk-container-id-3 input.sk-toggleable__control:checked~label.sk-toggleable__label-arrow:before {content: \"▾\";}#sk-container-id-3 div.sk-estimator input.sk-toggleable__control:checked~label.sk-toggleable__label {background-color: #d4ebff;}#sk-container-id-3 div.sk-label input.sk-toggleable__control:checked~label.sk-toggleable__label {background-color: #d4ebff;}#sk-container-id-3 input.sk-hidden--visually {border: 0;clip: rect(1px 1px 1px 1px);clip: rect(1px, 1px, 1px, 1px);height: 1px;margin: -1px;overflow: hidden;padding: 0;position: absolute;width: 1px;}#sk-container-id-3 div.sk-estimator {font-family: monospace;background-color: #f0f8ff;border: 1px dotted black;border-radius: 0.25em;box-sizing: border-box;margin-bottom: 0.5em;}#sk-container-id-3 div.sk-estimator:hover {background-color: #d4ebff;}#sk-container-id-3 div.sk-parallel-item::after {content: \"\";width: 100%;border-bottom: 1px solid gray;flex-grow: 1;}#sk-container-id-3 div.sk-label:hover label.sk-toggleable__label {background-color: #d4ebff;}#sk-container-id-3 div.sk-serial::before {content: \"\";position: absolute;border-left: 1px solid gray;box-sizing: border-box;top: 0;bottom: 0;left: 50%;z-index: 0;}#sk-container-id-3 div.sk-serial {display: flex;flex-direction: column;align-items: center;background-color: white;padding-right: 0.2em;padding-left: 0.2em;position: relative;}#sk-container-id-3 div.sk-item {position: relative;z-index: 1;}#sk-container-id-3 div.sk-parallel {display: flex;align-items: stretch;justify-content: center;background-color: white;position: relative;}#sk-container-id-3 div.sk-item::before, #sk-container-id-3 div.sk-parallel-item::before {content: \"\";position: absolute;border-left: 1px solid gray;box-sizing: border-box;top: 0;bottom: 0;left: 50%;z-index: -1;}#sk-container-id-3 div.sk-parallel-item {display: flex;flex-direction: column;z-index: 1;position: relative;background-color: white;}#sk-container-id-3 div.sk-parallel-item:first-child::after {align-self: flex-end;width: 50%;}#sk-container-id-3 div.sk-parallel-item:last-child::after {align-self: flex-start;width: 50%;}#sk-container-id-3 div.sk-parallel-item:only-child::after {width: 0;}#sk-container-id-3 div.sk-dashed-wrapped {border: 1px dashed gray;margin: 0 0.4em 0.5em 0.4em;box-sizing: border-box;padding-bottom: 0.4em;background-color: white;}#sk-container-id-3 div.sk-label label {font-family: monospace;font-weight: bold;display: inline-block;line-height: 1.2em;}#sk-container-id-3 div.sk-label-container {text-align: center;}#sk-container-id-3 div.sk-container {/* jupyter's `normalize.less` sets `[hidden] { display: none; }` but bootstrap.min.css set `[hidden] { display: none !important; }` so we also need the `!important` here to be able to override the default hidden behavior on the sphinx rendered scikit-learn.org. See: https://github.com/scikit-learn/scikit-learn/issues/21755 */display: inline-block !important;position: relative;}#sk-container-id-3 div.sk-text-repr-fallback {display: none;}</style><div id=\"sk-container-id-3\" class=\"sk-top-container\"><div class=\"sk-text-repr-fallback\"><pre>LinearRegression()</pre><b>In a Jupyter environment, please rerun this cell to show the HTML representation or trust the notebook. <br />On GitHub, the HTML representation is unable to render, please try loading this page with nbviewer.org.</b></div><div class=\"sk-container\" hidden><div class=\"sk-item\"><div class=\"sk-estimator sk-toggleable\"><input class=\"sk-toggleable__control sk-hidden--visually\" id=\"sk-estimator-id-3\" type=\"checkbox\" checked><label for=\"sk-estimator-id-3\" class=\"sk-toggleable__label sk-toggleable__label-arrow\">LinearRegression</label><div class=\"sk-toggleable__content\"><pre>LinearRegression()</pre></div></div></div></div></div>"
      ],
      "text/plain": [
       "LinearRegression()"
      ]
     },
     "execution_count": 50,
     "metadata": {},
     "output_type": "execute_result"
    }
   ],
   "source": [
    "from sklearn.linear_model import LinearRegression\n",
    "rg_model = LinearRegression()\n",
    "rg_model.fit(x_train, y_train)"
   ]
  },
  {
   "cell_type": "markdown",
   "metadata": {},
   "source": [
    "## Test the model and show the metrics"
   ]
  },
  {
   "cell_type": "code",
   "execution_count": 51,
   "metadata": {},
   "outputs": [
    {
     "name": "stdout",
     "output_type": "stream",
     "text": [
      "r2 score for train is :  0.8329278005024988\n",
      "mean_absolute_error for train is :  5544562.668586923\n",
      "mean_squared_error for train is :  316291129307243.44\n",
      "------------------------------\n",
      "r2 score for test is :  0.8186454847148973\n",
      "mean_absolute_error for test is :  5623818.9905007165\n",
      "mean_squared_error for test is :  428815293748924.44\n"
     ]
    }
   ],
   "source": [
    "from sklearn.metrics import r2_score, mean_absolute_error, mean_squared_error\n",
    "\n",
    "# for train\n",
    "train_predict = rg_model.predict(x_train)\n",
    "\n",
    "print('r2 score for train is : ', r2_score(train_predict, y_train))\n",
    "print('mean_absolute_error for train is : ', mean_absolute_error(train_predict, y_train))\n",
    "print('mean_squared_error for train is : ', mean_squared_error(train_predict, y_train))\n",
    "#------------------\n",
    "print(\"-\"*30)\n",
    "# for test\n",
    "\n",
    "test_predict = rg_model.predict(x_test)\n",
    "\n",
    "print('r2 score for test is : ', r2_score(test_predict, y_test))\n",
    "print('mean_absolute_error for test is : ', mean_absolute_error(test_predict, y_test))\n",
    "print('mean_squared_error for test is : ', mean_squared_error(test_predict, y_test))"
   ]
  },
  {
   "cell_type": "markdown",
   "metadata": {},
   "source": [
    "## Save Model"
   ]
  },
  {
   "cell_type": "code",
   "execution_count": 52,
   "metadata": {},
   "outputs": [
    {
     "data": {
      "text/plain": [
       "['models_trained\\\\ rg_model.pkl']"
      ]
     },
     "execution_count": 52,
     "metadata": {},
     "output_type": "execute_result"
    }
   ],
   "source": [
    "from joblib import dump\n",
    "dump(rg_model, 'models_trained\\ rg_model.pkl')"
   ]
  },
  {
   "cell_type": "markdown",
   "metadata": {},
   "source": [
    "## Send us the Result (Maktabkhoone)"
   ]
  },
  {
   "cell_type": "markdown",
   "metadata": {},
   "source": []
  }
 ],
 "metadata": {
  "kernelspec": {
   "display_name": "Python 3 (ipykernel)",
   "language": "python",
   "name": "python3"
  },
  "language_info": {
   "codemirror_mode": {
    "name": "ipython",
    "version": 3
   },
   "file_extension": ".py",
   "mimetype": "text/x-python",
   "name": "python",
   "nbconvert_exporter": "python",
   "pygments_lexer": "ipython3",
   "version": "3.10.9"
  }
 },
 "nbformat": 4,
 "nbformat_minor": 2
}
